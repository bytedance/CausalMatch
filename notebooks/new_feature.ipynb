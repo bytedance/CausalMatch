{
 "cells": [
  {
   "cell_type": "code",
   "execution_count": 1,
   "id": "74402b0f",
   "metadata": {},
   "outputs": [
    {
     "name": "stdout",
     "output_type": "stream",
     "text": [
      "['/Library/Frameworks/Python.framework/Versions/3.12/lib/python312.zip', '/Library/Frameworks/Python.framework/Versions/3.12/lib/python3.12', '/Library/Frameworks/Python.framework/Versions/3.12/lib/python3.12/lib-dynload', '', '/Users/bytedance/Library/Python/3.12/lib/python/site-packages', '/Library/Frameworks/Python.framework/Versions/3.12/lib/python3.12/site-packages']\n",
      "current version is:  0.0.2\n",
      "/usr/local/bin/python3.12\n",
      "3.12.2 (v3.12.2:6abddd9f6a, Feb  6 2024, 17:02:06) [Clang 13.0.0 (clang-1300.0.29.30)]\n",
      "sys.version_info(major=3, minor=12, micro=2, releaselevel='final', serial=0)\n"
     ]
    }
   ],
   "source": [
    "import sys\n",
    "print(sys.path)\n",
    "sys.path.append('/Users/bytedance/PycharmProjects/github/CausalMatch')\n",
    "\n",
    "import causalmatch as causalmatch\n",
    "from causalmatch import matching,gen_test_data\n",
    "\n",
    "print('current version is: ',causalmatch.__version__)\n",
    "\n",
    "import sys\n",
    "print(sys.executable)\n",
    "print(sys.version)\n",
    "print(sys.version_info)\n",
    "\n",
    "import pandas as pd\n",
    "import numpy as np\n",
    "import statsmodels.api as sm\n",
    "from sklearn.linear_model import LogisticRegression\n",
    "from sklearn.svm import SVC\n",
    "from sklearn.naive_bayes import GaussianNB\n",
    "from sklearn.naive_bayes import MultinomialNB\n",
    "from sklearn.neighbors import KNeighborsClassifier\n",
    "from sklearn.tree import DecisionTreeClassifier\n",
    "from sklearn.ensemble import RandomForestClassifier\n",
    "from sklearn.ensemble import GradientBoostingClassifier\n",
    "from lightgbm import LGBMClassifier\n",
    "from xgboost import XGBClassifier\n",
    "from sklearn.model_selection import train_test_split\n",
    "from sklearn.metrics import recall_score,roc_auc_score,f1_score\n",
    "import statsmodels.api as sm"
   ]
  },
  {
   "cell_type": "markdown",
   "id": "d1805fe7",
   "metadata": {},
   "source": [
    "# 20241028"
   ]
  },
  {
   "cell_type": "code",
   "execution_count": 2,
   "id": "b668d054",
   "metadata": {},
   "outputs": [],
   "source": [
    "df, rand_continuous, rand_true_param, param_te , rand_treatment, rand_error = gen_test_data(n = 10000, c_ratio=0.5)\n",
    "X = ['c_1', 'c_2', 'c_3', 'd_1', 'gender']\n",
    "y = ['y', 'y2']\n",
    "id = 'user_id'\n",
    "\n",
    "# treatment variable has to be a 0/1 dummy variable\n",
    "# if is string, please convert to a 0/1 int input\n",
    "T = 'treatment'"
   ]
  },
  {
   "cell_type": "code",
   "execution_count": 3,
   "id": "e86a7ffa",
   "metadata": {},
   "outputs": [
    {
     "name": "stdout",
     "output_type": "stream",
     "text": [
      "             Robustness Check Output Table for Dep. Variable y              \n",
      "============================================================================\n",
      "                                                            coef    P>|t|   \n",
      "  Average Treatment Effect:                                 0.47     0.00%  \n",
      "                                                                            \n",
      "  1. Total % of obs remained:                            101.94%      Pass  \n",
      "   -- Treated % obs remained:                            100.00%      Pass  \n",
      "   -- Control % obs remained:                            103.96%      Pass  \n",
      "      -- The most repeated times of a control obs:            84         -  \n",
      "  2. Sensitivity test result, Gamma statistics               1.5      Pass  \n",
      "  3. Placebo Test Result conf. interval              -1.48,2.14,      Fail  \n"
     ]
    }
   ],
   "source": [
    "# -------------------------------------------------------- #\n",
    "# STEP 1: initialize matching object\n",
    "match_obj = matching(data = df,\n",
    "                     T = T,\n",
    "                     y = ['y'],\n",
    "                     X = X,\n",
    "                     id = id)\n",
    "# -------------------------------------------------------- #\n",
    "\n",
    "# STEP 2: propensity score matching\n",
    "# match_obj.psm(n_neighbors = 1,  # number of neighbors\n",
    "#               model = GradientBoostingClassifier(), # p-score model\n",
    "#               trim_percentage = 0.1, # trim X% of pscore, if equals 0.1 then trim min 5% and max 5%\n",
    "#               caliper = 0.1,\n",
    "#               verbose = True) # p-score diff must be smaller than or equal to the caliper value\n",
    "\n",
    "# if you with to keep all matched observations\n",
    "match_obj.psm(n_neighbors = 1, \n",
    "              model = GradientBoostingClassifier(), \n",
    "              trim_percentage = 0, \n",
    "              caliper = 1) \n",
    "\n",
    "gamma = [1,1.5,2,2.5,3]\n",
    "match_obj.robust_check(gamma)\n"
   ]
  },
  {
   "cell_type": "code",
   "execution_count": null,
   "id": "4493d000",
   "metadata": {},
   "outputs": [],
   "source": []
  },
  {
   "cell_type": "code",
   "execution_count": null,
   "id": "cd1af2e0",
   "metadata": {},
   "outputs": [],
   "source": []
  },
  {
   "cell_type": "code",
   "execution_count": null,
   "id": "f489b087",
   "metadata": {},
   "outputs": [],
   "source": []
  },
  {
   "cell_type": "code",
   "execution_count": null,
   "id": "6e1349a4",
   "metadata": {},
   "outputs": [],
   "source": []
  },
  {
   "cell_type": "code",
   "execution_count": null,
   "id": "72edc696",
   "metadata": {},
   "outputs": [],
   "source": []
  },
  {
   "cell_type": "code",
   "execution_count": null,
   "id": "41817651",
   "metadata": {},
   "outputs": [],
   "source": []
  },
  {
   "cell_type": "code",
   "execution_count": null,
   "id": "cfcf7dd3",
   "metadata": {},
   "outputs": [],
   "source": []
  },
  {
   "cell_type": "code",
   "execution_count": null,
   "id": "cb57d38f",
   "metadata": {},
   "outputs": [],
   "source": []
  },
  {
   "cell_type": "code",
   "execution_count": null,
   "id": "2799a2a8",
   "metadata": {},
   "outputs": [],
   "source": []
  },
  {
   "cell_type": "code",
   "execution_count": null,
   "id": "dc4e9f12",
   "metadata": {},
   "outputs": [],
   "source": []
  },
  {
   "cell_type": "code",
   "execution_count": null,
   "id": "32b7c2f7",
   "metadata": {},
   "outputs": [],
   "source": []
  },
  {
   "cell_type": "code",
   "execution_count": null,
   "id": "04e31099",
   "metadata": {},
   "outputs": [],
   "source": []
  },
  {
   "cell_type": "code",
   "execution_count": 2,
   "id": "ce0c7914",
   "metadata": {},
   "outputs": [
    {
     "name": "stdout",
     "output_type": "stream",
     "text": [
      "0.5\n",
      "-0.78\n",
      "0.45\n",
      "0.44\n",
      "0.47\n"
     ]
    }
   ],
   "source": [
    "df, rand_continuous, rand_true_param, param_te , rand_treatment, rand_error = gen_test_data(n = 10000, c_ratio=0.5)\n",
    "df.head()\n",
    "\n",
    "X_1 = ['c_1']\n",
    "X_2 = ['d_1']\n",
    "X_3 = ['d_1', 'd_3']\n",
    "X_4 = ['c_1', 'c_2', 'c_3']\n",
    "X_5 = ['c_1', 'd_1', 'd_3']\n",
    "\n",
    "y  = ['y']\n",
    "id = 'user_id'\n",
    "T  = 'treatment'\n",
    "X_all = [X_1, X_2, X_3, X_4, X_5]\n",
    "\n",
    "for X_i in X_all:\n",
    "    match_obj = matching(data = df, T = T, X = X_i, id = id, y = y)\n",
    "\n",
    "    match_obj.psm(n_neighbors = 1, model = LogisticRegression(), trim_percentage = 0.1, caliper = 0.1)\n",
    "    match_obj.ate()\n",
    "\n",
    "    res_post, res_pre = match_obj.balance_check(include_discrete = True)\n",
    "\n",
    "    test_1 = [res_post['Mean Treated post-match'].sum(),res_post['Mean Control post-match'].sum()]\n",
    "    test_2 = [res_pre['Mean Treated pre-match'].sum(), res_pre['Mean Control pre-match'].sum()]\n",
    "    test_3 = match_obj.ate()\n",
    "    test_3a = np.round(test_3['ate'].values[0],2)\n",
    "        \n",
    "    print(test_3a)"
   ]
  },
  {
   "cell_type": "code",
   "execution_count": null,
   "id": "3343925c",
   "metadata": {},
   "outputs": [],
   "source": []
  },
  {
   "cell_type": "code",
   "execution_count": null,
   "id": "089380b6",
   "metadata": {},
   "outputs": [],
   "source": []
  },
  {
   "cell_type": "code",
   "execution_count": null,
   "id": "f64edbe9",
   "metadata": {},
   "outputs": [],
   "source": []
  },
  {
   "cell_type": "code",
   "execution_count": null,
   "id": "b7aaa1d3",
   "metadata": {},
   "outputs": [],
   "source": []
  },
  {
   "cell_type": "code",
   "execution_count": 20,
   "id": "abf101c6",
   "metadata": {},
   "outputs": [
    {
     "data": {
      "text/html": [
       "<div>\n",
       "<style scoped>\n",
       "    .dataframe tbody tr th:only-of-type {\n",
       "        vertical-align: middle;\n",
       "    }\n",
       "\n",
       "    .dataframe tbody tr th {\n",
       "        vertical-align: top;\n",
       "    }\n",
       "\n",
       "    .dataframe thead th {\n",
       "        text-align: right;\n",
       "    }\n",
       "</style>\n",
       "<table border=\"1\" class=\"dataframe\">\n",
       "  <thead>\n",
       "    <tr style=\"text-align: right;\">\n",
       "      <th></th>\n",
       "      <th>y</th>\n",
       "      <th>ate</th>\n",
       "      <th>p_val</th>\n",
       "    </tr>\n",
       "  </thead>\n",
       "  <tbody>\n",
       "    <tr>\n",
       "      <th>0</th>\n",
       "      <td>y</td>\n",
       "      <td>0.513355</td>\n",
       "      <td>8.394101e-29</td>\n",
       "    </tr>\n",
       "  </tbody>\n",
       "</table>\n",
       "</div>"
      ],
      "text/plain": [
       "   y       ate         p_val\n",
       "0  y  0.513355  8.394101e-29"
      ]
     },
     "execution_count": 20,
     "metadata": {},
     "output_type": "execute_result"
    }
   ],
   "source": [
    "match_obj = matching(data = df, T = T, X = X_1, id = id, y = y)\n",
    "match_obj.psm(n_neighbors = 1, model = LogisticRegression(), trim_percentage = 0, caliper = 1)\n",
    "match_obj.ate()"
   ]
  },
  {
   "cell_type": "code",
   "execution_count": 21,
   "id": "f867639e",
   "metadata": {},
   "outputs": [],
   "source": [
    "X_balance_check, df_post_validate, df_pre_validate = data_process_bc(match_obj, True)\n",
    "\n",
    "T      = match_obj.T\n",
    "method = match_obj.method\n",
    "y      = match_obj.y\n",
    "\n",
    "df_post_validate_y, weight = data_process_ate(match_obj, df_post_validate)\n",
    "dict_ate = {\"y\": [], \"ate\": [], \"p_val\": []}\n",
    "\n",
    "x = df_post_validate_y[T]\n",
    "x = sm.add_constant(x)\n",
    "\n",
    "y_i = y[0]\n",
    "Y = df_post_validate_y[y_i].values\n",
    "\n",
    "model = sm.OLS(Y, x)\n",
    "results = model.fit()\n",
    "\n",
    "dict_ate['y'].append(y_i)\n",
    "dict_ate['ate'].append(results.params[T])\n",
    "dict_ate['p_val'].append(results.pvalues[T])\n",
    "    \n",
    "df_param = pd.DataFrame(dict_ate)"
   ]
  },
  {
   "cell_type": "code",
   "execution_count": 22,
   "id": "c93a75fc",
   "metadata": {},
   "outputs": [
    {
     "data": {
      "text/plain": [
       "8652    12\n",
       "7591    11\n",
       "8988     9\n",
       "890      8\n",
       "2635     8\n",
       "        ..\n",
       "6993     1\n",
       "5629     1\n",
       "7882     1\n",
       "9309     1\n",
       "7391     1\n",
       "Name: user_id, Length: 2756, dtype: int64"
      ]
     },
     "execution_count": 22,
     "metadata": {},
     "output_type": "execute_result"
    }
   ],
   "source": [
    "df_post_validate[df_post_validate['treatment']==0]['user_id'].value_counts()"
   ]
  },
  {
   "cell_type": "code",
   "execution_count": 24,
   "id": "bf94ea87",
   "metadata": {},
   "outputs": [
    {
     "data": {
      "text/plain": [
       "d_1    object\n",
       "d_3    object\n",
       "dtype: object"
      ]
     },
     "execution_count": 24,
     "metadata": {},
     "output_type": "execute_result"
    }
   ],
   "source": [
    "\n",
    "df[X_3].dtypes\n",
    "\n",
    "\n"
   ]
  },
  {
   "cell_type": "code",
   "execution_count": 25,
   "id": "c5703ef5",
   "metadata": {},
   "outputs": [
    {
     "data": {
      "text/plain": [
       "array([[3.73012225e-01, 4.47996825e-01, 1.29440680e-01],\n",
       "       [8.59878707e-01, 8.20388363e-01, 3.52053539e-01],\n",
       "       [2.28887304e-01, 7.76783751e-01, 5.94783589e-01],\n",
       "       ...,\n",
       "       [1.17296364e-01, 4.51568702e-01, 2.15496503e-04],\n",
       "       [4.89518874e-01, 9.49239564e-01, 2.73256016e-01],\n",
       "       [8.15383174e-01, 5.28709272e-01, 6.10985008e-01]])"
      ]
     },
     "execution_count": 25,
     "metadata": {},
     "output_type": "execute_result"
    }
   ],
   "source": [
    "rand_continuous"
   ]
  },
  {
   "cell_type": "code",
   "execution_count": null,
   "id": "f54e2916",
   "metadata": {},
   "outputs": [],
   "source": []
  },
  {
   "cell_type": "code",
   "execution_count": null,
   "id": "661f1c50",
   "metadata": {},
   "outputs": [],
   "source": []
  },
  {
   "cell_type": "code",
   "execution_count": null,
   "id": "fe656001",
   "metadata": {},
   "outputs": [],
   "source": []
  },
  {
   "cell_type": "code",
   "execution_count": 58,
   "id": "aa42d885",
   "metadata": {},
   "outputs": [
    {
     "data": {
      "text/html": [
       "<div>\n",
       "<style scoped>\n",
       "    .dataframe tbody tr th:only-of-type {\n",
       "        vertical-align: middle;\n",
       "    }\n",
       "\n",
       "    .dataframe tbody tr th {\n",
       "        vertical-align: top;\n",
       "    }\n",
       "\n",
       "    .dataframe thead th {\n",
       "        text-align: right;\n",
       "    }\n",
       "</style>\n",
       "<table border=\"1\" class=\"dataframe\">\n",
       "  <thead>\n",
       "    <tr style=\"text-align: right;\">\n",
       "      <th></th>\n",
       "      <th>const</th>\n",
       "      <th>treatment</th>\n",
       "    </tr>\n",
       "  </thead>\n",
       "  <tbody>\n",
       "    <tr>\n",
       "      <th>0</th>\n",
       "      <td>1.0</td>\n",
       "      <td>1.0</td>\n",
       "    </tr>\n",
       "    <tr>\n",
       "      <th>1</th>\n",
       "      <td>1.0</td>\n",
       "      <td>1.0</td>\n",
       "    </tr>\n",
       "    <tr>\n",
       "      <th>2</th>\n",
       "      <td>1.0</td>\n",
       "      <td>1.0</td>\n",
       "    </tr>\n",
       "    <tr>\n",
       "      <th>3</th>\n",
       "      <td>1.0</td>\n",
       "      <td>1.0</td>\n",
       "    </tr>\n",
       "    <tr>\n",
       "      <th>4</th>\n",
       "      <td>1.0</td>\n",
       "      <td>1.0</td>\n",
       "    </tr>\n",
       "    <tr>\n",
       "      <th>...</th>\n",
       "      <td>...</td>\n",
       "      <td>...</td>\n",
       "    </tr>\n",
       "    <tr>\n",
       "      <th>10189</th>\n",
       "      <td>1.0</td>\n",
       "      <td>0.0</td>\n",
       "    </tr>\n",
       "    <tr>\n",
       "      <th>10190</th>\n",
       "      <td>1.0</td>\n",
       "      <td>0.0</td>\n",
       "    </tr>\n",
       "    <tr>\n",
       "      <th>10191</th>\n",
       "      <td>1.0</td>\n",
       "      <td>0.0</td>\n",
       "    </tr>\n",
       "    <tr>\n",
       "      <th>10192</th>\n",
       "      <td>1.0</td>\n",
       "      <td>0.0</td>\n",
       "    </tr>\n",
       "    <tr>\n",
       "      <th>10193</th>\n",
       "      <td>1.0</td>\n",
       "      <td>0.0</td>\n",
       "    </tr>\n",
       "  </tbody>\n",
       "</table>\n",
       "<p>10194 rows × 2 columns</p>\n",
       "</div>"
      ],
      "text/plain": [
       "       const  treatment\n",
       "0        1.0        1.0\n",
       "1        1.0        1.0\n",
       "2        1.0        1.0\n",
       "3        1.0        1.0\n",
       "4        1.0        1.0\n",
       "...      ...        ...\n",
       "10189    1.0        0.0\n",
       "10190    1.0        0.0\n",
       "10191    1.0        0.0\n",
       "10192    1.0        0.0\n",
       "10193    1.0        0.0\n",
       "\n",
       "[10194 rows x 2 columns]"
      ]
     },
     "execution_count": 58,
     "metadata": {},
     "output_type": "execute_result"
    }
   ],
   "source": [
    "x"
   ]
  },
  {
   "cell_type": "code",
   "execution_count": null,
   "id": "53dacd05",
   "metadata": {},
   "outputs": [],
   "source": []
  },
  {
   "cell_type": "code",
   "execution_count": null,
   "id": "28c5ca2c",
   "metadata": {},
   "outputs": [],
   "source": []
  },
  {
   "cell_type": "code",
   "execution_count": null,
   "id": "2eb88b88",
   "metadata": {},
   "outputs": [],
   "source": []
  },
  {
   "cell_type": "code",
   "execution_count": null,
   "id": "6bb3d78a",
   "metadata": {},
   "outputs": [],
   "source": []
  },
  {
   "cell_type": "code",
   "execution_count": null,
   "id": "a322cd19",
   "metadata": {},
   "outputs": [],
   "source": []
  },
  {
   "cell_type": "code",
   "execution_count": null,
   "id": "a960a5b6",
   "metadata": {},
   "outputs": [],
   "source": []
  },
  {
   "cell_type": "code",
   "execution_count": null,
   "id": "f2c43453",
   "metadata": {},
   "outputs": [],
   "source": []
  },
  {
   "cell_type": "code",
   "execution_count": null,
   "id": "e96240e6",
   "metadata": {},
   "outputs": [],
   "source": []
  },
  {
   "cell_type": "code",
   "execution_count": null,
   "id": "3f5363cd",
   "metadata": {},
   "outputs": [],
   "source": []
  },
  {
   "cell_type": "code",
   "execution_count": null,
   "id": "cfe4c829",
   "metadata": {},
   "outputs": [],
   "source": []
  },
  {
   "cell_type": "code",
   "execution_count": null,
   "id": "6ee46970",
   "metadata": {},
   "outputs": [],
   "source": []
  },
  {
   "cell_type": "code",
   "execution_count": null,
   "id": "a312c722",
   "metadata": {},
   "outputs": [],
   "source": []
  },
  {
   "cell_type": "code",
   "execution_count": null,
   "id": "2a45ddbc",
   "metadata": {},
   "outputs": [],
   "source": []
  },
  {
   "cell_type": "code",
   "execution_count": 21,
   "id": "251fbb26",
   "metadata": {},
   "outputs": [
    {
     "data": {
      "text/plain": [
       "[2.2399, 2.2389]"
      ]
     },
     "execution_count": 21,
     "metadata": {},
     "output_type": "execute_result"
    }
   ],
   "source": []
  },
  {
   "cell_type": "code",
   "execution_count": 20,
   "id": "884cbd1e",
   "metadata": {},
   "outputs": [
    {
     "data": {
      "text/plain": [
       "[0.4951, 0.4964]"
      ]
     },
     "execution_count": 20,
     "metadata": {},
     "output_type": "execute_result"
    }
   ],
   "source": [
    "test_1 = [res_post.loc[0,'Mean Treated post-match'],res_post.loc[0,'Mean Control post-match']]\n",
    "test_1"
   ]
  },
  {
   "cell_type": "code",
   "execution_count": 22,
   "id": "4eebf326",
   "metadata": {},
   "outputs": [],
   "source": [
    "np.testing.assert_almost_equal(test_1, [2.2399, 2.2389])"
   ]
  },
  {
   "cell_type": "code",
   "execution_count": null,
   "id": "df365642",
   "metadata": {},
   "outputs": [],
   "source": []
  },
  {
   "cell_type": "code",
   "execution_count": null,
   "id": "73cc75f4",
   "metadata": {},
   "outputs": [],
   "source": []
  },
  {
   "cell_type": "code",
   "execution_count": null,
   "id": "5c9d661b",
   "metadata": {},
   "outputs": [],
   "source": []
  },
  {
   "cell_type": "code",
   "execution_count": null,
   "id": "eeac7342",
   "metadata": {},
   "outputs": [],
   "source": []
  },
  {
   "cell_type": "code",
   "execution_count": null,
   "id": "58979029",
   "metadata": {},
   "outputs": [],
   "source": []
  },
  {
   "cell_type": "code",
   "execution_count": null,
   "id": "05a17352",
   "metadata": {},
   "outputs": [],
   "source": []
  },
  {
   "cell_type": "code",
   "execution_count": 22,
   "id": "a1fac42d",
   "metadata": {},
   "outputs": [],
   "source": [
    "\n",
    "import numpy as np\n",
    "import unittest\n",
    "from sklearn.preprocessing import PolynomialFeatures\n",
    "from sklearn.linear_model import LinearRegression\n",
    "from econml.dml import LinearDML\n",
    "from econml.inference import BootstrapInference\n",
    "\n",
    "\n",
    "class TestATE(unittest.TestCase):\n",
    "\n",
    "    @classmethod\n",
    "    def test_ate_inference(self):\n",
    "        \"\"\"Test the ate inference results.\"\"\"\n",
    "        df, rand_continuous, rand_true_param, param_te , rand_treatment, rand_error = gen_test_data(n = 10000, c_ratio=0.5)\n",
    "\n",
    "        return \n",
    "\n",
    "        "
   ]
  },
  {
   "cell_type": "code",
   "execution_count": 26,
   "id": "03067840",
   "metadata": {},
   "outputs": [
    {
     "ename": "AttributeError",
     "evalue": "'tuple' object has no attribute 'head'",
     "output_type": "error",
     "traceback": [
      "\u001b[0;31m---------------------------------------------------------------------------\u001b[0m",
      "\u001b[0;31mAttributeError\u001b[0m                            Traceback (most recent call last)",
      "Cell \u001b[0;32mIn[26], line 2\u001b[0m\n\u001b[1;32m      1\u001b[0m df \u001b[38;5;241m=\u001b[39m gen_test_data(n \u001b[38;5;241m=\u001b[39m \u001b[38;5;241m10000\u001b[39m, c_ratio\u001b[38;5;241m=\u001b[39m\u001b[38;5;241m0.5\u001b[39m)\n\u001b[0;32m----> 2\u001b[0m \u001b[43mdf\u001b[49m\u001b[38;5;241;43m.\u001b[39;49m\u001b[43mhead\u001b[49m()\n\u001b[1;32m      5\u001b[0m X \u001b[38;5;241m=\u001b[39m [\u001b[38;5;124m'\u001b[39m\u001b[38;5;124mc_1\u001b[39m\u001b[38;5;124m'\u001b[39m, \u001b[38;5;124m'\u001b[39m\u001b[38;5;124mc_2\u001b[39m\u001b[38;5;124m'\u001b[39m, \u001b[38;5;124m'\u001b[39m\u001b[38;5;124mc_3\u001b[39m\u001b[38;5;124m'\u001b[39m, \u001b[38;5;124m'\u001b[39m\u001b[38;5;124md_1\u001b[39m\u001b[38;5;124m'\u001b[39m, \u001b[38;5;124m'\u001b[39m\u001b[38;5;124mgender\u001b[39m\u001b[38;5;124m'\u001b[39m]\n\u001b[1;32m      6\u001b[0m y \u001b[38;5;241m=\u001b[39m [\u001b[38;5;124m'\u001b[39m\u001b[38;5;124my\u001b[39m\u001b[38;5;124m'\u001b[39m, \u001b[38;5;124m'\u001b[39m\u001b[38;5;124my2\u001b[39m\u001b[38;5;124m'\u001b[39m]\n",
      "\u001b[0;31mAttributeError\u001b[0m: 'tuple' object has no attribute 'head'"
     ]
    }
   ],
   "source": []
  },
  {
   "cell_type": "code",
   "execution_count": 25,
   "id": "678ebdcc",
   "metadata": {},
   "outputs": [
    {
     "data": {
      "text/plain": [
       "(array([[-1.51570586,  0.22780856,  0.2809105 ],\n",
       "        [ 1.17477854,  2.48608502, -0.16033881],\n",
       "        [ 1.06269697, -0.5773168 ,  1.10592052],\n",
       "        ...,\n",
       "        [ 1.11538882,  0.69876546, -0.38595966],\n",
       "        [-1.34520417,  0.09307752,  1.86630958],\n",
       "        [ 1.08859436,  1.00836284,  0.78456899]]),\n",
       " array([[1, 1],\n",
       "        [0, 1],\n",
       "        [0, 1],\n",
       "        ...,\n",
       "        [1, 1],\n",
       "        [0, 0],\n",
       "        [1, 0]]),\n",
       " array([[0.69646919, 0.28613933, 0.22685145],\n",
       "        [0.55131477, 0.71946897, 0.42310646],\n",
       "        [0.9807642 , 0.68482974, 0.4809319 ],\n",
       "        ...,\n",
       "        [0.50669599, 0.37539443, 0.50405586],\n",
       "        [0.26927543, 0.61011736, 0.6219864 ],\n",
       "        [0.20891734, 0.56747224, 0.4452157 ]]))"
      ]
     },
     "execution_count": 25,
     "metadata": {},
     "output_type": "execute_result"
    }
   ],
   "source": [
    "TestATE.setUpClass()\n",
    "TestATE.test_ate_inference()"
   ]
  },
  {
   "cell_type": "code",
   "execution_count": null,
   "id": "f7844c55",
   "metadata": {},
   "outputs": [],
   "source": []
  },
  {
   "cell_type": "code",
   "execution_count": null,
   "id": "01959bd2",
   "metadata": {},
   "outputs": [],
   "source": []
  },
  {
   "cell_type": "code",
   "execution_count": null,
   "id": "5c1f381e",
   "metadata": {},
   "outputs": [],
   "source": []
  },
  {
   "cell_type": "code",
   "execution_count": 16,
   "id": "805f2f6c",
   "metadata": {},
   "outputs": [
    {
     "data": {
      "text/plain": [
       "<__main__.TestATEInference testMethod=runTest>"
      ]
     },
     "execution_count": 16,
     "metadata": {},
     "output_type": "execute_result"
    }
   ],
   "source": [
    "TestATEInference()"
   ]
  },
  {
   "cell_type": "code",
   "execution_count": null,
   "id": "b0fbda2d",
   "metadata": {},
   "outputs": [],
   "source": []
  },
  {
   "cell_type": "code",
   "execution_count": null,
   "id": "1f7fcd18",
   "metadata": {},
   "outputs": [],
   "source": []
  },
  {
   "cell_type": "code",
   "execution_count": null,
   "id": "17b251d9",
   "metadata": {},
   "outputs": [],
   "source": []
  },
  {
   "cell_type": "code",
   "execution_count": null,
   "id": "dcf3ed33",
   "metadata": {},
   "outputs": [],
   "source": []
  },
  {
   "cell_type": "code",
   "execution_count": null,
   "id": "5488e516",
   "metadata": {},
   "outputs": [],
   "source": []
  },
  {
   "cell_type": "code",
   "execution_count": null,
   "id": "e85b6b24",
   "metadata": {},
   "outputs": [],
   "source": []
  },
  {
   "cell_type": "code",
   "execution_count": 6,
   "id": "717597ba",
   "metadata": {},
   "outputs": [
    {
     "name": "stdout",
     "output_type": "stream",
     "text": [
      "number of matched obs (9726, 15) number of total obs  (10000, 15)\n"
     ]
    }
   ],
   "source": [
    "match_obj = matching(data = df, \n",
    "                     y = y,\n",
    "                     T = T, \n",
    "                     X = X,\n",
    "                     id = 'user_id')\n",
    "\n",
    "match_obj.cem(n_bins = 10, # number of bins you set to divide continuous variables, user pd.qcut function to obatin\n",
    "              k2k = True)  # k2k: make sure number of treatment equals number of control. if is false, you need to apply weighted least square to obtain ATE\n",
    "\n",
    "\n"
   ]
  },
  {
   "cell_type": "code",
   "execution_count": 7,
   "id": "b8824f2f",
   "metadata": {},
   "outputs": [
    {
     "name": "stdout",
     "output_type": "stream",
     "text": [
      "Cross Validation Scores:  [0.15 0.15 0.14 0.14 0.15]\n",
      "Average CV Score:  0.14600000000000002\n",
      "Number of CV Scores used in Average:  5\n"
     ]
    }
   ],
   "source": [
    "\n",
    "T = match_obj.T\n",
    "y = match_obj.y[0]\n",
    "\n",
    "\n",
    "# 1. post-process data\n",
    "X_balance_check, df_post_validate, df_pre_validate = data_process_bc(match_obj, True)\n",
    "df_post_validate_y, weight = data_process_ate(match_obj, df_post_validate)\n",
    "\n",
    "# 2. Single learner\n",
    "X_mat = df_post_validate[X_balance_check].values\n",
    "T_mat = df_post_validate[[T]].values\n",
    "y_mat = df_post_validate_y[[y]].values\n",
    "\n",
    "est_linear = s_learner_linear()\n",
    "est_linear.fit(y_mat, T_mat, X_mat)\n",
    "hte_linear = est_linear.predict(X_mat)\n"
   ]
  },
  {
   "cell_type": "code",
   "execution_count": null,
   "id": "3ba0c64e",
   "metadata": {},
   "outputs": [],
   "source": [
    "\n"
   ]
  },
  {
   "cell_type": "code",
   "execution_count": 8,
   "id": "fd25ea05",
   "metadata": {},
   "outputs": [
    {
     "data": {
      "text/plain": [
       "0.8120201901465802"
      ]
     },
     "execution_count": 8,
     "metadata": {},
     "output_type": "execute_result"
    }
   ],
   "source": [
    "from sklearn.model_selection import train_test_split\n",
    "X_train, X_test, T_train, T_test, y_train, y_test = train_test_split(X_mat,T_mat, y_mat, test_size=0.33, random_state=42)\n",
    "\n",
    "\n",
    "# nobs = T_mat[:, 0].shape[0]\n",
    "# intercept = np.ones([nobs, 1])\n",
    "# X_mat_full = np.concatenate((intercept,X_mat, T_mat), axis=1)\n",
    "X_mat_full = np.concatenate((X_train, T_train), axis=1)\n",
    "X_mat_full_test = np.concatenate((X_test, T_test), axis=1)\n",
    "reg = LinearRegression().fit(X_mat_full, y_train)\n",
    "reg.score(X_mat_full, y_train)\n"
   ]
  },
  {
   "cell_type": "code",
   "execution_count": 9,
   "id": "e708541d",
   "metadata": {},
   "outputs": [
    {
     "data": {
      "text/plain": [
       "0.17297136829003257"
      ]
     },
     "execution_count": 9,
     "metadata": {},
     "output_type": "execute_result"
    }
   ],
   "source": [
    "y_pred = reg.predict(X_mat_full_test)\n",
    "y_true = y_test\n",
    "np.mean(np.abs((y_true - y_pred) / y_true))"
   ]
  },
  {
   "cell_type": "code",
   "execution_count": 10,
   "id": "ece09d77",
   "metadata": {},
   "outputs": [
    {
     "data": {
      "text/plain": [
       "array([[6.84525613],\n",
       "       [0.61228625],\n",
       "       [9.40534546],\n",
       "       ...,\n",
       "       [6.01529475],\n",
       "       [7.6671504 ],\n",
       "       [4.38335752]])"
      ]
     },
     "execution_count": 10,
     "metadata": {},
     "output_type": "execute_result"
    }
   ],
   "source": [
    "y_true"
   ]
  },
  {
   "cell_type": "code",
   "execution_count": 11,
   "id": "4e5a871f",
   "metadata": {},
   "outputs": [
    {
     "data": {
      "text/plain": [
       "array([[5.8059716 ],\n",
       "       [2.66184887],\n",
       "       [7.05536864],\n",
       "       ...,\n",
       "       [5.45975828],\n",
       "       [8.62697188],\n",
       "       [3.65804321]])"
      ]
     },
     "execution_count": 11,
     "metadata": {},
     "output_type": "execute_result"
    }
   ],
   "source": [
    "y_pred"
   ]
  },
  {
   "cell_type": "code",
   "execution_count": null,
   "id": "6145d937",
   "metadata": {},
   "outputs": [],
   "source": []
  },
  {
   "cell_type": "code",
   "execution_count": null,
   "id": "a9965d23",
   "metadata": {},
   "outputs": [],
   "source": []
  },
  {
   "cell_type": "code",
   "execution_count": null,
   "id": "34637549",
   "metadata": {},
   "outputs": [],
   "source": []
  },
  {
   "cell_type": "code",
   "execution_count": null,
   "id": "a1f093ad",
   "metadata": {},
   "outputs": [],
   "source": []
  },
  {
   "cell_type": "code",
   "execution_count": null,
   "id": "f2167449",
   "metadata": {},
   "outputs": [],
   "source": []
  },
  {
   "cell_type": "code",
   "execution_count": null,
   "id": "8bacc6e6",
   "metadata": {},
   "outputs": [],
   "source": []
  },
  {
   "cell_type": "code",
   "execution_count": null,
   "id": "e398676c",
   "metadata": {},
   "outputs": [],
   "source": []
  },
  {
   "cell_type": "code",
   "execution_count": 6,
   "id": "7266e70d",
   "metadata": {},
   "outputs": [],
   "source": [
    "nmape_scorer = make_scorer(NMAPE)\n",
    "k_folds = KFold(n_splits = 5, shuffle=True, random_state=111)\n",
    "scores = cross_val_score(LinearRegression(), \n",
    "                         X_mat_full, y_mat, \n",
    "                         scoring=nmape_scorer, cv=k_folds)\n"
   ]
  },
  {
   "cell_type": "code",
   "execution_count": 7,
   "id": "141687d5",
   "metadata": {},
   "outputs": [
    {
     "data": {
      "text/plain": [
       "array([3.12244908, 3.33660604, 3.25982898, 3.04192198, 4.32802582])"
      ]
     },
     "execution_count": 7,
     "metadata": {},
     "output_type": "execute_result"
    }
   ],
   "source": [
    "scores"
   ]
  },
  {
   "cell_type": "code",
   "execution_count": null,
   "id": "c4d1384a",
   "metadata": {},
   "outputs": [],
   "source": []
  },
  {
   "cell_type": "code",
   "execution_count": null,
   "id": "06929798",
   "metadata": {},
   "outputs": [],
   "source": []
  },
  {
   "cell_type": "code",
   "execution_count": null,
   "id": "c9bc4643",
   "metadata": {},
   "outputs": [],
   "source": []
  },
  {
   "cell_type": "code",
   "execution_count": null,
   "id": "88020051",
   "metadata": {},
   "outputs": [],
   "source": []
  },
  {
   "cell_type": "code",
   "execution_count": null,
   "id": "1cb44030",
   "metadata": {},
   "outputs": [],
   "source": []
  },
  {
   "cell_type": "code",
   "execution_count": null,
   "id": "d9156e83",
   "metadata": {},
   "outputs": [],
   "source": []
  },
  {
   "cell_type": "code",
   "execution_count": null,
   "id": "ef24546b",
   "metadata": {},
   "outputs": [],
   "source": []
  },
  {
   "cell_type": "code",
   "execution_count": null,
   "id": "886abba4",
   "metadata": {},
   "outputs": [],
   "source": []
  },
  {
   "cell_type": "code",
   "execution_count": null,
   "id": "3b8b9de8",
   "metadata": {},
   "outputs": [],
   "source": []
  },
  {
   "cell_type": "code",
   "execution_count": 5,
   "id": "112c9270",
   "metadata": {},
   "outputs": [
    {
     "data": {
      "text/plain": [
       "array([[0.37301223, 0.44799682, 0.12944068],\n",
       "       [0.85987871, 0.82038836, 0.35205354],\n",
       "       [0.13755356, 0.85289978, 0.23550748],\n",
       "       ...,\n",
       "       [0.61095956, 0.80160774, 0.89683825],\n",
       "       [0.24087144, 0.38318785, 0.28364651],\n",
       "       [0.48975841, 0.23475667, 0.76238795]])"
      ]
     },
     "execution_count": 5,
     "metadata": {},
     "output_type": "execute_result"
    }
   ],
   "source": [
    "import numpy as np\n",
    "from sklearn.preprocessing import PolynomialFeatures\n",
    "\n",
    "X = np.ones((3,2))\n",
    "pf = PolynomialFeatures(3)\n",
    "pf.fit(X)\n",
    "print(pf.get_feature_names())"
   ]
  },
  {
   "cell_type": "code",
   "execution_count": 6,
   "id": "963abcb0",
   "metadata": {},
   "outputs": [
    {
     "data": {
      "text/plain": [
       "array([[-0.43404596],\n",
       "       [-0.89965393],\n",
       "       [ 0.91695661],\n",
       "       ...,\n",
       "       [-1.38210833],\n",
       "       [ 0.34697248],\n",
       "       [-1.33728904]])"
      ]
     },
     "execution_count": 6,
     "metadata": {},
     "output_type": "execute_result"
    }
   ],
   "source": [
    "y_mat"
   ]
  },
  {
   "cell_type": "code",
   "execution_count": 7,
   "id": "ada996cb",
   "metadata": {},
   "outputs": [
    {
     "data": {
      "text/plain": [
       "array([[0.],\n",
       "       [0.],\n",
       "       [0.],\n",
       "       ...,\n",
       "       [1.],\n",
       "       [1.],\n",
       "       [1.]])"
      ]
     },
     "execution_count": 7,
     "metadata": {},
     "output_type": "execute_result"
    }
   ],
   "source": [
    "T_mat"
   ]
  },
  {
   "cell_type": "code",
   "execution_count": null,
   "id": "741ab12e",
   "metadata": {},
   "outputs": [],
   "source": []
  },
  {
   "cell_type": "code",
   "execution_count": null,
   "id": "caa2cf49",
   "metadata": {},
   "outputs": [],
   "source": []
  },
  {
   "cell_type": "code",
   "execution_count": null,
   "id": "f03fd539",
   "metadata": {},
   "outputs": [],
   "source": []
  },
  {
   "cell_type": "code",
   "execution_count": null,
   "id": "ba0c98d4",
   "metadata": {},
   "outputs": [],
   "source": []
  },
  {
   "cell_type": "code",
   "execution_count": null,
   "id": "e943b726",
   "metadata": {},
   "outputs": [],
   "source": []
  },
  {
   "cell_type": "code",
   "execution_count": 4,
   "id": "13dad243",
   "metadata": {},
   "outputs": [],
   "source": [
    "df = gen_test_data(n = 10000, c_ratio=0.5)\n",
    "df.head()\n",
    "\n",
    "\n",
    "X = ['c_1', 'c_2', 'c_3', 'd_1', 'gender']\n",
    "y = ['y', 'y2']\n",
    "id = 'user_id'\n",
    "\n",
    "# treatment variable has to be a 0/1 dummy variable\n",
    "# if is string, please convert to a 0/1 int input\n",
    "T = 'treatment'"
   ]
  },
  {
   "cell_type": "code",
   "execution_count": 5,
   "id": "902e6865",
   "metadata": {},
   "outputs": [
    {
     "name": "stdout",
     "output_type": "stream",
     "text": [
      "number of matched obs (9768, 15) number of total obs  (10000, 15)\n",
      "   Covariates  Mean Treated post-match  Mean Control post-match   SMD  \\\n",
      "0         c_1                   0.4999                   0.4983  0.01   \n",
      "1     d_1_bee                   0.1114                   0.1194 -0.03   \n",
      "2     d_1_cat                   0.1546                   0.1570 -0.01   \n",
      "3     d_1_dog                   0.1929                   0.2002 -0.02   \n",
      "4    d_1_pear                   0.2588                   0.2545  0.01   \n",
      "5     d_3_1.0                   0.2039                   0.1882  0.04   \n",
      "6     d_3_2.0                   0.0516                   0.0516  0.00   \n",
      "7     d_3_3.0                   0.1790                   0.1804 -0.00   \n",
      "8     d_3_4.0                   0.0704                   0.0713 -0.00   \n",
      "9     d_3_5.0                   0.0692                   0.0676  0.01   \n",
      "10    d_3_6.0                   0.0921                   0.0938 -0.01   \n",
      "11    d_3_7.0                   0.1824                   0.1835 -0.00   \n",
      "12    d_3_8.0                   0.0221                   0.0211  0.01   \n",
      "13    d_3_9.0                   0.1063                   0.1140 -0.02   \n",
      "\n",
      "    Var Ratio  ks-p_val  ttest-p_val  \n",
      "0        0.99     0.445        0.789  \n",
      "1         NaN     0.997        0.217  \n",
      "2         NaN     1.000        0.738  \n",
      "3         NaN     0.999        0.359  \n",
      "4         NaN     1.000        0.627  \n",
      "5         NaN     0.573        0.050  \n",
      "6         NaN     1.000        1.000  \n",
      "7         NaN     1.000        0.854  \n",
      "8         NaN     1.000        0.875  \n",
      "9         NaN     1.000        0.748  \n",
      "10        NaN     1.000        0.780  \n",
      "11        NaN     1.000        0.896  \n",
      "12        NaN     1.000        0.728  \n",
      "13        NaN     0.998        0.219  \n"
     ]
    },
    {
     "data": {
      "text/html": [
       "<div>\n",
       "<style scoped>\n",
       "    .dataframe tbody tr th:only-of-type {\n",
       "        vertical-align: middle;\n",
       "    }\n",
       "\n",
       "    .dataframe tbody tr th {\n",
       "        vertical-align: top;\n",
       "    }\n",
       "\n",
       "    .dataframe thead th {\n",
       "        text-align: right;\n",
       "    }\n",
       "</style>\n",
       "<table border=\"1\" class=\"dataframe\">\n",
       "  <thead>\n",
       "    <tr style=\"text-align: right;\">\n",
       "      <th></th>\n",
       "      <th>y</th>\n",
       "      <th>ate</th>\n",
       "      <th>p_val</th>\n",
       "    </tr>\n",
       "  </thead>\n",
       "  <tbody>\n",
       "    <tr>\n",
       "      <th>0</th>\n",
       "      <td>y</td>\n",
       "      <td>0.512274</td>\n",
       "      <td>7.780753e-120</td>\n",
       "    </tr>\n",
       "  </tbody>\n",
       "</table>\n",
       "</div>"
      ],
      "text/plain": [
       "   y       ate          p_val\n",
       "0  y  0.512274  7.780753e-120"
      ]
     },
     "execution_count": 5,
     "metadata": {},
     "output_type": "execute_result"
    }
   ],
   "source": [
    "# STEP 1: initialize matching object\n",
    "match_obj = matching(data = df, \n",
    "                       y = ['y'],\n",
    "                       T = 'treatment', \n",
    "                       X = ['c_1','d_1','d_3'],\n",
    "                       id = 'user_id')\n",
    "\n",
    "# STEP 2: coarsened exact matching\n",
    "match_obj.cem(n_bins = 10, # number of bins you set to divide continuous variables, user pd.qcut function to obatin\n",
    "              k2k = True)  # k2k: make sure number of treatment equals number of control. if is false, you need to apply weighted least square to obtain ATE\n",
    "\n",
    "\n",
    "# STEP 3: balance check after propensity score matching\n",
    "res_post, res_pre = match_obj.balance_check(include_discrete=True)\n",
    "print(res_post)\n",
    "\n",
    "# STEP 4: obtain average partial effect \n",
    "match_obj.ate(use_weight = True)\n",
    "\n",
    "\n"
   ]
  },
  {
   "cell_type": "code",
   "execution_count": 6,
   "id": "f7c3eb63",
   "metadata": {},
   "outputs": [
    {
     "data": {
      "text/html": [
       "<div>\n",
       "<style scoped>\n",
       "    .dataframe tbody tr th:only-of-type {\n",
       "        vertical-align: middle;\n",
       "    }\n",
       "\n",
       "    .dataframe tbody tr th {\n",
       "        vertical-align: top;\n",
       "    }\n",
       "\n",
       "    .dataframe thead th {\n",
       "        text-align: right;\n",
       "    }\n",
       "</style>\n",
       "<table border=\"1\" class=\"dataframe\">\n",
       "  <thead>\n",
       "    <tr style=\"text-align: right;\">\n",
       "      <th></th>\n",
       "      <th>y</th>\n",
       "      <th>ate</th>\n",
       "      <th>p_val</th>\n",
       "    </tr>\n",
       "  </thead>\n",
       "  <tbody>\n",
       "    <tr>\n",
       "      <th>0</th>\n",
       "      <td>y</td>\n",
       "      <td>0.517945</td>\n",
       "      <td>1.781174e-122</td>\n",
       "    </tr>\n",
       "  </tbody>\n",
       "</table>\n",
       "</div>"
      ],
      "text/plain": [
       "   y       ate          p_val\n",
       "0  y  0.517945  1.781174e-122"
      ]
     },
     "execution_count": 6,
     "metadata": {},
     "output_type": "execute_result"
    }
   ],
   "source": [
    "match_obj.ate(use_weight = True)"
   ]
  },
  {
   "cell_type": "code",
   "execution_count": 11,
   "id": "677f6660",
   "metadata": {},
   "outputs": [],
   "source": []
  },
  {
   "cell_type": "code",
   "execution_count": 30,
   "id": "8b1065cd",
   "metadata": {},
   "outputs": [],
   "source": [
    "# from causalmatch.matching.match_core.utils import data_process_bc, balance_check_x\n",
    "\n",
    "# y      = match_obj.y\n",
    "# id     = match_obj.id\n",
    "# T      = match_obj.T\n",
    "# method = match_obj.method\n",
    "# df_out_ = match_obj.df_out_final\n",
    "\n",
    "# X_balance_check, df_post_validate, df_pre_validate = data_process_bc(match_obj, True)\n",
    "\n",
    "# if method == 'cem':\n",
    "#     # 1. merge y variables from raw df to matched df\n",
    "#     df_post_validate_y_ = df_post_validate.merge(match_obj.data[y + [id]], how='left', on=id)\n",
    "\n",
    "#     # 2. for CEM need one more step due to WLS: merge weight to outcome dataframe\n",
    "#     df_post_validate_y = df_post_validate_y_.merge(match_obj.df_out_final[[id,'weight_adjust']], how='left', on=id)\n",
    "# else:\n",
    "#     df_post_validate_y = df_post_validate.merge(match_obj.data[y + [id]], how='left', on=id)\n",
    "\n",
    "# dict_ate = {\"y\" : [], \"ate\" : [], \"p_val\" : []}\n",
    "\n"
   ]
  },
  {
   "cell_type": "code",
   "execution_count": 31,
   "id": "633d7051",
   "metadata": {},
   "outputs": [],
   "source": [
    "# # Loop all y variables to do least square\n",
    "# use_weight = True\n",
    "\n",
    "# y_i = y[0]\n",
    "# Y = df_post_validate_y[y_i]\n",
    "# x = df_post_validate_y[T]\n",
    "# weight = df_post_validate_y['weight_adjust']\n",
    "\n",
    "# x = sm.add_constant(x)\n",
    "\n",
    "# if method=='cem' and use_weight is True:\n",
    "\n",
    "#     model = sm.WLS(Y, x, weights = weight)\n",
    "\n",
    "# else:\n",
    "#     model = sm.OLS(Y, x)\n",
    "#     results = model.fit()\n",
    "\n",
    "\n",
    "\n",
    "# results = model.fit()"
   ]
  },
  {
   "cell_type": "code",
   "execution_count": 32,
   "id": "768f30c7",
   "metadata": {},
   "outputs": [],
   "source": [
    "# results.params"
   ]
  },
  {
   "cell_type": "code",
   "execution_count": null,
   "id": "be7ab1ec",
   "metadata": {},
   "outputs": [],
   "source": []
  },
  {
   "cell_type": "code",
   "execution_count": null,
   "id": "60cd45b7",
   "metadata": {},
   "outputs": [],
   "source": []
  },
  {
   "cell_type": "code",
   "execution_count": 15,
   "id": "a50c1dbc",
   "metadata": {},
   "outputs": [
    {
     "ename": "NameError",
     "evalue": "name 'use_weight' is not defined",
     "output_type": "error",
     "traceback": [
      "\u001b[0;31m---------------------------------------------------------------------------\u001b[0m",
      "\u001b[0;31mNameError\u001b[0m                                 Traceback (most recent call last)",
      "Cell \u001b[0;32mIn[15], line 9\u001b[0m\n\u001b[1;32m      5\u001b[0m x \u001b[38;5;241m=\u001b[39m df_post_validate_y[T]\n\u001b[1;32m      7\u001b[0m x \u001b[38;5;241m=\u001b[39m sm\u001b[38;5;241m.\u001b[39madd_constant(x)\n\u001b[0;32m----> 9\u001b[0m \u001b[38;5;28;01mif\u001b[39;00m \u001b[43muse_weight\u001b[49m \u001b[38;5;129;01mis\u001b[39;00m \u001b[38;5;28;01mTrue\u001b[39;00m:\n\u001b[1;32m     10\u001b[0m     model \u001b[38;5;241m=\u001b[39m sm\u001b[38;5;241m.\u001b[39mOLS(Y, x)\n\u001b[1;32m     11\u001b[0m     results \u001b[38;5;241m=\u001b[39m model\u001b[38;5;241m.\u001b[39mfit()\n",
      "\u001b[0;31mNameError\u001b[0m: name 'use_weight' is not defined"
     ]
    }
   ],
   "source": []
  },
  {
   "cell_type": "code",
   "execution_count": 14,
   "id": "8a6d6cff",
   "metadata": {},
   "outputs": [
    {
     "ename": "NameError",
     "evalue": "name 'y_i' is not defined",
     "output_type": "error",
     "traceback": [
      "\u001b[0;31m---------------------------------------------------------------------------\u001b[0m",
      "\u001b[0;31mNameError\u001b[0m                                 Traceback (most recent call last)",
      "Cell \u001b[0;32mIn[14], line 1\u001b[0m\n\u001b[0;32m----> 1\u001b[0m df_post_validate_y[\u001b[43my_i\u001b[49m]\n",
      "\u001b[0;31mNameError\u001b[0m: name 'y_i' is not defined"
     ]
    }
   ],
   "source": [
    "df_post_validate_y[y_i]"
   ]
  },
  {
   "cell_type": "code",
   "execution_count": null,
   "id": "08b8dc0a",
   "metadata": {},
   "outputs": [],
   "source": []
  },
  {
   "cell_type": "code",
   "execution_count": null,
   "id": "36d8afc4",
   "metadata": {},
   "outputs": [],
   "source": []
  },
  {
   "cell_type": "code",
   "execution_count": null,
   "id": "473e51b7",
   "metadata": {},
   "outputs": [],
   "source": []
  },
  {
   "cell_type": "code",
   "execution_count": null,
   "id": "6d3cf0ce",
   "metadata": {},
   "outputs": [],
   "source": []
  },
  {
   "cell_type": "code",
   "execution_count": null,
   "id": "97f87b70",
   "metadata": {},
   "outputs": [],
   "source": []
  },
  {
   "cell_type": "code",
   "execution_count": null,
   "id": "8d1ac3e7",
   "metadata": {},
   "outputs": [],
   "source": []
  },
  {
   "cell_type": "code",
   "execution_count": null,
   "id": "7be7cc91",
   "metadata": {},
   "outputs": [],
   "source": []
  },
  {
   "cell_type": "code",
   "execution_count": null,
   "id": "21728085",
   "metadata": {},
   "outputs": [],
   "source": []
  },
  {
   "cell_type": "code",
   "execution_count": null,
   "id": "b0f106c6",
   "metadata": {},
   "outputs": [],
   "source": []
  },
  {
   "cell_type": "code",
   "execution_count": null,
   "id": "afd3bc48",
   "metadata": {},
   "outputs": [],
   "source": []
  },
  {
   "cell_type": "code",
   "execution_count": null,
   "id": "55c0fbc0",
   "metadata": {},
   "outputs": [],
   "source": []
  },
  {
   "cell_type": "code",
   "execution_count": null,
   "id": "4e7404fa",
   "metadata": {},
   "outputs": [],
   "source": []
  },
  {
   "cell_type": "code",
   "execution_count": 16,
   "id": "b58bab1f",
   "metadata": {},
   "outputs": [],
   "source": [
    "# STEP 1: initialize matching object\n",
    "match_obj = matching(data = df,     \n",
    "                     T = T,\n",
    "                     X = X,\n",
    "                     id = id)\n",
    "\n",
    "# STEP 2: propensity score matching\n",
    "\n",
    "# match_obj.psm(n_neighbors = 1,  # number of neighbors\n",
    "#               model = GradientBoostingClassifier(), # p-score model\n",
    "#               trim_percentage = 0.1, # trim X% of pscore, if equals 0.1 then trim min 5% and max 5%\n",
    "#               caliper = 0.1) # p-score diff must be smaller than or equal to the caliper value\n",
    "\n",
    "match_obj.psm(n_neighbors = 1,  # number of neighbors\n",
    "              model = GradientBoostingClassifier(), # p-score model\n",
    "              trim_percentage = 0, # trim X% of pscore, if equals 0.1 then trim min 5% and max 5%\n",
    "              caliper = 1) # p-score diff must be smaller than or equal to the caliper value\n",
    "\n",
    "\n",
    "# STEP 3: balance check after propensity score matching\n",
    "res_post, res_pre = match_obj.balance_check(include_discrete = True)\n",
    "\n",
    "\n"
   ]
  },
  {
   "cell_type": "code",
   "execution_count": 17,
   "id": "927cd8e9",
   "metadata": {},
   "outputs": [
    {
     "data": {
      "text/html": [
       "<div>\n",
       "<style scoped>\n",
       "    .dataframe tbody tr th:only-of-type {\n",
       "        vertical-align: middle;\n",
       "    }\n",
       "\n",
       "    .dataframe tbody tr th {\n",
       "        vertical-align: top;\n",
       "    }\n",
       "\n",
       "    .dataframe thead th {\n",
       "        text-align: right;\n",
       "    }\n",
       "</style>\n",
       "<table border=\"1\" class=\"dataframe\">\n",
       "  <thead>\n",
       "    <tr style=\"text-align: right;\">\n",
       "      <th></th>\n",
       "      <th>Covariates</th>\n",
       "      <th>Mean Treated post-match</th>\n",
       "      <th>Mean Control post-match</th>\n",
       "      <th>SMD</th>\n",
       "      <th>Var Ratio</th>\n",
       "      <th>ks-p_val</th>\n",
       "      <th>ttest-p_val</th>\n",
       "    </tr>\n",
       "  </thead>\n",
       "  <tbody>\n",
       "    <tr>\n",
       "      <th>0</th>\n",
       "      <td>c_1</td>\n",
       "      <td>0.5004</td>\n",
       "      <td>0.5145</td>\n",
       "      <td>-0.05</td>\n",
       "      <td>1.04</td>\n",
       "      <td>0.001</td>\n",
       "      <td>0.013</td>\n",
       "    </tr>\n",
       "    <tr>\n",
       "      <th>1</th>\n",
       "      <td>c_2</td>\n",
       "      <td>0.5024</td>\n",
       "      <td>0.4919</td>\n",
       "      <td>0.04</td>\n",
       "      <td>1.09</td>\n",
       "      <td>0.000</td>\n",
       "      <td>0.059</td>\n",
       "    </tr>\n",
       "    <tr>\n",
       "      <th>2</th>\n",
       "      <td>c_3</td>\n",
       "      <td>0.5033</td>\n",
       "      <td>0.4968</td>\n",
       "      <td>0.02</td>\n",
       "      <td>1.07</td>\n",
       "      <td>0.000</td>\n",
       "      <td>0.247</td>\n",
       "    </tr>\n",
       "    <tr>\n",
       "      <th>3</th>\n",
       "      <td>d_1_bee</td>\n",
       "      <td>0.1124</td>\n",
       "      <td>0.1112</td>\n",
       "      <td>0.00</td>\n",
       "      <td>NaN</td>\n",
       "      <td>1.000</td>\n",
       "      <td>0.850</td>\n",
       "    </tr>\n",
       "    <tr>\n",
       "      <th>4</th>\n",
       "      <td>d_1_cat</td>\n",
       "      <td>0.1581</td>\n",
       "      <td>0.1383</td>\n",
       "      <td>0.05</td>\n",
       "      <td>NaN</td>\n",
       "      <td>0.266</td>\n",
       "      <td>0.005</td>\n",
       "    </tr>\n",
       "    <tr>\n",
       "      <th>5</th>\n",
       "      <td>d_1_dog</td>\n",
       "      <td>0.1929</td>\n",
       "      <td>0.1787</td>\n",
       "      <td>0.04</td>\n",
       "      <td>NaN</td>\n",
       "      <td>0.684</td>\n",
       "      <td>0.067</td>\n",
       "    </tr>\n",
       "    <tr>\n",
       "      <th>6</th>\n",
       "      <td>d_1_pear</td>\n",
       "      <td>0.2551</td>\n",
       "      <td>0.2947</td>\n",
       "      <td>-0.09</td>\n",
       "      <td>NaN</td>\n",
       "      <td>0.001</td>\n",
       "      <td>0.000</td>\n",
       "    </tr>\n",
       "    <tr>\n",
       "      <th>7</th>\n",
       "      <td>gender_cat1</td>\n",
       "      <td>0.0714</td>\n",
       "      <td>0.0708</td>\n",
       "      <td>0.00</td>\n",
       "      <td>NaN</td>\n",
       "      <td>1.000</td>\n",
       "      <td>0.908</td>\n",
       "    </tr>\n",
       "    <tr>\n",
       "      <th>8</th>\n",
       "      <td>gender_cat2</td>\n",
       "      <td>0.0883</td>\n",
       "      <td>0.0820</td>\n",
       "      <td>0.02</td>\n",
       "      <td>NaN</td>\n",
       "      <td>1.000</td>\n",
       "      <td>0.256</td>\n",
       "    </tr>\n",
       "    <tr>\n",
       "      <th>9</th>\n",
       "      <td>gender_cat3</td>\n",
       "      <td>0.1683</td>\n",
       "      <td>0.1893</td>\n",
       "      <td>-0.06</td>\n",
       "      <td>NaN</td>\n",
       "      <td>0.209</td>\n",
       "      <td>0.006</td>\n",
       "    </tr>\n",
       "    <tr>\n",
       "      <th>10</th>\n",
       "      <td>gender_cat4</td>\n",
       "      <td>0.0247</td>\n",
       "      <td>0.0192</td>\n",
       "      <td>0.04</td>\n",
       "      <td>NaN</td>\n",
       "      <td>1.000</td>\n",
       "      <td>0.059</td>\n",
       "    </tr>\n",
       "    <tr>\n",
       "      <th>11</th>\n",
       "      <td>gender_cat5</td>\n",
       "      <td>0.1156</td>\n",
       "      <td>0.1024</td>\n",
       "      <td>0.04</td>\n",
       "      <td>NaN</td>\n",
       "      <td>0.766</td>\n",
       "      <td>0.033</td>\n",
       "    </tr>\n",
       "    <tr>\n",
       "      <th>12</th>\n",
       "      <td>gender_dog</td>\n",
       "      <td>0.1776</td>\n",
       "      <td>0.1728</td>\n",
       "      <td>0.01</td>\n",
       "      <td>NaN</td>\n",
       "      <td>1.000</td>\n",
       "      <td>0.532</td>\n",
       "    </tr>\n",
       "    <tr>\n",
       "      <th>13</th>\n",
       "      <td>gender_female</td>\n",
       "      <td>0.2046</td>\n",
       "      <td>0.2276</td>\n",
       "      <td>-0.06</td>\n",
       "      <td>NaN</td>\n",
       "      <td>0.134</td>\n",
       "      <td>0.005</td>\n",
       "    </tr>\n",
       "    <tr>\n",
       "      <th>14</th>\n",
       "      <td>gender_male</td>\n",
       "      <td>0.0263</td>\n",
       "      <td>0.0347</td>\n",
       "      <td>-0.05</td>\n",
       "      <td>NaN</td>\n",
       "      <td>0.993</td>\n",
       "      <td>0.013</td>\n",
       "    </tr>\n",
       "    <tr>\n",
       "      <th>15</th>\n",
       "      <td>gender_pig</td>\n",
       "      <td>0.0736</td>\n",
       "      <td>0.0628</td>\n",
       "      <td>0.04</td>\n",
       "      <td>NaN</td>\n",
       "      <td>0.925</td>\n",
       "      <td>0.031</td>\n",
       "    </tr>\n",
       "  </tbody>\n",
       "</table>\n",
       "</div>"
      ],
      "text/plain": [
       "       Covariates  Mean Treated post-match  Mean Control post-match   SMD  \\\n",
       "0             c_1                   0.5004                   0.5145 -0.05   \n",
       "1             c_2                   0.5024                   0.4919  0.04   \n",
       "2             c_3                   0.5033                   0.4968  0.02   \n",
       "3         d_1_bee                   0.1124                   0.1112  0.00   \n",
       "4         d_1_cat                   0.1581                   0.1383  0.05   \n",
       "5         d_1_dog                   0.1929                   0.1787  0.04   \n",
       "6        d_1_pear                   0.2551                   0.2947 -0.09   \n",
       "7     gender_cat1                   0.0714                   0.0708  0.00   \n",
       "8     gender_cat2                   0.0883                   0.0820  0.02   \n",
       "9     gender_cat3                   0.1683                   0.1893 -0.06   \n",
       "10    gender_cat4                   0.0247                   0.0192  0.04   \n",
       "11    gender_cat5                   0.1156                   0.1024  0.04   \n",
       "12     gender_dog                   0.1776                   0.1728  0.01   \n",
       "13  gender_female                   0.2046                   0.2276 -0.06   \n",
       "14    gender_male                   0.0263                   0.0347 -0.05   \n",
       "15     gender_pig                   0.0736                   0.0628  0.04   \n",
       "\n",
       "    Var Ratio  ks-p_val  ttest-p_val  \n",
       "0        1.04     0.001        0.013  \n",
       "1        1.09     0.000        0.059  \n",
       "2        1.07     0.000        0.247  \n",
       "3         NaN     1.000        0.850  \n",
       "4         NaN     0.266        0.005  \n",
       "5         NaN     0.684        0.067  \n",
       "6         NaN     0.001        0.000  \n",
       "7         NaN     1.000        0.908  \n",
       "8         NaN     1.000        0.256  \n",
       "9         NaN     0.209        0.006  \n",
       "10        NaN     1.000        0.059  \n",
       "11        NaN     0.766        0.033  \n",
       "12        NaN     1.000        0.532  \n",
       "13        NaN     0.134        0.005  \n",
       "14        NaN     0.993        0.013  \n",
       "15        NaN     0.925        0.031  "
      ]
     },
     "execution_count": 17,
     "metadata": {},
     "output_type": "execute_result"
    }
   ],
   "source": [
    "res_post"
   ]
  },
  {
   "cell_type": "code",
   "execution_count": 18,
   "id": "c0221a04",
   "metadata": {},
   "outputs": [
    {
     "data": {
      "text/html": [
       "<div>\n",
       "<style scoped>\n",
       "    .dataframe tbody tr th:only-of-type {\n",
       "        vertical-align: middle;\n",
       "    }\n",
       "\n",
       "    .dataframe tbody tr th {\n",
       "        vertical-align: top;\n",
       "    }\n",
       "\n",
       "    .dataframe thead th {\n",
       "        text-align: right;\n",
       "    }\n",
       "</style>\n",
       "<table border=\"1\" class=\"dataframe\">\n",
       "  <thead>\n",
       "    <tr style=\"text-align: right;\">\n",
       "      <th></th>\n",
       "      <th>Covariates</th>\n",
       "      <th>Mean Treated pre-match</th>\n",
       "      <th>Mean Control pre-match</th>\n",
       "      <th>SMD</th>\n",
       "      <th>Var Ratio</th>\n",
       "      <th>ks-p_val</th>\n",
       "      <th>ttest-p_val</th>\n",
       "    </tr>\n",
       "  </thead>\n",
       "  <tbody>\n",
       "    <tr>\n",
       "      <th>0</th>\n",
       "      <td>c_1</td>\n",
       "      <td>0.5004</td>\n",
       "      <td>0.4984</td>\n",
       "      <td>0.01</td>\n",
       "      <td>0.99</td>\n",
       "      <td>0.406</td>\n",
       "      <td>0.722</td>\n",
       "    </tr>\n",
       "    <tr>\n",
       "      <th>1</th>\n",
       "      <td>c_2</td>\n",
       "      <td>0.5024</td>\n",
       "      <td>0.5062</td>\n",
       "      <td>-0.01</td>\n",
       "      <td>0.99</td>\n",
       "      <td>0.736</td>\n",
       "      <td>0.516</td>\n",
       "    </tr>\n",
       "    <tr>\n",
       "      <th>2</th>\n",
       "      <td>c_3</td>\n",
       "      <td>0.5033</td>\n",
       "      <td>0.5053</td>\n",
       "      <td>-0.01</td>\n",
       "      <td>0.99</td>\n",
       "      <td>0.904</td>\n",
       "      <td>0.736</td>\n",
       "    </tr>\n",
       "    <tr>\n",
       "      <th>3</th>\n",
       "      <td>d_1_bee</td>\n",
       "      <td>0.1124</td>\n",
       "      <td>0.1201</td>\n",
       "      <td>-0.02</td>\n",
       "      <td>NaN</td>\n",
       "      <td>0.998</td>\n",
       "      <td>0.229</td>\n",
       "    </tr>\n",
       "    <tr>\n",
       "      <th>4</th>\n",
       "      <td>d_1_cat</td>\n",
       "      <td>0.1581</td>\n",
       "      <td>0.1577</td>\n",
       "      <td>0.00</td>\n",
       "      <td>NaN</td>\n",
       "      <td>1.000</td>\n",
       "      <td>0.948</td>\n",
       "    </tr>\n",
       "    <tr>\n",
       "      <th>5</th>\n",
       "      <td>d_1_dog</td>\n",
       "      <td>0.1929</td>\n",
       "      <td>0.1997</td>\n",
       "      <td>-0.02</td>\n",
       "      <td>NaN</td>\n",
       "      <td>1.000</td>\n",
       "      <td>0.391</td>\n",
       "    </tr>\n",
       "    <tr>\n",
       "      <th>6</th>\n",
       "      <td>d_1_pear</td>\n",
       "      <td>0.2551</td>\n",
       "      <td>0.2541</td>\n",
       "      <td>0.00</td>\n",
       "      <td>NaN</td>\n",
       "      <td>1.000</td>\n",
       "      <td>0.916</td>\n",
       "    </tr>\n",
       "    <tr>\n",
       "      <th>7</th>\n",
       "      <td>gender_cat1</td>\n",
       "      <td>0.0714</td>\n",
       "      <td>0.0671</td>\n",
       "      <td>0.02</td>\n",
       "      <td>NaN</td>\n",
       "      <td>1.000</td>\n",
       "      <td>0.396</td>\n",
       "    </tr>\n",
       "    <tr>\n",
       "      <th>8</th>\n",
       "      <td>gender_cat2</td>\n",
       "      <td>0.0883</td>\n",
       "      <td>0.0938</td>\n",
       "      <td>-0.02</td>\n",
       "      <td>NaN</td>\n",
       "      <td>1.000</td>\n",
       "      <td>0.336</td>\n",
       "    </tr>\n",
       "    <tr>\n",
       "      <th>9</th>\n",
       "      <td>gender_cat3</td>\n",
       "      <td>0.1683</td>\n",
       "      <td>0.1691</td>\n",
       "      <td>-0.00</td>\n",
       "      <td>NaN</td>\n",
       "      <td>1.000</td>\n",
       "      <td>0.921</td>\n",
       "    </tr>\n",
       "    <tr>\n",
       "      <th>10</th>\n",
       "      <td>gender_cat4</td>\n",
       "      <td>0.0247</td>\n",
       "      <td>0.0288</td>\n",
       "      <td>-0.03</td>\n",
       "      <td>NaN</td>\n",
       "      <td>1.000</td>\n",
       "      <td>0.211</td>\n",
       "    </tr>\n",
       "    <tr>\n",
       "      <th>11</th>\n",
       "      <td>gender_cat5</td>\n",
       "      <td>0.1156</td>\n",
       "      <td>0.1167</td>\n",
       "      <td>-0.00</td>\n",
       "      <td>NaN</td>\n",
       "      <td>1.000</td>\n",
       "      <td>0.863</td>\n",
       "    </tr>\n",
       "    <tr>\n",
       "      <th>12</th>\n",
       "      <td>gender_dog</td>\n",
       "      <td>0.1776</td>\n",
       "      <td>0.1756</td>\n",
       "      <td>0.01</td>\n",
       "      <td>NaN</td>\n",
       "      <td>1.000</td>\n",
       "      <td>0.798</td>\n",
       "    </tr>\n",
       "    <tr>\n",
       "      <th>13</th>\n",
       "      <td>gender_female</td>\n",
       "      <td>0.2046</td>\n",
       "      <td>0.1964</td>\n",
       "      <td>0.02</td>\n",
       "      <td>NaN</td>\n",
       "      <td>0.995</td>\n",
       "      <td>0.305</td>\n",
       "    </tr>\n",
       "    <tr>\n",
       "      <th>14</th>\n",
       "      <td>gender_male</td>\n",
       "      <td>0.0263</td>\n",
       "      <td>0.0249</td>\n",
       "      <td>0.01</td>\n",
       "      <td>NaN</td>\n",
       "      <td>1.000</td>\n",
       "      <td>0.656</td>\n",
       "    </tr>\n",
       "    <tr>\n",
       "      <th>15</th>\n",
       "      <td>gender_pig</td>\n",
       "      <td>0.0736</td>\n",
       "      <td>0.0793</td>\n",
       "      <td>-0.02</td>\n",
       "      <td>NaN</td>\n",
       "      <td>1.000</td>\n",
       "      <td>0.278</td>\n",
       "    </tr>\n",
       "  </tbody>\n",
       "</table>\n",
       "</div>"
      ],
      "text/plain": [
       "       Covariates  Mean Treated pre-match  Mean Control pre-match   SMD  \\\n",
       "0             c_1                  0.5004                  0.4984  0.01   \n",
       "1             c_2                  0.5024                  0.5062 -0.01   \n",
       "2             c_3                  0.5033                  0.5053 -0.01   \n",
       "3         d_1_bee                  0.1124                  0.1201 -0.02   \n",
       "4         d_1_cat                  0.1581                  0.1577  0.00   \n",
       "5         d_1_dog                  0.1929                  0.1997 -0.02   \n",
       "6        d_1_pear                  0.2551                  0.2541  0.00   \n",
       "7     gender_cat1                  0.0714                  0.0671  0.02   \n",
       "8     gender_cat2                  0.0883                  0.0938 -0.02   \n",
       "9     gender_cat3                  0.1683                  0.1691 -0.00   \n",
       "10    gender_cat4                  0.0247                  0.0288 -0.03   \n",
       "11    gender_cat5                  0.1156                  0.1167 -0.00   \n",
       "12     gender_dog                  0.1776                  0.1756  0.01   \n",
       "13  gender_female                  0.2046                  0.1964  0.02   \n",
       "14    gender_male                  0.0263                  0.0249  0.01   \n",
       "15     gender_pig                  0.0736                  0.0793 -0.02   \n",
       "\n",
       "    Var Ratio  ks-p_val  ttest-p_val  \n",
       "0        0.99     0.406        0.722  \n",
       "1        0.99     0.736        0.516  \n",
       "2        0.99     0.904        0.736  \n",
       "3         NaN     0.998        0.229  \n",
       "4         NaN     1.000        0.948  \n",
       "5         NaN     1.000        0.391  \n",
       "6         NaN     1.000        0.916  \n",
       "7         NaN     1.000        0.396  \n",
       "8         NaN     1.000        0.336  \n",
       "9         NaN     1.000        0.921  \n",
       "10        NaN     1.000        0.211  \n",
       "11        NaN     1.000        0.863  \n",
       "12        NaN     1.000        0.798  \n",
       "13        NaN     0.995        0.305  \n",
       "14        NaN     1.000        0.656  \n",
       "15        NaN     1.000        0.278  "
      ]
     },
     "execution_count": 18,
     "metadata": {},
     "output_type": "execute_result"
    }
   ],
   "source": [
    "res_pre"
   ]
  },
  {
   "cell_type": "code",
   "execution_count": 21,
   "id": "16c6780d",
   "metadata": {},
   "outputs": [
    {
     "data": {
      "text/plain": [
       "0.5144666970681424"
      ]
     },
     "execution_count": 21,
     "metadata": {},
     "output_type": "execute_result"
    }
   ],
   "source": [
    "df_out = match_obj.df_out_final_post_trim.merge(df[y + X + [id]], how='left', on = id)\n",
    "df_out[df_out['treatment']==0]['c_1'].mean()"
   ]
  },
  {
   "cell_type": "code",
   "execution_count": 20,
   "id": "bfe6820a",
   "metadata": {},
   "outputs": [
    {
     "data": {
      "text/html": [
       "<div>\n",
       "<style scoped>\n",
       "    .dataframe tbody tr th:only-of-type {\n",
       "        vertical-align: middle;\n",
       "    }\n",
       "\n",
       "    .dataframe tbody tr th {\n",
       "        vertical-align: top;\n",
       "    }\n",
       "\n",
       "    .dataframe thead th {\n",
       "        text-align: right;\n",
       "    }\n",
       "</style>\n",
       "<table border=\"1\" class=\"dataframe\">\n",
       "  <thead>\n",
       "    <tr style=\"text-align: right;\">\n",
       "      <th></th>\n",
       "      <th>user_id_treat</th>\n",
       "      <th>treatment_treat</th>\n",
       "      <th>pscore_treat</th>\n",
       "      <th>user_id_control</th>\n",
       "      <th>treatment_control</th>\n",
       "      <th>pscore_control</th>\n",
       "      <th>pscore_diff</th>\n",
       "    </tr>\n",
       "  </thead>\n",
       "  <tbody>\n",
       "    <tr>\n",
       "      <th>0</th>\n",
       "      <td>2</td>\n",
       "      <td>1.0</td>\n",
       "      <td>0.506268</td>\n",
       "      <td>2834</td>\n",
       "      <td>0.0</td>\n",
       "      <td>0.506247</td>\n",
       "      <td>0.000021</td>\n",
       "    </tr>\n",
       "    <tr>\n",
       "      <th>1</th>\n",
       "      <td>4</td>\n",
       "      <td>1.0</td>\n",
       "      <td>0.505473</td>\n",
       "      <td>320</td>\n",
       "      <td>0.0</td>\n",
       "      <td>0.505473</td>\n",
       "      <td>0.000000</td>\n",
       "    </tr>\n",
       "    <tr>\n",
       "      <th>2</th>\n",
       "      <td>5</td>\n",
       "      <td>1.0</td>\n",
       "      <td>0.507653</td>\n",
       "      <td>8968</td>\n",
       "      <td>0.0</td>\n",
       "      <td>0.507672</td>\n",
       "      <td>0.000019</td>\n",
       "    </tr>\n",
       "    <tr>\n",
       "      <th>3</th>\n",
       "      <td>6</td>\n",
       "      <td>1.0</td>\n",
       "      <td>0.452660</td>\n",
       "      <td>6961</td>\n",
       "      <td>0.0</td>\n",
       "      <td>0.452780</td>\n",
       "      <td>0.000120</td>\n",
       "    </tr>\n",
       "    <tr>\n",
       "      <th>4</th>\n",
       "      <td>7</td>\n",
       "      <td>1.0</td>\n",
       "      <td>0.525007</td>\n",
       "      <td>3201</td>\n",
       "      <td>0.0</td>\n",
       "      <td>0.525012</td>\n",
       "      <td>0.000006</td>\n",
       "    </tr>\n",
       "    <tr>\n",
       "      <th>...</th>\n",
       "      <td>...</td>\n",
       "      <td>...</td>\n",
       "      <td>...</td>\n",
       "      <td>...</td>\n",
       "      <td>...</td>\n",
       "      <td>...</td>\n",
       "      <td>...</td>\n",
       "    </tr>\n",
       "    <tr>\n",
       "      <th>5092</th>\n",
       "      <td>9994</td>\n",
       "      <td>1.0</td>\n",
       "      <td>0.508411</td>\n",
       "      <td>6397</td>\n",
       "      <td>0.0</td>\n",
       "      <td>0.508411</td>\n",
       "      <td>0.000000</td>\n",
       "    </tr>\n",
       "    <tr>\n",
       "      <th>5093</th>\n",
       "      <td>9995</td>\n",
       "      <td>1.0</td>\n",
       "      <td>0.528377</td>\n",
       "      <td>148</td>\n",
       "      <td>0.0</td>\n",
       "      <td>0.528399</td>\n",
       "      <td>0.000022</td>\n",
       "    </tr>\n",
       "    <tr>\n",
       "      <th>5094</th>\n",
       "      <td>9997</td>\n",
       "      <td>1.0</td>\n",
       "      <td>0.722550</td>\n",
       "      <td>5270</td>\n",
       "      <td>0.0</td>\n",
       "      <td>0.646283</td>\n",
       "      <td>0.076267</td>\n",
       "    </tr>\n",
       "    <tr>\n",
       "      <th>5095</th>\n",
       "      <td>9998</td>\n",
       "      <td>1.0</td>\n",
       "      <td>0.522738</td>\n",
       "      <td>3270</td>\n",
       "      <td>0.0</td>\n",
       "      <td>0.522727</td>\n",
       "      <td>0.000011</td>\n",
       "    </tr>\n",
       "    <tr>\n",
       "      <th>5096</th>\n",
       "      <td>9999</td>\n",
       "      <td>1.0</td>\n",
       "      <td>0.490872</td>\n",
       "      <td>6398</td>\n",
       "      <td>0.0</td>\n",
       "      <td>0.490872</td>\n",
       "      <td>0.000000</td>\n",
       "    </tr>\n",
       "  </tbody>\n",
       "</table>\n",
       "<p>5097 rows × 7 columns</p>\n",
       "</div>"
      ],
      "text/plain": [
       "      user_id_treat  treatment_treat  pscore_treat  user_id_control  \\\n",
       "0                 2              1.0      0.506268             2834   \n",
       "1                 4              1.0      0.505473              320   \n",
       "2                 5              1.0      0.507653             8968   \n",
       "3                 6              1.0      0.452660             6961   \n",
       "4                 7              1.0      0.525007             3201   \n",
       "...             ...              ...           ...              ...   \n",
       "5092           9994              1.0      0.508411             6397   \n",
       "5093           9995              1.0      0.528377              148   \n",
       "5094           9997              1.0      0.722550             5270   \n",
       "5095           9998              1.0      0.522738             3270   \n",
       "5096           9999              1.0      0.490872             6398   \n",
       "\n",
       "      treatment_control  pscore_control  pscore_diff  \n",
       "0                   0.0        0.506247     0.000021  \n",
       "1                   0.0        0.505473     0.000000  \n",
       "2                   0.0        0.507672     0.000019  \n",
       "3                   0.0        0.452780     0.000120  \n",
       "4                   0.0        0.525012     0.000006  \n",
       "...                 ...             ...          ...  \n",
       "5092                0.0        0.508411     0.000000  \n",
       "5093                0.0        0.528399     0.000022  \n",
       "5094                0.0        0.646283     0.076267  \n",
       "5095                0.0        0.522727     0.000011  \n",
       "5096                0.0        0.490872     0.000000  \n",
       "\n",
       "[5097 rows x 7 columns]"
      ]
     },
     "execution_count": 20,
     "metadata": {},
     "output_type": "execute_result"
    }
   ],
   "source": [
    "match_obj.df_out_final"
   ]
  },
  {
   "cell_type": "code",
   "execution_count": 6,
   "id": "f96fe3eb",
   "metadata": {},
   "outputs": [],
   "source": [
    "x_numeric = match_obj.X_numeric\n",
    "x_discrete = match_obj.X_discrete\n",
    "df_out_ = match_obj.df_out_final\n",
    "df_cat = match_obj.data_with_categ\n",
    "df_psm_post_trim = match_obj.df_out_final_post_trim\n",
    "df_raw = match_obj.data\n",
    "\n",
    "T = match_obj.T\n",
    "id = match_obj.id"
   ]
  },
  {
   "cell_type": "code",
   "execution_count": 8,
   "id": "44682b93",
   "metadata": {},
   "outputs": [
    {
     "data": {
      "text/html": [
       "<div>\n",
       "<style scoped>\n",
       "    .dataframe tbody tr th:only-of-type {\n",
       "        vertical-align: middle;\n",
       "    }\n",
       "\n",
       "    .dataframe tbody tr th {\n",
       "        vertical-align: top;\n",
       "    }\n",
       "\n",
       "    .dataframe thead th {\n",
       "        text-align: right;\n",
       "    }\n",
       "</style>\n",
       "<table border=\"1\" class=\"dataframe\">\n",
       "  <thead>\n",
       "    <tr style=\"text-align: right;\">\n",
       "      <th></th>\n",
       "      <th>c_1</th>\n",
       "      <th>c_2</th>\n",
       "      <th>c_3</th>\n",
       "      <th>d_1</th>\n",
       "      <th>gender</th>\n",
       "      <th>d_3</th>\n",
       "      <th>treatment</th>\n",
       "      <th>y</th>\n",
       "      <th>y2</th>\n",
       "      <th>user_id</th>\n",
       "    </tr>\n",
       "  </thead>\n",
       "  <tbody>\n",
       "    <tr>\n",
       "      <th>0</th>\n",
       "      <td>0.373012</td>\n",
       "      <td>0.447997</td>\n",
       "      <td>0.129441</td>\n",
       "      <td>cat</td>\n",
       "      <td>female</td>\n",
       "      <td>9.0</td>\n",
       "      <td>0.0</td>\n",
       "      <td>-0.434046</td>\n",
       "      <td>0.310434</td>\n",
       "      <td>0</td>\n",
       "    </tr>\n",
       "    <tr>\n",
       "      <th>1</th>\n",
       "      <td>0.859879</td>\n",
       "      <td>0.820388</td>\n",
       "      <td>0.352054</td>\n",
       "      <td>apple</td>\n",
       "      <td>cat5</td>\n",
       "      <td>7.0</td>\n",
       "      <td>0.0</td>\n",
       "      <td>-0.899654</td>\n",
       "      <td>0.703410</td>\n",
       "      <td>1</td>\n",
       "    </tr>\n",
       "    <tr>\n",
       "      <th>2</th>\n",
       "      <td>0.228887</td>\n",
       "      <td>0.776784</td>\n",
       "      <td>0.594784</td>\n",
       "      <td>dog</td>\n",
       "      <td>female</td>\n",
       "      <td>7.0</td>\n",
       "      <td>1.0</td>\n",
       "      <td>-2.425582</td>\n",
       "      <td>-1.560741</td>\n",
       "      <td>2</td>\n",
       "    </tr>\n",
       "    <tr>\n",
       "      <th>3</th>\n",
       "      <td>0.137554</td>\n",
       "      <td>0.852900</td>\n",
       "      <td>0.235507</td>\n",
       "      <td>bee</td>\n",
       "      <td>dog</td>\n",
       "      <td>3.0</td>\n",
       "      <td>0.0</td>\n",
       "      <td>0.916957</td>\n",
       "      <td>1.862262</td>\n",
       "      <td>3</td>\n",
       "    </tr>\n",
       "    <tr>\n",
       "      <th>4</th>\n",
       "      <td>0.146227</td>\n",
       "      <td>0.589869</td>\n",
       "      <td>0.574012</td>\n",
       "      <td>apple</td>\n",
       "      <td>dog</td>\n",
       "      <td>5.0</td>\n",
       "      <td>1.0</td>\n",
       "      <td>-0.199377</td>\n",
       "      <td>0.441810</td>\n",
       "      <td>4</td>\n",
       "    </tr>\n",
       "    <tr>\n",
       "      <th>...</th>\n",
       "      <td>...</td>\n",
       "      <td>...</td>\n",
       "      <td>...</td>\n",
       "      <td>...</td>\n",
       "      <td>...</td>\n",
       "      <td>...</td>\n",
       "      <td>...</td>\n",
       "      <td>...</td>\n",
       "      <td>...</td>\n",
       "      <td>...</td>\n",
       "    </tr>\n",
       "    <tr>\n",
       "      <th>9995</th>\n",
       "      <td>0.152349</td>\n",
       "      <td>0.201680</td>\n",
       "      <td>0.027182</td>\n",
       "      <td>pear</td>\n",
       "      <td>dog</td>\n",
       "      <td>2.0</td>\n",
       "      <td>1.0</td>\n",
       "      <td>-0.997052</td>\n",
       "      <td>-1.100664</td>\n",
       "      <td>9995</td>\n",
       "    </tr>\n",
       "    <tr>\n",
       "      <th>9996</th>\n",
       "      <td>0.258117</td>\n",
       "      <td>0.052080</td>\n",
       "      <td>0.832009</td>\n",
       "      <td>pear</td>\n",
       "      <td>female</td>\n",
       "      <td>6.0</td>\n",
       "      <td>0.0</td>\n",
       "      <td>-0.722280</td>\n",
       "      <td>0.225611</td>\n",
       "      <td>9996</td>\n",
       "    </tr>\n",
       "    <tr>\n",
       "      <th>9997</th>\n",
       "      <td>0.117296</td>\n",
       "      <td>0.451569</td>\n",
       "      <td>0.000215</td>\n",
       "      <td>dog</td>\n",
       "      <td>dog</td>\n",
       "      <td>9.0</td>\n",
       "      <td>1.0</td>\n",
       "      <td>2.560772</td>\n",
       "      <td>2.592424</td>\n",
       "      <td>9997</td>\n",
       "    </tr>\n",
       "    <tr>\n",
       "      <th>9998</th>\n",
       "      <td>0.489519</td>\n",
       "      <td>0.949240</td>\n",
       "      <td>0.273256</td>\n",
       "      <td>pear</td>\n",
       "      <td>cat2</td>\n",
       "      <td>3.0</td>\n",
       "      <td>1.0</td>\n",
       "      <td>-0.514552</td>\n",
       "      <td>0.418862</td>\n",
       "      <td>9998</td>\n",
       "    </tr>\n",
       "    <tr>\n",
       "      <th>9999</th>\n",
       "      <td>0.815383</td>\n",
       "      <td>0.528709</td>\n",
       "      <td>0.610985</td>\n",
       "      <td>bee</td>\n",
       "      <td>cat3</td>\n",
       "      <td>4.0</td>\n",
       "      <td>1.0</td>\n",
       "      <td>1.094407</td>\n",
       "      <td>2.262029</td>\n",
       "      <td>9999</td>\n",
       "    </tr>\n",
       "  </tbody>\n",
       "</table>\n",
       "<p>10000 rows × 10 columns</p>\n",
       "</div>"
      ],
      "text/plain": [
       "           c_1       c_2       c_3    d_1  gender  d_3  treatment         y  \\\n",
       "0     0.373012  0.447997  0.129441    cat  female  9.0        0.0 -0.434046   \n",
       "1     0.859879  0.820388  0.352054  apple    cat5  7.0        0.0 -0.899654   \n",
       "2     0.228887  0.776784  0.594784    dog  female  7.0        1.0 -2.425582   \n",
       "3     0.137554  0.852900  0.235507    bee     dog  3.0        0.0  0.916957   \n",
       "4     0.146227  0.589869  0.574012  apple     dog  5.0        1.0 -0.199377   \n",
       "...        ...       ...       ...    ...     ...  ...        ...       ...   \n",
       "9995  0.152349  0.201680  0.027182   pear     dog  2.0        1.0 -0.997052   \n",
       "9996  0.258117  0.052080  0.832009   pear  female  6.0        0.0 -0.722280   \n",
       "9997  0.117296  0.451569  0.000215    dog     dog  9.0        1.0  2.560772   \n",
       "9998  0.489519  0.949240  0.273256   pear    cat2  3.0        1.0 -0.514552   \n",
       "9999  0.815383  0.528709  0.610985    bee    cat3  4.0        1.0  1.094407   \n",
       "\n",
       "            y2  user_id  \n",
       "0     0.310434        0  \n",
       "1     0.703410        1  \n",
       "2    -1.560741        2  \n",
       "3     1.862262        3  \n",
       "4     0.441810        4  \n",
       "...        ...      ...  \n",
       "9995 -1.100664     9995  \n",
       "9996  0.225611     9996  \n",
       "9997  2.592424     9997  \n",
       "9998  0.418862     9998  \n",
       "9999  2.262029     9999  \n",
       "\n",
       "[10000 rows x 10 columns]"
      ]
     },
     "execution_count": 8,
     "metadata": {},
     "output_type": "execute_result"
    }
   ],
   "source": [
    "df_raw"
   ]
  },
  {
   "cell_type": "code",
   "execution_count": 10,
   "id": "ba86719e",
   "metadata": {},
   "outputs": [],
   "source": [
    "include_discrete = True\n",
    "if include_discrete:\n",
    "    df_right = (df_cat) * 1\n",
    "else:\n",
    "    df_right = df_cat[x_numeric]\n",
    "\n",
    "df_x = df_right.columns\n",
    "df_right[id] = df_raw[id]\n",
    "df_post_validate = df_psm_post_trim.merge(df_right, how='left', on=id)"
   ]
  },
  {
   "cell_type": "code",
   "execution_count": 11,
   "id": "d1d76a08",
   "metadata": {},
   "outputs": [
    {
     "data": {
      "text/html": [
       "<div>\n",
       "<style scoped>\n",
       "    .dataframe tbody tr th:only-of-type {\n",
       "        vertical-align: middle;\n",
       "    }\n",
       "\n",
       "    .dataframe tbody tr th {\n",
       "        vertical-align: top;\n",
       "    }\n",
       "\n",
       "    .dataframe thead th {\n",
       "        text-align: right;\n",
       "    }\n",
       "</style>\n",
       "<table border=\"1\" class=\"dataframe\">\n",
       "  <thead>\n",
       "    <tr style=\"text-align: right;\">\n",
       "      <th></th>\n",
       "      <th>c_1</th>\n",
       "      <th>c_2</th>\n",
       "      <th>c_3</th>\n",
       "      <th>d_1_bee</th>\n",
       "      <th>d_1_cat</th>\n",
       "      <th>d_1_dog</th>\n",
       "      <th>d_1_pear</th>\n",
       "      <th>gender_cat1</th>\n",
       "      <th>gender_cat2</th>\n",
       "      <th>gender_cat3</th>\n",
       "      <th>gender_cat4</th>\n",
       "      <th>gender_cat5</th>\n",
       "      <th>gender_dog</th>\n",
       "      <th>gender_female</th>\n",
       "      <th>gender_male</th>\n",
       "      <th>gender_pig</th>\n",
       "      <th>user_id</th>\n",
       "    </tr>\n",
       "  </thead>\n",
       "  <tbody>\n",
       "    <tr>\n",
       "      <th>0</th>\n",
       "      <td>0.373012</td>\n",
       "      <td>0.447997</td>\n",
       "      <td>0.129441</td>\n",
       "      <td>0</td>\n",
       "      <td>1</td>\n",
       "      <td>0</td>\n",
       "      <td>0</td>\n",
       "      <td>0</td>\n",
       "      <td>0</td>\n",
       "      <td>0</td>\n",
       "      <td>0</td>\n",
       "      <td>0</td>\n",
       "      <td>0</td>\n",
       "      <td>1</td>\n",
       "      <td>0</td>\n",
       "      <td>0</td>\n",
       "      <td>0</td>\n",
       "    </tr>\n",
       "    <tr>\n",
       "      <th>1</th>\n",
       "      <td>0.859879</td>\n",
       "      <td>0.820388</td>\n",
       "      <td>0.352054</td>\n",
       "      <td>0</td>\n",
       "      <td>0</td>\n",
       "      <td>0</td>\n",
       "      <td>0</td>\n",
       "      <td>0</td>\n",
       "      <td>0</td>\n",
       "      <td>0</td>\n",
       "      <td>0</td>\n",
       "      <td>1</td>\n",
       "      <td>0</td>\n",
       "      <td>0</td>\n",
       "      <td>0</td>\n",
       "      <td>0</td>\n",
       "      <td>1</td>\n",
       "    </tr>\n",
       "    <tr>\n",
       "      <th>2</th>\n",
       "      <td>0.228887</td>\n",
       "      <td>0.776784</td>\n",
       "      <td>0.594784</td>\n",
       "      <td>0</td>\n",
       "      <td>0</td>\n",
       "      <td>1</td>\n",
       "      <td>0</td>\n",
       "      <td>0</td>\n",
       "      <td>0</td>\n",
       "      <td>0</td>\n",
       "      <td>0</td>\n",
       "      <td>0</td>\n",
       "      <td>0</td>\n",
       "      <td>1</td>\n",
       "      <td>0</td>\n",
       "      <td>0</td>\n",
       "      <td>2</td>\n",
       "    </tr>\n",
       "    <tr>\n",
       "      <th>3</th>\n",
       "      <td>0.137554</td>\n",
       "      <td>0.852900</td>\n",
       "      <td>0.235507</td>\n",
       "      <td>1</td>\n",
       "      <td>0</td>\n",
       "      <td>0</td>\n",
       "      <td>0</td>\n",
       "      <td>0</td>\n",
       "      <td>0</td>\n",
       "      <td>0</td>\n",
       "      <td>0</td>\n",
       "      <td>0</td>\n",
       "      <td>1</td>\n",
       "      <td>0</td>\n",
       "      <td>0</td>\n",
       "      <td>0</td>\n",
       "      <td>3</td>\n",
       "    </tr>\n",
       "    <tr>\n",
       "      <th>4</th>\n",
       "      <td>0.146227</td>\n",
       "      <td>0.589869</td>\n",
       "      <td>0.574012</td>\n",
       "      <td>0</td>\n",
       "      <td>0</td>\n",
       "      <td>0</td>\n",
       "      <td>0</td>\n",
       "      <td>0</td>\n",
       "      <td>0</td>\n",
       "      <td>0</td>\n",
       "      <td>0</td>\n",
       "      <td>0</td>\n",
       "      <td>1</td>\n",
       "      <td>0</td>\n",
       "      <td>0</td>\n",
       "      <td>0</td>\n",
       "      <td>4</td>\n",
       "    </tr>\n",
       "    <tr>\n",
       "      <th>...</th>\n",
       "      <td>...</td>\n",
       "      <td>...</td>\n",
       "      <td>...</td>\n",
       "      <td>...</td>\n",
       "      <td>...</td>\n",
       "      <td>...</td>\n",
       "      <td>...</td>\n",
       "      <td>...</td>\n",
       "      <td>...</td>\n",
       "      <td>...</td>\n",
       "      <td>...</td>\n",
       "      <td>...</td>\n",
       "      <td>...</td>\n",
       "      <td>...</td>\n",
       "      <td>...</td>\n",
       "      <td>...</td>\n",
       "      <td>...</td>\n",
       "    </tr>\n",
       "    <tr>\n",
       "      <th>9995</th>\n",
       "      <td>0.152349</td>\n",
       "      <td>0.201680</td>\n",
       "      <td>0.027182</td>\n",
       "      <td>0</td>\n",
       "      <td>0</td>\n",
       "      <td>0</td>\n",
       "      <td>1</td>\n",
       "      <td>0</td>\n",
       "      <td>0</td>\n",
       "      <td>0</td>\n",
       "      <td>0</td>\n",
       "      <td>0</td>\n",
       "      <td>1</td>\n",
       "      <td>0</td>\n",
       "      <td>0</td>\n",
       "      <td>0</td>\n",
       "      <td>9995</td>\n",
       "    </tr>\n",
       "    <tr>\n",
       "      <th>9996</th>\n",
       "      <td>0.258117</td>\n",
       "      <td>0.052080</td>\n",
       "      <td>0.832009</td>\n",
       "      <td>0</td>\n",
       "      <td>0</td>\n",
       "      <td>0</td>\n",
       "      <td>1</td>\n",
       "      <td>0</td>\n",
       "      <td>0</td>\n",
       "      <td>0</td>\n",
       "      <td>0</td>\n",
       "      <td>0</td>\n",
       "      <td>0</td>\n",
       "      <td>1</td>\n",
       "      <td>0</td>\n",
       "      <td>0</td>\n",
       "      <td>9996</td>\n",
       "    </tr>\n",
       "    <tr>\n",
       "      <th>9997</th>\n",
       "      <td>0.117296</td>\n",
       "      <td>0.451569</td>\n",
       "      <td>0.000215</td>\n",
       "      <td>0</td>\n",
       "      <td>0</td>\n",
       "      <td>1</td>\n",
       "      <td>0</td>\n",
       "      <td>0</td>\n",
       "      <td>0</td>\n",
       "      <td>0</td>\n",
       "      <td>0</td>\n",
       "      <td>0</td>\n",
       "      <td>1</td>\n",
       "      <td>0</td>\n",
       "      <td>0</td>\n",
       "      <td>0</td>\n",
       "      <td>9997</td>\n",
       "    </tr>\n",
       "    <tr>\n",
       "      <th>9998</th>\n",
       "      <td>0.489519</td>\n",
       "      <td>0.949240</td>\n",
       "      <td>0.273256</td>\n",
       "      <td>0</td>\n",
       "      <td>0</td>\n",
       "      <td>0</td>\n",
       "      <td>1</td>\n",
       "      <td>0</td>\n",
       "      <td>1</td>\n",
       "      <td>0</td>\n",
       "      <td>0</td>\n",
       "      <td>0</td>\n",
       "      <td>0</td>\n",
       "      <td>0</td>\n",
       "      <td>0</td>\n",
       "      <td>0</td>\n",
       "      <td>9998</td>\n",
       "    </tr>\n",
       "    <tr>\n",
       "      <th>9999</th>\n",
       "      <td>0.815383</td>\n",
       "      <td>0.528709</td>\n",
       "      <td>0.610985</td>\n",
       "      <td>1</td>\n",
       "      <td>0</td>\n",
       "      <td>0</td>\n",
       "      <td>0</td>\n",
       "      <td>0</td>\n",
       "      <td>0</td>\n",
       "      <td>1</td>\n",
       "      <td>0</td>\n",
       "      <td>0</td>\n",
       "      <td>0</td>\n",
       "      <td>0</td>\n",
       "      <td>0</td>\n",
       "      <td>0</td>\n",
       "      <td>9999</td>\n",
       "    </tr>\n",
       "  </tbody>\n",
       "</table>\n",
       "<p>10000 rows × 17 columns</p>\n",
       "</div>"
      ],
      "text/plain": [
       "           c_1       c_2       c_3  d_1_bee  d_1_cat  d_1_dog  d_1_pear  \\\n",
       "0     0.373012  0.447997  0.129441        0        1        0         0   \n",
       "1     0.859879  0.820388  0.352054        0        0        0         0   \n",
       "2     0.228887  0.776784  0.594784        0        0        1         0   \n",
       "3     0.137554  0.852900  0.235507        1        0        0         0   \n",
       "4     0.146227  0.589869  0.574012        0        0        0         0   \n",
       "...        ...       ...       ...      ...      ...      ...       ...   \n",
       "9995  0.152349  0.201680  0.027182        0        0        0         1   \n",
       "9996  0.258117  0.052080  0.832009        0        0        0         1   \n",
       "9997  0.117296  0.451569  0.000215        0        0        1         0   \n",
       "9998  0.489519  0.949240  0.273256        0        0        0         1   \n",
       "9999  0.815383  0.528709  0.610985        1        0        0         0   \n",
       "\n",
       "      gender_cat1  gender_cat2  gender_cat3  gender_cat4  gender_cat5  \\\n",
       "0               0            0            0            0            0   \n",
       "1               0            0            0            0            1   \n",
       "2               0            0            0            0            0   \n",
       "3               0            0            0            0            0   \n",
       "4               0            0            0            0            0   \n",
       "...           ...          ...          ...          ...          ...   \n",
       "9995            0            0            0            0            0   \n",
       "9996            0            0            0            0            0   \n",
       "9997            0            0            0            0            0   \n",
       "9998            0            1            0            0            0   \n",
       "9999            0            0            1            0            0   \n",
       "\n",
       "      gender_dog  gender_female  gender_male  gender_pig  user_id  \n",
       "0              0              1            0           0        0  \n",
       "1              0              0            0           0        1  \n",
       "2              0              1            0           0        2  \n",
       "3              1              0            0           0        3  \n",
       "4              1              0            0           0        4  \n",
       "...          ...            ...          ...         ...      ...  \n",
       "9995           1              0            0           0     9995  \n",
       "9996           0              1            0           0     9996  \n",
       "9997           1              0            0           0     9997  \n",
       "9998           0              0            0           0     9998  \n",
       "9999           0              0            0           0     9999  \n",
       "\n",
       "[10000 rows x 17 columns]"
      ]
     },
     "execution_count": 11,
     "metadata": {},
     "output_type": "execute_result"
    }
   ],
   "source": [
    "df_right"
   ]
  },
  {
   "cell_type": "code",
   "execution_count": 12,
   "id": "7e57b321",
   "metadata": {},
   "outputs": [
    {
     "data": {
      "text/plain": [
       "Index(['c_1', 'c_2', 'c_3', 'd_1_bee', 'd_1_cat', 'd_1_dog', 'd_1_pear',\n",
       "       'gender_cat1', 'gender_cat2', 'gender_cat3', 'gender_cat4',\n",
       "       'gender_cat5', 'gender_dog', 'gender_female', 'gender_male',\n",
       "       'gender_pig'],\n",
       "      dtype='object')"
      ]
     },
     "execution_count": 12,
     "metadata": {},
     "output_type": "execute_result"
    }
   ],
   "source": [
    "df_x"
   ]
  },
  {
   "cell_type": "code",
   "execution_count": 13,
   "id": "0f8f1966",
   "metadata": {},
   "outputs": [
    {
     "data": {
      "text/html": [
       "<div>\n",
       "<style scoped>\n",
       "    .dataframe tbody tr th:only-of-type {\n",
       "        vertical-align: middle;\n",
       "    }\n",
       "\n",
       "    .dataframe tbody tr th {\n",
       "        vertical-align: top;\n",
       "    }\n",
       "\n",
       "    .dataframe thead th {\n",
       "        text-align: right;\n",
       "    }\n",
       "</style>\n",
       "<table border=\"1\" class=\"dataframe\">\n",
       "  <thead>\n",
       "    <tr style=\"text-align: right;\">\n",
       "      <th></th>\n",
       "      <th>user_id</th>\n",
       "      <th>treatment</th>\n",
       "      <th>pscore</th>\n",
       "      <th>c_1</th>\n",
       "      <th>c_2</th>\n",
       "      <th>c_3</th>\n",
       "      <th>d_1_bee</th>\n",
       "      <th>d_1_cat</th>\n",
       "      <th>d_1_dog</th>\n",
       "      <th>d_1_pear</th>\n",
       "      <th>gender_cat1</th>\n",
       "      <th>gender_cat2</th>\n",
       "      <th>gender_cat3</th>\n",
       "      <th>gender_cat4</th>\n",
       "      <th>gender_cat5</th>\n",
       "      <th>gender_dog</th>\n",
       "      <th>gender_female</th>\n",
       "      <th>gender_male</th>\n",
       "      <th>gender_pig</th>\n",
       "    </tr>\n",
       "  </thead>\n",
       "  <tbody>\n",
       "    <tr>\n",
       "      <th>0</th>\n",
       "      <td>2</td>\n",
       "      <td>1.0</td>\n",
       "      <td>0.506268</td>\n",
       "      <td>0.228887</td>\n",
       "      <td>0.776784</td>\n",
       "      <td>0.594784</td>\n",
       "      <td>0</td>\n",
       "      <td>0</td>\n",
       "      <td>1</td>\n",
       "      <td>0</td>\n",
       "      <td>0</td>\n",
       "      <td>0</td>\n",
       "      <td>0</td>\n",
       "      <td>0</td>\n",
       "      <td>0</td>\n",
       "      <td>0</td>\n",
       "      <td>1</td>\n",
       "      <td>0</td>\n",
       "      <td>0</td>\n",
       "    </tr>\n",
       "    <tr>\n",
       "      <th>1</th>\n",
       "      <td>4</td>\n",
       "      <td>1.0</td>\n",
       "      <td>0.505473</td>\n",
       "      <td>0.146227</td>\n",
       "      <td>0.589869</td>\n",
       "      <td>0.574012</td>\n",
       "      <td>0</td>\n",
       "      <td>0</td>\n",
       "      <td>0</td>\n",
       "      <td>0</td>\n",
       "      <td>0</td>\n",
       "      <td>0</td>\n",
       "      <td>0</td>\n",
       "      <td>0</td>\n",
       "      <td>0</td>\n",
       "      <td>1</td>\n",
       "      <td>0</td>\n",
       "      <td>0</td>\n",
       "      <td>0</td>\n",
       "    </tr>\n",
       "    <tr>\n",
       "      <th>2</th>\n",
       "      <td>5</td>\n",
       "      <td>1.0</td>\n",
       "      <td>0.507653</td>\n",
       "      <td>0.061270</td>\n",
       "      <td>0.590426</td>\n",
       "      <td>0.245350</td>\n",
       "      <td>0</td>\n",
       "      <td>0</td>\n",
       "      <td>0</td>\n",
       "      <td>0</td>\n",
       "      <td>0</td>\n",
       "      <td>1</td>\n",
       "      <td>0</td>\n",
       "      <td>0</td>\n",
       "      <td>0</td>\n",
       "      <td>0</td>\n",
       "      <td>0</td>\n",
       "      <td>0</td>\n",
       "      <td>0</td>\n",
       "    </tr>\n",
       "    <tr>\n",
       "      <th>3</th>\n",
       "      <td>7</td>\n",
       "      <td>1.0</td>\n",
       "      <td>0.525007</td>\n",
       "      <td>0.037772</td>\n",
       "      <td>0.861549</td>\n",
       "      <td>0.753569</td>\n",
       "      <td>0</td>\n",
       "      <td>1</td>\n",
       "      <td>0</td>\n",
       "      <td>0</td>\n",
       "      <td>0</td>\n",
       "      <td>0</td>\n",
       "      <td>0</td>\n",
       "      <td>0</td>\n",
       "      <td>0</td>\n",
       "      <td>0</td>\n",
       "      <td>1</td>\n",
       "      <td>0</td>\n",
       "      <td>0</td>\n",
       "    </tr>\n",
       "    <tr>\n",
       "      <th>4</th>\n",
       "      <td>8</td>\n",
       "      <td>1.0</td>\n",
       "      <td>0.539596</td>\n",
       "      <td>0.405179</td>\n",
       "      <td>0.343526</td>\n",
       "      <td>0.170917</td>\n",
       "      <td>0</td>\n",
       "      <td>0</td>\n",
       "      <td>0</td>\n",
       "      <td>0</td>\n",
       "      <td>0</td>\n",
       "      <td>0</td>\n",
       "      <td>0</td>\n",
       "      <td>0</td>\n",
       "      <td>0</td>\n",
       "      <td>0</td>\n",
       "      <td>1</td>\n",
       "      <td>0</td>\n",
       "      <td>0</td>\n",
       "    </tr>\n",
       "    <tr>\n",
       "      <th>...</th>\n",
       "      <td>...</td>\n",
       "      <td>...</td>\n",
       "      <td>...</td>\n",
       "      <td>...</td>\n",
       "      <td>...</td>\n",
       "      <td>...</td>\n",
       "      <td>...</td>\n",
       "      <td>...</td>\n",
       "      <td>...</td>\n",
       "      <td>...</td>\n",
       "      <td>...</td>\n",
       "      <td>...</td>\n",
       "      <td>...</td>\n",
       "      <td>...</td>\n",
       "      <td>...</td>\n",
       "      <td>...</td>\n",
       "      <td>...</td>\n",
       "      <td>...</td>\n",
       "      <td>...</td>\n",
       "    </tr>\n",
       "    <tr>\n",
       "      <th>9150</th>\n",
       "      <td>4820</td>\n",
       "      <td>0.0</td>\n",
       "      <td>0.510351</td>\n",
       "      <td>0.541758</td>\n",
       "      <td>0.052840</td>\n",
       "      <td>0.988058</td>\n",
       "      <td>0</td>\n",
       "      <td>0</td>\n",
       "      <td>1</td>\n",
       "      <td>0</td>\n",
       "      <td>0</td>\n",
       "      <td>0</td>\n",
       "      <td>0</td>\n",
       "      <td>0</td>\n",
       "      <td>1</td>\n",
       "      <td>0</td>\n",
       "      <td>0</td>\n",
       "      <td>0</td>\n",
       "      <td>0</td>\n",
       "    </tr>\n",
       "    <tr>\n",
       "      <th>9151</th>\n",
       "      <td>6397</td>\n",
       "      <td>0.0</td>\n",
       "      <td>0.508411</td>\n",
       "      <td>0.302329</td>\n",
       "      <td>0.513633</td>\n",
       "      <td>0.527378</td>\n",
       "      <td>0</td>\n",
       "      <td>1</td>\n",
       "      <td>0</td>\n",
       "      <td>0</td>\n",
       "      <td>0</td>\n",
       "      <td>0</td>\n",
       "      <td>0</td>\n",
       "      <td>0</td>\n",
       "      <td>0</td>\n",
       "      <td>0</td>\n",
       "      <td>1</td>\n",
       "      <td>0</td>\n",
       "      <td>0</td>\n",
       "    </tr>\n",
       "    <tr>\n",
       "      <th>9152</th>\n",
       "      <td>148</td>\n",
       "      <td>0.0</td>\n",
       "      <td>0.528399</td>\n",
       "      <td>0.070273</td>\n",
       "      <td>0.915035</td>\n",
       "      <td>0.215814</td>\n",
       "      <td>0</td>\n",
       "      <td>0</td>\n",
       "      <td>1</td>\n",
       "      <td>0</td>\n",
       "      <td>0</td>\n",
       "      <td>0</td>\n",
       "      <td>0</td>\n",
       "      <td>0</td>\n",
       "      <td>0</td>\n",
       "      <td>0</td>\n",
       "      <td>1</td>\n",
       "      <td>0</td>\n",
       "      <td>0</td>\n",
       "    </tr>\n",
       "    <tr>\n",
       "      <th>9153</th>\n",
       "      <td>3270</td>\n",
       "      <td>0.0</td>\n",
       "      <td>0.522727</td>\n",
       "      <td>0.189208</td>\n",
       "      <td>0.469702</td>\n",
       "      <td>0.359837</td>\n",
       "      <td>0</td>\n",
       "      <td>0</td>\n",
       "      <td>0</td>\n",
       "      <td>1</td>\n",
       "      <td>0</td>\n",
       "      <td>0</td>\n",
       "      <td>0</td>\n",
       "      <td>0</td>\n",
       "      <td>0</td>\n",
       "      <td>0</td>\n",
       "      <td>0</td>\n",
       "      <td>0</td>\n",
       "      <td>0</td>\n",
       "    </tr>\n",
       "    <tr>\n",
       "      <th>9154</th>\n",
       "      <td>6398</td>\n",
       "      <td>0.0</td>\n",
       "      <td>0.490872</td>\n",
       "      <td>0.667395</td>\n",
       "      <td>0.447050</td>\n",
       "      <td>0.693209</td>\n",
       "      <td>1</td>\n",
       "      <td>0</td>\n",
       "      <td>0</td>\n",
       "      <td>0</td>\n",
       "      <td>0</td>\n",
       "      <td>0</td>\n",
       "      <td>1</td>\n",
       "      <td>0</td>\n",
       "      <td>0</td>\n",
       "      <td>0</td>\n",
       "      <td>0</td>\n",
       "      <td>0</td>\n",
       "      <td>0</td>\n",
       "    </tr>\n",
       "  </tbody>\n",
       "</table>\n",
       "<p>9155 rows × 19 columns</p>\n",
       "</div>"
      ],
      "text/plain": [
       "      user_id  treatment    pscore       c_1       c_2       c_3  d_1_bee  \\\n",
       "0           2        1.0  0.506268  0.228887  0.776784  0.594784        0   \n",
       "1           4        1.0  0.505473  0.146227  0.589869  0.574012        0   \n",
       "2           5        1.0  0.507653  0.061270  0.590426  0.245350        0   \n",
       "3           7        1.0  0.525007  0.037772  0.861549  0.753569        0   \n",
       "4           8        1.0  0.539596  0.405179  0.343526  0.170917        0   \n",
       "...       ...        ...       ...       ...       ...       ...      ...   \n",
       "9150     4820        0.0  0.510351  0.541758  0.052840  0.988058        0   \n",
       "9151     6397        0.0  0.508411  0.302329  0.513633  0.527378        0   \n",
       "9152      148        0.0  0.528399  0.070273  0.915035  0.215814        0   \n",
       "9153     3270        0.0  0.522727  0.189208  0.469702  0.359837        0   \n",
       "9154     6398        0.0  0.490872  0.667395  0.447050  0.693209        1   \n",
       "\n",
       "      d_1_cat  d_1_dog  d_1_pear  gender_cat1  gender_cat2  gender_cat3  \\\n",
       "0           0        1         0            0            0            0   \n",
       "1           0        0         0            0            0            0   \n",
       "2           0        0         0            0            1            0   \n",
       "3           1        0         0            0            0            0   \n",
       "4           0        0         0            0            0            0   \n",
       "...       ...      ...       ...          ...          ...          ...   \n",
       "9150        0        1         0            0            0            0   \n",
       "9151        1        0         0            0            0            0   \n",
       "9152        0        1         0            0            0            0   \n",
       "9153        0        0         1            0            0            0   \n",
       "9154        0        0         0            0            0            1   \n",
       "\n",
       "      gender_cat4  gender_cat5  gender_dog  gender_female  gender_male  \\\n",
       "0               0            0           0              1            0   \n",
       "1               0            0           1              0            0   \n",
       "2               0            0           0              0            0   \n",
       "3               0            0           0              1            0   \n",
       "4               0            0           0              1            0   \n",
       "...           ...          ...         ...            ...          ...   \n",
       "9150            0            1           0              0            0   \n",
       "9151            0            0           0              1            0   \n",
       "9152            0            0           0              1            0   \n",
       "9153            0            0           0              0            0   \n",
       "9154            0            0           0              0            0   \n",
       "\n",
       "      gender_pig  \n",
       "0              0  \n",
       "1              0  \n",
       "2              0  \n",
       "3              0  \n",
       "4              0  \n",
       "...          ...  \n",
       "9150           0  \n",
       "9151           0  \n",
       "9152           0  \n",
       "9153           0  \n",
       "9154           0  \n",
       "\n",
       "[9155 rows x 19 columns]"
      ]
     },
     "execution_count": 13,
     "metadata": {},
     "output_type": "execute_result"
    }
   ],
   "source": [
    "df_post_validate"
   ]
  },
  {
   "cell_type": "code",
   "execution_count": null,
   "id": "d5ff3eb1",
   "metadata": {},
   "outputs": [],
   "source": []
  },
  {
   "cell_type": "code",
   "execution_count": null,
   "id": "41774c52",
   "metadata": {},
   "outputs": [],
   "source": []
  },
  {
   "cell_type": "code",
   "execution_count": null,
   "id": "c6c296ba",
   "metadata": {},
   "outputs": [],
   "source": []
  },
  {
   "cell_type": "code",
   "execution_count": null,
   "id": "b7c6e9a2",
   "metadata": {},
   "outputs": [],
   "source": []
  },
  {
   "cell_type": "code",
   "execution_count": null,
   "id": "a5d72ff2",
   "metadata": {},
   "outputs": [],
   "source": []
  },
  {
   "cell_type": "code",
   "execution_count": 6,
   "id": "f584d272",
   "metadata": {},
   "outputs": [
    {
     "name": "stdout",
     "output_type": "stream",
     "text": [
      "Output dataframe columns Index(['user_id', 'treatment', 'pscore'], dtype='object')\n",
      "                  0         1\n",
      "const     -1.171885  0.034522\n",
      "treatment  0.480457  0.085681\n"
     ]
    }
   ],
   "source": [
    "# STEP 4: get result - pandas df, and merge X and y back to original data\n",
    "print('Output dataframe columns', match_obj.df_out_final_post_trim.columns)\n",
    "df_out = match_obj.df_out_final_post_trim.merge(df[y + X + [id]], how='left', on = id)\n",
    "\n",
    "# STEP 5: calculate average treatment effect \n",
    "\n",
    "X_mat = df_out[T]\n",
    "y_mat = df_out[y]\n",
    "\n",
    "X_mat = sm.add_constant(X_mat)\n",
    "model = sm.OLS(y_mat,X_mat)\n",
    "results = model.fit()\n",
    "print(results.params)"
   ]
  },
  {
   "cell_type": "code",
   "execution_count": null,
   "id": "86d15bc7",
   "metadata": {},
   "outputs": [],
   "source": []
  },
  {
   "cell_type": "code",
   "execution_count": null,
   "id": "1e4d8506",
   "metadata": {},
   "outputs": [],
   "source": []
  },
  {
   "cell_type": "code",
   "execution_count": null,
   "id": "e5459f2c",
   "metadata": {},
   "outputs": [],
   "source": []
  },
  {
   "cell_type": "markdown",
   "id": "e294b502",
   "metadata": {},
   "source": [
    "# 20240929"
   ]
  },
  {
   "cell_type": "code",
   "execution_count": 1,
   "id": "ebfc5ea6",
   "metadata": {},
   "outputs": [
    {
     "name": "stdout",
     "output_type": "stream",
     "text": [
      "['/Library/Frameworks/Python.framework/Versions/3.12/lib/python312.zip', '/Library/Frameworks/Python.framework/Versions/3.12/lib/python3.12', '/Library/Frameworks/Python.framework/Versions/3.12/lib/python3.12/lib-dynload', '', '/Users/bytedance/Library/Python/3.12/lib/python/site-packages', '/Library/Frameworks/Python.framework/Versions/3.12/lib/python3.12/site-packages']\n",
      "current version is:  0.0.2\n",
      "/usr/local/bin/python3.12\n",
      "3.12.2 (v3.12.2:6abddd9f6a, Feb  6 2024, 17:02:06) [Clang 13.0.0 (clang-1300.0.29.30)]\n",
      "sys.version_info(major=3, minor=12, micro=2, releaselevel='final', serial=0)\n"
     ]
    }
   ],
   "source": [
    "import sys\n",
    "print(sys.path)\n",
    "sys.path.append('/Users/bytedance/PycharmProjects/github/CausalMatch')\n",
    "\n",
    "import causalmatch as causalmatch\n",
    "from causalmatch import matching,gen_test_data\n",
    "\n",
    "print('current version is: ',causalmatch.__version__)\n",
    "\n",
    "import sys\n",
    "print(sys.executable)\n",
    "print(sys.version)\n",
    "print(sys.version_info)\n",
    "\n",
    "\n",
    "import pandas as pd\n",
    "import numpy as np\n",
    "import statsmodels.api as sm\n",
    "from sklearn.linear_model import LogisticRegression\n",
    "from sklearn.svm import SVC\n",
    "from sklearn.naive_bayes import GaussianNB\n",
    "from sklearn.naive_bayes import MultinomialNB\n",
    "from sklearn.neighbors import KNeighborsClassifier\n",
    "from sklearn.tree import DecisionTreeClassifier\n",
    "from sklearn.ensemble import RandomForestClassifier\n",
    "from sklearn.ensemble import GradientBoostingClassifier\n",
    "from lightgbm import LGBMClassifier\n",
    "from xgboost import XGBClassifier\n",
    "from sklearn.model_selection import train_test_split\n",
    "from sklearn.metrics import recall_score,roc_auc_score,f1_score\n",
    "import statsmodels.api as sm\n",
    "from scipy.stats import wilcoxon,norm"
   ]
  },
  {
   "cell_type": "code",
   "execution_count": 2,
   "id": "cd9cca02",
   "metadata": {},
   "outputs": [],
   "source": [
    "df, rand_continuous, rand_true_param, param_te , rand_treatment, rand_error = gen_test_data(n = 10000, c_ratio=0.5)\n",
    "X = ['c_1', 'c_2', 'c_3', 'd_1', 'gender']\n",
    "y = ['y', 'y2']\n",
    "id = 'user_id'\n",
    "\n",
    "# treatment variable has to be a 0/1 dummy variable\n",
    "# if is string, please convert to a 0/1 int input\n",
    "T = 'treatment'"
   ]
  },
  {
   "cell_type": "code",
   "execution_count": 3,
   "id": "3a89e0c0",
   "metadata": {
    "scrolled": true
   },
   "outputs": [
    {
     "name": "stderr",
     "output_type": "stream",
     "text": [
      "Processed Samples: 100%|████████████| 5097/5097 [00:00<00:00, 793820.04sample/s]"
     ]
    },
    {
     "name": "stdout",
     "output_type": "stream",
     "text": [
      "******************************\n",
      "post-matching balance check reseult        Covariates  Mean Treated post-match  Mean Control post-match   SMD  \\\n",
      "0             c_1                   0.5052                   0.5145 -0.03   \n",
      "1             c_2                   0.5026                   0.4954  0.03   \n",
      "2             c_3                   0.5090                   0.5003  0.03   \n",
      "3         d_1_bee                   0.1123                   0.1097  0.01   \n",
      "4         d_1_cat                   0.1584                   0.1446  0.04   \n",
      "5         d_1_dog                   0.1934                   0.1828  0.03   \n",
      "6        d_1_pear                   0.2567                   0.2787 -0.05   \n",
      "7     gender_cat1                   0.0721                   0.0708  0.01   \n",
      "8     gender_cat2                   0.0865                   0.0861  0.00   \n",
      "9     gender_cat3                   0.1717                   0.2007 -0.08   \n",
      "10    gender_cat4                   0.0210                   0.0151  0.04   \n",
      "11    gender_cat5                   0.1154                   0.1094  0.02   \n",
      "12     gender_dog                   0.1807                   0.1765  0.01   \n",
      "13  gender_female                   0.2087                   0.2090 -0.00   \n",
      "14    gender_male                   0.0238                   0.0306 -0.04   \n",
      "15     gender_pig                   0.0693                   0.0642  0.02   \n",
      "\n",
      "    Var Ratio  ks-p_val  ttest-p_val  \n",
      "0        1.08     0.003        0.109  \n",
      "1        1.06     0.003        0.209  \n",
      "2        1.05     0.003        0.138  \n",
      "3         NaN     1.000        0.687  \n",
      "4         NaN     0.771        0.066  \n",
      "5         NaN     0.959        0.198  \n",
      "6         NaN     0.214        0.017  \n",
      "7         NaN     1.000        0.805  \n",
      "8         NaN     1.000        0.938  \n",
      "9         NaN     0.042        0.000  \n",
      "10        NaN     1.000        0.034  \n",
      "11        NaN     1.000        0.370  \n",
      "12        NaN     1.000        0.601  \n",
      "13        NaN     1.000        0.963  \n",
      "14        NaN     1.000        0.047  \n",
      "15        NaN     1.000        0.334  \n",
      "pre-matching balance check reseult        Covariates  Mean Treated pre-match  Mean Control pre-match   SMD  \\\n",
      "0             c_1                  0.5004                  0.4984  0.01   \n",
      "1             c_2                  0.5024                  0.5062 -0.01   \n",
      "2             c_3                  0.5033                  0.5053 -0.01   \n",
      "3         d_1_bee                  0.1124                  0.1201 -0.02   \n",
      "4         d_1_cat                  0.1581                  0.1577  0.00   \n",
      "5         d_1_dog                  0.1929                  0.1997 -0.02   \n",
      "6        d_1_pear                  0.2551                  0.2541  0.00   \n",
      "7     gender_cat1                  0.0714                  0.0671  0.02   \n",
      "8     gender_cat2                  0.0883                  0.0938 -0.02   \n",
      "9     gender_cat3                  0.1683                  0.1691 -0.00   \n",
      "10    gender_cat4                  0.0247                  0.0288 -0.03   \n",
      "11    gender_cat5                  0.1156                  0.1167 -0.00   \n",
      "12     gender_dog                  0.1776                  0.1756  0.01   \n",
      "13  gender_female                  0.2046                  0.1964  0.02   \n",
      "14    gender_male                  0.0263                  0.0249  0.01   \n",
      "15     gender_pig                  0.0736                  0.0793 -0.02   \n",
      "\n",
      "    Var Ratio  ks-p_val  ttest-p_val  \n",
      "0        0.99     0.406        0.722  \n",
      "1        0.99     0.736        0.516  \n",
      "2        0.99     0.904        0.736  \n",
      "3         NaN     0.998        0.229  \n",
      "4         NaN     1.000        0.948  \n",
      "5         NaN     1.000        0.391  \n",
      "6         NaN     1.000        0.916  \n",
      "7         NaN     1.000        0.396  \n",
      "8         NaN     1.000        0.336  \n",
      "9         NaN     1.000        0.921  \n",
      "10        NaN     1.000        0.211  \n",
      "11        NaN     1.000        0.863  \n",
      "12        NaN     1.000        0.798  \n",
      "13        NaN     0.995        0.305  \n",
      "14        NaN     1.000        0.656  \n",
      "15        NaN     1.000        0.278  \n",
      "Output dataframe columns Index(['user_id', 'treatment', 'pscore'], dtype='object')\n",
      "                  0         1\n",
      "const      6.379187  0.034522\n",
      "treatment  0.513786  0.085681\n"
     ]
    },
    {
     "name": "stderr",
     "output_type": "stream",
     "text": [
      "\n"
     ]
    }
   ],
   "source": [
    "# STEP 1: initialize matching object\n",
    "match_obj = matching(data = df,\n",
    "                     T = T,\n",
    "                     X = X,\n",
    "                     y = y,\n",
    "                     id = id)\n",
    "\n",
    "# STEP 2: propensity score matching\n",
    "match_obj.psm(n_neighbors = 1,  # number of neighbors\n",
    "              model = GradientBoostingClassifier(), # p-score model\n",
    "              trim_percentage = 0.1, # trim X% of pscore, if equals 0.1 then trim min 5% and max 5%\n",
    "              caliper = 0.1,\n",
    "              verbose = True) # p-score diff must be smaller than or equal to the caliper value\n",
    "\n",
    "# STEP 3: balance check after propensity score matching\n",
    "res_post, res_pre = match_obj.balance_check(include_discrete = True)\n",
    "print('post-matching balance check reseult',res_post) # pre-match balance check\n",
    "print('pre-matching balance check reseult',res_pre)  # post-match balance check\n",
    "\n",
    "# STEP 4: get result - pandas df, and merge X and y back to original data\n",
    "print('Output dataframe columns', match_obj.df_out_final_post_trim.columns)\n",
    "df_out = match_obj.df_out_final_post_trim.merge(df[y + X + [id]], how='left', on = id)\n",
    "\n",
    "# STEP 5: calculate average treatment effect \n",
    "\n",
    "X_mat = df_out[T]\n",
    "y_mat = df_out[y]\n",
    "\n",
    "X_mat = sm.add_constant(X_mat)\n",
    "model = sm.OLS(y_mat,X_mat)\n",
    "results = model.fit()\n",
    "print(results.params)"
   ]
  },
  {
   "cell_type": "code",
   "execution_count": 5,
   "id": "1f990797",
   "metadata": {},
   "outputs": [
    {
     "ename": "AttributeError",
     "evalue": "'DataFrame' object has no attribute '_append'",
     "output_type": "error",
     "traceback": [
      "\u001b[0;31m---------------------------------------------------------------------------\u001b[0m",
      "\u001b[0;31mAttributeError\u001b[0m                            Traceback (most recent call last)",
      "\u001b[0;32m/var/folders/6y/pv_cpv891fb7v3w2vj8fsz8m0000gn/T/ipykernel_73783/1325048806.py\u001b[0m in \u001b[0;36m?\u001b[0;34m()\u001b[0m\n\u001b[0;32m----> 1\u001b[0;31m \u001b[0mmatch_obj\u001b[0m\u001b[0;34m.\u001b[0m\u001b[0msensitivity_test\u001b[0m\u001b[0;34m(\u001b[0m\u001b[0mgamma\u001b[0m \u001b[0;34m=\u001b[0m \u001b[0;34m[\u001b[0m\u001b[0;36m1\u001b[0m\u001b[0;34m,\u001b[0m\u001b[0;36m1.5\u001b[0m\u001b[0;34m,\u001b[0m\u001b[0;36m2\u001b[0m\u001b[0;34m,\u001b[0m\u001b[0;36m2.5\u001b[0m\u001b[0;34m,\u001b[0m\u001b[0;36m3\u001b[0m\u001b[0;34m]\u001b[0m\u001b[0;34m)\u001b[0m\u001b[0;34m\u001b[0m\u001b[0;34m\u001b[0m\u001b[0m\n\u001b[0m",
      "\u001b[0;32m~/PycharmProjects/github/CausalMatch/causalmatch/matching/match_core/model.py\u001b[0m in \u001b[0;36m?\u001b[0;34m(self, gamma)\u001b[0m\n\u001b[1;32m    457\u001b[0m         \u001b[0mdf_res_full\u001b[0m \u001b[0;34m=\u001b[0m \u001b[0mpd\u001b[0m\u001b[0;34m.\u001b[0m\u001b[0mDataFrame\u001b[0m\u001b[0;34m(\u001b[0m\u001b[0;34m)\u001b[0m\u001b[0;34m\u001b[0m\u001b[0;34m\u001b[0m\u001b[0m\n\u001b[1;32m    458\u001b[0m         \u001b[0;32mfor\u001b[0m \u001b[0my_i\u001b[0m \u001b[0;32min\u001b[0m \u001b[0mself\u001b[0m\u001b[0;34m.\u001b[0m\u001b[0my\u001b[0m\u001b[0;34m:\u001b[0m\u001b[0;34m\u001b[0m\u001b[0;34m\u001b[0m\u001b[0m\n\u001b[1;32m    459\u001b[0m             \u001b[0mdf_res\u001b[0m \u001b[0;34m=\u001b[0m \u001b[0msensitivity_test\u001b[0m\u001b[0;34m(\u001b[0m\u001b[0mself\u001b[0m\u001b[0;34m,\u001b[0m \u001b[0mgamma\u001b[0m\u001b[0;34m,\u001b[0m \u001b[0my_i\u001b[0m\u001b[0;34m)\u001b[0m\u001b[0;34m\u001b[0m\u001b[0;34m\u001b[0m\u001b[0m\n\u001b[1;32m    460\u001b[0m             \u001b[0mdf_res\u001b[0m\u001b[0;34m[\u001b[0m\u001b[0;34m'y'\u001b[0m\u001b[0;34m]\u001b[0m \u001b[0;34m=\u001b[0m \u001b[0my_i\u001b[0m\u001b[0;34m\u001b[0m\u001b[0;34m\u001b[0m\u001b[0m\n\u001b[0;32m--> 461\u001b[0;31m             \u001b[0mdf_res_full\u001b[0m \u001b[0;34m=\u001b[0m \u001b[0mdf_res_full\u001b[0m\u001b[0;34m.\u001b[0m\u001b[0m_append\u001b[0m\u001b[0;34m(\u001b[0m\u001b[0mdf_res\u001b[0m\u001b[0;34m,\u001b[0m \u001b[0mignore_index\u001b[0m\u001b[0;34m=\u001b[0m\u001b[0;32mTrue\u001b[0m\u001b[0;34m)\u001b[0m\u001b[0;34m\u001b[0m\u001b[0;34m\u001b[0m\u001b[0m\n\u001b[0m\u001b[1;32m    462\u001b[0m \u001b[0;34m\u001b[0m\u001b[0m\n\u001b[1;32m    463\u001b[0m         \u001b[0;32mreturn\u001b[0m \u001b[0mdf_res_full\u001b[0m\u001b[0;34m\u001b[0m\u001b[0;34m\u001b[0m\u001b[0m\n",
      "\u001b[0;32m/Library/Frameworks/Python.framework/Versions/3.12/lib/python3.12/site-packages/pandas/core/generic.py\u001b[0m in \u001b[0;36m?\u001b[0;34m(self, name)\u001b[0m\n\u001b[1;32m   5483\u001b[0m             \u001b[0;32mand\u001b[0m \u001b[0mname\u001b[0m \u001b[0;32mnot\u001b[0m \u001b[0;32min\u001b[0m \u001b[0mself\u001b[0m\u001b[0;34m.\u001b[0m\u001b[0m_accessors\u001b[0m\u001b[0;34m\u001b[0m\u001b[0;34m\u001b[0m\u001b[0m\n\u001b[1;32m   5484\u001b[0m             \u001b[0;32mand\u001b[0m \u001b[0mself\u001b[0m\u001b[0;34m.\u001b[0m\u001b[0m_info_axis\u001b[0m\u001b[0;34m.\u001b[0m\u001b[0m_can_hold_identifiers_and_holds_name\u001b[0m\u001b[0;34m(\u001b[0m\u001b[0mname\u001b[0m\u001b[0;34m)\u001b[0m\u001b[0;34m\u001b[0m\u001b[0;34m\u001b[0m\u001b[0m\n\u001b[1;32m   5485\u001b[0m         \u001b[0;34m)\u001b[0m\u001b[0;34m:\u001b[0m\u001b[0;34m\u001b[0m\u001b[0;34m\u001b[0m\u001b[0m\n\u001b[1;32m   5486\u001b[0m             \u001b[0;32mreturn\u001b[0m \u001b[0mself\u001b[0m\u001b[0;34m[\u001b[0m\u001b[0mname\u001b[0m\u001b[0;34m]\u001b[0m\u001b[0;34m\u001b[0m\u001b[0;34m\u001b[0m\u001b[0m\n\u001b[0;32m-> 5487\u001b[0;31m         \u001b[0;32mreturn\u001b[0m \u001b[0mobject\u001b[0m\u001b[0;34m.\u001b[0m\u001b[0m__getattribute__\u001b[0m\u001b[0;34m(\u001b[0m\u001b[0mself\u001b[0m\u001b[0;34m,\u001b[0m \u001b[0mname\u001b[0m\u001b[0;34m)\u001b[0m\u001b[0;34m\u001b[0m\u001b[0;34m\u001b[0m\u001b[0m\n\u001b[0m",
      "\u001b[0;31mAttributeError\u001b[0m: 'DataFrame' object has no attribute '_append'"
     ]
    }
   ],
   "source": [
    "match_obj.sensitivity_test(gamma = [1,1.5,2,2.5,3])"
   ]
  },
  {
   "cell_type": "code",
   "execution_count": 11,
   "id": "5df347a9",
   "metadata": {},
   "outputs": [],
   "source": []
  },
  {
   "cell_type": "code",
   "execution_count": 13,
   "id": "8045a46a",
   "metadata": {},
   "outputs": [
    {
     "data": {
      "text/plain": [
       "<pandas.core.groupby.generic.DataFrameGroupBy object at 0x32bf4ab40>"
      ]
     },
     "execution_count": 13,
     "metadata": {},
     "output_type": "execute_result"
    }
   ],
   "source": [
    "df_res_full.groupby(['y'])."
   ]
  },
  {
   "cell_type": "code",
   "execution_count": 16,
   "id": "e8b6db58",
   "metadata": {},
   "outputs": [
    {
     "data": {
      "text/plain": [
       "y\n",
       "y     1.5\n",
       "y2    1.0\n",
       "Name: gamma, dtype: float64"
      ]
     },
     "execution_count": 16,
     "metadata": {},
     "output_type": "execute_result"
    }
   ],
   "source": []
  },
  {
   "cell_type": "code",
   "execution_count": null,
   "id": "4f8ca632",
   "metadata": {},
   "outputs": [],
   "source": []
  },
  {
   "cell_type": "code",
   "execution_count": null,
   "id": "ec83a860",
   "metadata": {},
   "outputs": [],
   "source": []
  },
  {
   "cell_type": "markdown",
   "id": "595d38b7",
   "metadata": {},
   "source": [
    "# debug"
   ]
  },
  {
   "cell_type": "code",
   "execution_count": 1,
   "id": "a04bb497",
   "metadata": {},
   "outputs": [
    {
     "name": "stdout",
     "output_type": "stream",
     "text": [
      "['/Library/Frameworks/Python.framework/Versions/3.12/lib/python312.zip', '/Library/Frameworks/Python.framework/Versions/3.12/lib/python3.12', '/Library/Frameworks/Python.framework/Versions/3.12/lib/python3.12/lib-dynload', '', '/Users/bytedance/Library/Python/3.12/lib/python/site-packages', '/Library/Frameworks/Python.framework/Versions/3.12/lib/python3.12/site-packages']\n",
      "current version is:  0.0.2\n",
      "/usr/local/bin/python3.12\n",
      "3.12.2 (v3.12.2:6abddd9f6a, Feb  6 2024, 17:02:06) [Clang 13.0.0 (clang-1300.0.29.30)]\n",
      "sys.version_info(major=3, minor=12, micro=2, releaselevel='final', serial=0)\n"
     ]
    },
    {
     "data": {
      "text/html": [
       "<div>\n",
       "<style scoped>\n",
       "    .dataframe tbody tr th:only-of-type {\n",
       "        vertical-align: middle;\n",
       "    }\n",
       "\n",
       "    .dataframe tbody tr th {\n",
       "        vertical-align: top;\n",
       "    }\n",
       "\n",
       "    .dataframe thead th {\n",
       "        text-align: right;\n",
       "    }\n",
       "</style>\n",
       "<table border=\"1\" class=\"dataframe\">\n",
       "  <thead>\n",
       "    <tr style=\"text-align: right;\">\n",
       "      <th></th>\n",
       "      <th>live_watch_cnt_30</th>\n",
       "      <th>live_watch_interval_30</th>\n",
       "      <th>video_watch_cnt_30</th>\n",
       "      <th>video_watch_interval_30</th>\n",
       "      <th>prod_show_cnt_30</th>\n",
       "      <th>prod_click_cnt_30</th>\n",
       "      <th>query_moudle_click_cnt_30</th>\n",
       "      <th>search_click_cnt_30</th>\n",
       "      <th>icon_entrance_click_cnt_30</th>\n",
       "      <th>mall_search_mgr_search_dd_30</th>\n",
       "      <th>...</th>\n",
       "      <th>gmv_1d_aweme</th>\n",
       "      <th>gmv_30d</th>\n",
       "      <th>paydate_30d</th>\n",
       "      <th>电商大盘生命周期_平台潜客</th>\n",
       "      <th>电商大盘生命周期_成熟期中低频</th>\n",
       "      <th>电商大盘生命周期_成熟期沉默</th>\n",
       "      <th>电商大盘生命周期_成熟期高频</th>\n",
       "      <th>电商大盘生命周期_成长期沉默</th>\n",
       "      <th>电商大盘生命周期_成长期活跃</th>\n",
       "      <th>电商大盘生命周期_流失用户</th>\n",
       "    </tr>\n",
       "  </thead>\n",
       "  <tbody>\n",
       "    <tr>\n",
       "      <th>0</th>\n",
       "      <td>0.0</td>\n",
       "      <td>0.0</td>\n",
       "      <td>0.0</td>\n",
       "      <td>0.0</td>\n",
       "      <td>157.0</td>\n",
       "      <td>9.0</td>\n",
       "      <td>8.0</td>\n",
       "      <td>1.0</td>\n",
       "      <td>0.0</td>\n",
       "      <td>0.0</td>\n",
       "      <td>...</td>\n",
       "      <td>467.39</td>\n",
       "      <td>1087.59</td>\n",
       "      <td>7</td>\n",
       "      <td>0</td>\n",
       "      <td>0</td>\n",
       "      <td>0</td>\n",
       "      <td>0</td>\n",
       "      <td>0</td>\n",
       "      <td>1</td>\n",
       "      <td>0</td>\n",
       "    </tr>\n",
       "    <tr>\n",
       "      <th>1</th>\n",
       "      <td>0.0</td>\n",
       "      <td>0.0</td>\n",
       "      <td>0.0</td>\n",
       "      <td>0.0</td>\n",
       "      <td>0.0</td>\n",
       "      <td>0.0</td>\n",
       "      <td>0.0</td>\n",
       "      <td>0.0</td>\n",
       "      <td>0.0</td>\n",
       "      <td>0.0</td>\n",
       "      <td>...</td>\n",
       "      <td>5.99</td>\n",
       "      <td>5.99</td>\n",
       "      <td>1</td>\n",
       "      <td>0</td>\n",
       "      <td>1</td>\n",
       "      <td>0</td>\n",
       "      <td>0</td>\n",
       "      <td>0</td>\n",
       "      <td>0</td>\n",
       "      <td>0</td>\n",
       "    </tr>\n",
       "    <tr>\n",
       "      <th>2</th>\n",
       "      <td>0.0</td>\n",
       "      <td>0.0</td>\n",
       "      <td>0.0</td>\n",
       "      <td>0.0</td>\n",
       "      <td>78.0</td>\n",
       "      <td>4.0</td>\n",
       "      <td>0.0</td>\n",
       "      <td>0.0</td>\n",
       "      <td>0.0</td>\n",
       "      <td>0.0</td>\n",
       "      <td>...</td>\n",
       "      <td>137.79</td>\n",
       "      <td>523.90</td>\n",
       "      <td>5</td>\n",
       "      <td>1</td>\n",
       "      <td>0</td>\n",
       "      <td>0</td>\n",
       "      <td>0</td>\n",
       "      <td>0</td>\n",
       "      <td>0</td>\n",
       "      <td>0</td>\n",
       "    </tr>\n",
       "    <tr>\n",
       "      <th>3</th>\n",
       "      <td>13.0</td>\n",
       "      <td>1157.0</td>\n",
       "      <td>15.0</td>\n",
       "      <td>28.0</td>\n",
       "      <td>490.0</td>\n",
       "      <td>16.0</td>\n",
       "      <td>13.0</td>\n",
       "      <td>2.0</td>\n",
       "      <td>0.0</td>\n",
       "      <td>2.0</td>\n",
       "      <td>...</td>\n",
       "      <td>143.40</td>\n",
       "      <td>603.90</td>\n",
       "      <td>5</td>\n",
       "      <td>0</td>\n",
       "      <td>1</td>\n",
       "      <td>0</td>\n",
       "      <td>0</td>\n",
       "      <td>0</td>\n",
       "      <td>0</td>\n",
       "      <td>0</td>\n",
       "    </tr>\n",
       "    <tr>\n",
       "      <th>4</th>\n",
       "      <td>0.0</td>\n",
       "      <td>0.0</td>\n",
       "      <td>5.0</td>\n",
       "      <td>27.0</td>\n",
       "      <td>302.0</td>\n",
       "      <td>6.0</td>\n",
       "      <td>60.0</td>\n",
       "      <td>0.0</td>\n",
       "      <td>0.0</td>\n",
       "      <td>2.0</td>\n",
       "      <td>...</td>\n",
       "      <td>110.09</td>\n",
       "      <td>239.57</td>\n",
       "      <td>7</td>\n",
       "      <td>0</td>\n",
       "      <td>0</td>\n",
       "      <td>0</td>\n",
       "      <td>1</td>\n",
       "      <td>0</td>\n",
       "      <td>0</td>\n",
       "      <td>0</td>\n",
       "    </tr>\n",
       "  </tbody>\n",
       "</table>\n",
       "<p>5 rows × 54 columns</p>\n",
       "</div>"
      ],
      "text/plain": [
       "   live_watch_cnt_30  live_watch_interval_30  video_watch_cnt_30  \\\n",
       "0                0.0                     0.0                 0.0   \n",
       "1                0.0                     0.0                 0.0   \n",
       "2                0.0                     0.0                 0.0   \n",
       "3               13.0                  1157.0                15.0   \n",
       "4                0.0                     0.0                 5.0   \n",
       "\n",
       "   video_watch_interval_30  prod_show_cnt_30  prod_click_cnt_30  \\\n",
       "0                      0.0             157.0                9.0   \n",
       "1                      0.0               0.0                0.0   \n",
       "2                      0.0              78.0                4.0   \n",
       "3                     28.0             490.0               16.0   \n",
       "4                     27.0             302.0                6.0   \n",
       "\n",
       "   query_moudle_click_cnt_30  search_click_cnt_30  icon_entrance_click_cnt_30  \\\n",
       "0                        8.0                  1.0                         0.0   \n",
       "1                        0.0                  0.0                         0.0   \n",
       "2                        0.0                  0.0                         0.0   \n",
       "3                       13.0                  2.0                         0.0   \n",
       "4                       60.0                  0.0                         0.0   \n",
       "\n",
       "   mall_search_mgr_search_dd_30  ...  gmv_1d_aweme  gmv_30d  paydate_30d  \\\n",
       "0                           0.0  ...        467.39  1087.59            7   \n",
       "1                           0.0  ...          5.99     5.99            1   \n",
       "2                           0.0  ...        137.79   523.90            5   \n",
       "3                           2.0  ...        143.40   603.90            5   \n",
       "4                           2.0  ...        110.09   239.57            7   \n",
       "\n",
       "   电商大盘生命周期_平台潜客  电商大盘生命周期_成熟期中低频  电商大盘生命周期_成熟期沉默  电商大盘生命周期_成熟期高频  \\\n",
       "0              0                0               0               0   \n",
       "1              0                1               0               0   \n",
       "2              1                0               0               0   \n",
       "3              0                1               0               0   \n",
       "4              0                0               0               1   \n",
       "\n",
       "   电商大盘生命周期_成长期沉默  电商大盘生命周期_成长期活跃  电商大盘生命周期_流失用户  \n",
       "0               0               1              0  \n",
       "1               0               0              0  \n",
       "2               0               0              0  \n",
       "3               0               0              0  \n",
       "4               0               0              0  \n",
       "\n",
       "[5 rows x 54 columns]"
      ]
     },
     "execution_count": 1,
     "metadata": {},
     "output_type": "execute_result"
    }
   ],
   "source": [
    "import sys\n",
    "print(sys.path)\n",
    "sys.path.append('/Users/bytedance/PycharmProjects/github/CausalMatch')\n",
    "\n",
    "import causalmatch as causalmatch\n",
    "from causalmatch import matching,gen_test_data\n",
    "\n",
    "print('current version is: ',causalmatch.__version__)\n",
    "\n",
    "import sys\n",
    "print(sys.executable)\n",
    "print(sys.version)\n",
    "print(sys.version_info)\n",
    "\n",
    "\n",
    "import pandas as pd\n",
    "import numpy as np\n",
    "import statsmodels.api as sm\n",
    "from sklearn.linear_model import LogisticRegression\n",
    "from sklearn.svm import SVC\n",
    "from sklearn.naive_bayes import GaussianNB\n",
    "from sklearn.naive_bayes import MultinomialNB\n",
    "from sklearn.neighbors import KNeighborsClassifier\n",
    "from sklearn.tree import DecisionTreeClassifier\n",
    "from sklearn.ensemble import RandomForestClassifier\n",
    "from sklearn.ensemble import GradientBoostingClassifier\n",
    "from lightgbm import LGBMClassifier\n",
    "from xgboost import XGBClassifier\n",
    "from sklearn.model_selection import train_test_split\n",
    "from sklearn.metrics import recall_score,roc_auc_score,f1_score\n",
    "import statsmodels.api as sm\n",
    "from scipy.stats import wilcoxon,norm\n",
    "\n",
    "df = pd.read_csv('/Users/bytedance/Downloads/sample_df.csv')\n",
    "df.head()"
   ]
  },
  {
   "cell_type": "code",
   "execution_count": 2,
   "id": "aacbec71",
   "metadata": {},
   "outputs": [],
   "source": [
    "df_test = df.sample(n=10000).copy()\n",
    "df_test.reset_index(inplace=True, drop =True)"
   ]
  },
  {
   "cell_type": "code",
   "execution_count": null,
   "id": "79e4c5b0",
   "metadata": {},
   "outputs": [],
   "source": []
  },
  {
   "cell_type": "code",
   "execution_count": null,
   "id": "cdd8beee",
   "metadata": {},
   "outputs": [],
   "source": []
  },
  {
   "cell_type": "code",
   "execution_count": 3,
   "id": "5e86e3e4",
   "metadata": {},
   "outputs": [],
   "source": [
    "X = ['live_watch_cnt_30', 'live_watch_interval_30', 'video_watch_cnt_30',\n",
    "       'video_watch_interval_30', 'prod_show_cnt_30', 'prod_click_cnt_30',\n",
    "       'query_moudle_click_cnt_30', 'search_click_cnt_30',\n",
    "       'icon_entrance_click_cnt_30', 'mall_search_mgr_search_dd_30',\n",
    "       'search_mgr_manual_search_dd_30',\n",
    "       'unmall_search_mgr_ecintent_search_cnt_1d',\n",
    "       'mall_search_mgr_search_cnt_30d', 'manual_search_cnt_30d',\n",
    "       'search_mgr_manual_search_cnt_30d', 'gmv_7d', 'gmv_14d', 'gmv_21d',\n",
    "       'gmv_28d', 'order_cnt_7d', 'order_cnt_14d', 'order_cnt_21d',\n",
    "       'order_cnt_28d', 'pay_order_cnt_14', 'pay_order_cnt_30', 'pay_amt_14',\n",
    "       'pay_amt_30', 'gender', 'age', 'residence_city_level',\n",
    "       'consumption_level_new', 'active_days', 'device_overall_score',\n",
    "       'price_sensitive_prob_v2', 'follow_ecom_author', 'follow_live_author',\n",
    "       'content_live_ecom_show_cnt', 'content_live_ecom_watch_cnt',\n",
    "       'content_live_ecom_watch_duration', 'content_video_ecom_show_cnt',\n",
    "       'content_video_ecom_watch_cnt', 'content_video_ecom_watch_duration',\n",
    "       '电商大盘生命周期_平台潜客',\n",
    "       '电商大盘生命周期_成熟期中低频', '电商大盘生命周期_成熟期沉默', '电商大盘生命周期_成熟期高频', '电商大盘生命周期_成长期沉默',\n",
    "       '电商大盘生命周期_成长期活跃', '电商大盘生命周期_流失用户']\n",
    "# y = ['gmv_1d_aweme','gmv_30d', 'paydate_30d']\n",
    "y = ['gmv_30d']\n",
    "id = 'user_id'\n",
    "T = 'is_treatment'"
   ]
  },
  {
   "cell_type": "code",
   "execution_count": 4,
   "id": "1c98e6ef",
   "metadata": {},
   "outputs": [
    {
     "name": "stderr",
     "output_type": "stream",
     "text": [
      "Processed Samples: 100%|███████████| 1628/1628 [00:00<00:00, 1099215.54sample/s]\n",
      "/Users/bytedance/PycharmProjects/github/CausalMatch/causalmatch/matching/match_core/utils.py:179: RuntimeWarning: divide by zero encountered in scalar divide\n",
      "  smd = np.round((t_avg - c_avg) / sf, 2)\n"
     ]
    },
    {
     "name": "stdout",
     "output_type": "stream",
     "text": [
      "******************************\n",
      "post-matching balance check reseult                                   Covariates  Mean Treated post-match  \\\n",
      "0                          live_watch_cnt_30             3.117600e+00   \n",
      "1                     live_watch_interval_30             1.472367e+02   \n",
      "2                         video_watch_cnt_30             5.895000e+00   \n",
      "3                    video_watch_interval_30             2.889290e+01   \n",
      "4                           prod_show_cnt_30             2.557318e+02   \n",
      "5                          prod_click_cnt_30             8.943300e+00   \n",
      "6                  query_moudle_click_cnt_30             4.481100e+00   \n",
      "7                        search_click_cnt_30             6.022000e-01   \n",
      "8                 icon_entrance_click_cnt_30             0.000000e+00   \n",
      "9               mall_search_mgr_search_dd_30             6.099000e-01   \n",
      "10            search_mgr_manual_search_dd_30             2.000000e+00   \n",
      "11  unmall_search_mgr_ecintent_search_cnt_1d             2.882000e+01   \n",
      "12            mall_search_mgr_search_cnt_30d             1.530100e+00   \n",
      "13                     manual_search_cnt_30d             4.280810e+01   \n",
      "14          search_mgr_manual_search_cnt_30d             4.145700e+00   \n",
      "15                                    gmv_7d             2.109160e+01   \n",
      "16                                   gmv_14d             1.294600e+01   \n",
      "17                                   gmv_21d             1.223140e+01   \n",
      "18                                   gmv_28d             1.063290e+01   \n",
      "19                              order_cnt_7d             6.646000e-01   \n",
      "20                             order_cnt_14d             3.606000e-01   \n",
      "21                             order_cnt_21d             3.592000e-01   \n",
      "22                             order_cnt_28d             2.920000e-01   \n",
      "23                          pay_order_cnt_14             2.815000e-01   \n",
      "24                          pay_order_cnt_30             4.545000e-01   \n",
      "25                                pay_amt_14             1.099620e+01   \n",
      "26                                pay_amt_30             1.628640e+01   \n",
      "27                                    gender             1.404800e+00   \n",
      "28                                       age             3.671600e+00   \n",
      "29                      residence_city_level             4.301800e+00   \n",
      "30                     consumption_level_new             2.012600e+00   \n",
      "31                               active_days             2.198530e+01   \n",
      "32                      device_overall_score             9.148600e+00   \n",
      "33                   price_sensitive_prob_v2             4.633000e-01   \n",
      "34                        follow_ecom_author             1.492913e+02   \n",
      "35                        follow_live_author             1.993700e+01   \n",
      "36                content_live_ecom_show_cnt             2.122787e+02   \n",
      "37               content_live_ecom_watch_cnt             3.328360e+01   \n",
      "38          content_live_ecom_watch_duration             1.982927e+06   \n",
      "39               content_video_ecom_show_cnt             7.106650e+01   \n",
      "40              content_video_ecom_watch_cnt             7.106650e+01   \n",
      "41         content_video_ecom_watch_duration             8.417503e+05   \n",
      "42                             电商大盘生命周期_平台潜客             3.025000e-01   \n",
      "43                           电商大盘生命周期_成熟期中低频             1.772000e-01   \n",
      "44                            电商大盘生命周期_成熟期沉默             7.140000e-02   \n",
      "45                            电商大盘生命周期_成熟期高频             6.090000e-02   \n",
      "46                            电商大盘生命周期_成长期沉默             6.510000e-02   \n",
      "47                            电商大盘生命周期_成长期活跃             1.443000e-01   \n",
      "48                             电商大盘生命周期_流失用户             1.786000e-01   \n",
      "\n",
      "    Mean Control post-match   SMD  Var Ratio  ks-p_val  ttest-p_val  \n",
      "0              1.350600e+00  0.07      14.13     0.939        0.009  \n",
      "1              8.853750e+01  0.04       4.07     0.758        0.151  \n",
      "2              3.675300e+00  0.08       2.70     0.001        0.007  \n",
      "3              2.351880e+01  0.02       2.00     0.001        0.528  \n",
      "4              2.989023e+02 -0.06       1.75     0.000        0.070  \n",
      "5              1.074900e+01 -0.06       2.34     0.000        0.055  \n",
      "6              5.025900e+00 -0.04       2.00     0.000        0.202  \n",
      "7              6.248000e-01 -0.01       3.38     0.001        0.713  \n",
      "8              6.000000e-04  -inf        NaN     1.000        0.337  \n",
      "9              7.316000e-01 -0.10       1.23     0.000        0.006  \n",
      "10             1.882900e+00  0.04       2.09     0.000        0.204  \n",
      "11             2.330210e+01  0.10       2.00     0.000        0.001  \n",
      "12             1.773600e+00 -0.05       1.87     0.001        0.086  \n",
      "13             3.780530e+01  0.06       2.11     0.000        0.043  \n",
      "14             3.507800e+00  0.08       3.05     0.000        0.011  \n",
      "15             1.689550e+01  0.05       1.62     0.000        0.162  \n",
      "16             8.281600e+00  0.07       2.21     0.100        0.019  \n",
      "17             1.582400e+01 -0.05       3.13     0.000        0.102  \n",
      "18             6.258000e+00  0.07       2.71     0.069        0.026  \n",
      "19             5.304000e-01  0.04       7.91     0.000        0.180  \n",
      "20             2.290000e-01  0.09       2.48     0.423        0.004  \n",
      "21             4.903000e-01 -0.08       2.50     0.000        0.010  \n",
      "22             1.915000e-01  0.07       3.40     0.514        0.018  \n",
      "23             1.171000e-01  0.07      27.78     0.829        0.012  \n",
      "24             3.441000e-01  0.03      23.30     0.000        0.228  \n",
      "25             6.851300e+00  0.04       1.55     0.430        0.201  \n",
      "26             1.410960e+01  0.02       1.45     0.000        0.571  \n",
      "27             1.453400e+00 -0.10       1.00     0.094        0.008  \n",
      "28             3.210200e+00  0.21       1.29     0.000        0.000  \n",
      "29             3.884900e+00  0.27       1.01     0.000        0.000  \n",
      "30             1.981900e+00  0.03       1.02     0.025        0.434  \n",
      "31             2.295410e+01 -0.10       1.37     0.000        0.003  \n",
      "32             9.312800e+00 -0.09       1.01     0.001        0.013  \n",
      "33             4.754000e-01 -0.04       1.20     0.000        0.270  \n",
      "34             9.335120e+01  0.13       2.79     0.000        0.000  \n",
      "35             1.384860e+01  0.12       2.46     0.000        0.000  \n",
      "36             2.408583e+02 -0.07       1.11     0.000        0.047  \n",
      "37             2.548970e+01  0.06       4.75     0.000        0.031  \n",
      "38             2.050636e+06 -0.01       1.25     0.000        0.791  \n",
      "39             6.879240e+01  0.02       2.05     0.000        0.621  \n",
      "40             6.879240e+01  0.02       2.05     0.000        0.621  \n",
      "41             7.615117e+05  0.03       1.50     0.000        0.318  \n",
      "42             2.361000e-01  0.14        NaN     0.003        0.000  \n",
      "43             2.342000e-01 -0.15        NaN     0.016        0.000  \n",
      "44             8.860000e-02 -0.07        NaN     0.978        0.085  \n",
      "45             7.370000e-02 -0.05        NaN     1.000        0.164  \n",
      "46             3.360000e-02  0.13        NaN     0.445        0.000  \n",
      "47             1.669000e-01 -0.06        NaN     0.833        0.089  \n",
      "48             1.669000e-01  0.03        NaN     1.000        0.399  \n",
      "pre-matching balance check reseult                                   Covariates  Mean Treated pre-match  \\\n",
      "0                          live_watch_cnt_30            4.554100e+00   \n",
      "1                     live_watch_interval_30            2.450633e+02   \n",
      "2                         video_watch_cnt_30            6.656600e+00   \n",
      "3                    video_watch_interval_30            3.192140e+01   \n",
      "4                           prod_show_cnt_30            3.257654e+02   \n",
      "5                          prod_click_cnt_30            1.330710e+01   \n",
      "6                  query_moudle_click_cnt_30            5.933000e+00   \n",
      "7                        search_click_cnt_30            7.654000e-01   \n",
      "8                 icon_entrance_click_cnt_30            0.000000e+00   \n",
      "9               mall_search_mgr_search_dd_30            7.598000e-01   \n",
      "10            search_mgr_manual_search_dd_30            2.053400e+00   \n",
      "11  unmall_search_mgr_ecintent_search_cnt_1d            2.889930e+01   \n",
      "12            mall_search_mgr_search_cnt_30d            2.127100e+00   \n",
      "13                     manual_search_cnt_30d            4.198590e+01   \n",
      "14          search_mgr_manual_search_cnt_30d            4.389400e+00   \n",
      "15                                    gmv_7d            2.510170e+01   \n",
      "16                                   gmv_14d            1.523170e+01   \n",
      "17                                   gmv_21d            1.475720e+01   \n",
      "18                                   gmv_28d            1.207050e+01   \n",
      "19                              order_cnt_7d            8.108000e-01   \n",
      "20                             order_cnt_14d            3.778000e-01   \n",
      "21                             order_cnt_21d            3.759000e-01   \n",
      "22                             order_cnt_28d            2.998000e-01   \n",
      "23                          pay_order_cnt_14            3.913000e-01   \n",
      "24                          pay_order_cnt_30            5.885000e-01   \n",
      "25                                pay_amt_14            2.134680e+01   \n",
      "26                                pay_amt_30            3.411080e+01   \n",
      "27                                    gender            1.407200e+00   \n",
      "28                                       age            3.646800e+00   \n",
      "29                      residence_city_level            4.267800e+00   \n",
      "30                     consumption_level_new            1.993200e+00   \n",
      "31                               active_days            2.142140e+01   \n",
      "32                      device_overall_score            9.053300e+00   \n",
      "33                   price_sensitive_prob_v2            4.532000e-01   \n",
      "34                        follow_ecom_author            1.412672e+02   \n",
      "35                        follow_live_author            1.862290e+01   \n",
      "36                content_live_ecom_show_cnt            2.130541e+02   \n",
      "37               content_live_ecom_watch_cnt            3.322970e+01   \n",
      "38          content_live_ecom_watch_duration            2.138295e+06   \n",
      "39               content_video_ecom_show_cnt            6.986790e+01   \n",
      "40              content_video_ecom_watch_cnt            6.986790e+01   \n",
      "41         content_video_ecom_watch_duration            8.077376e+05   \n",
      "42                             电商大盘生命周期_平台潜客            2.979000e-01   \n",
      "43                           电商大盘生命周期_成熟期中低频            1.708000e-01   \n",
      "44                            电商大盘生命周期_成熟期沉默            6.330000e-02   \n",
      "45                            电商大盘生命周期_成熟期高频            7.130000e-02   \n",
      "46                            电商大盘生命周期_成长期沉默            5.710000e-02   \n",
      "47                            电商大盘生命周期_成长期活跃            1.658000e-01   \n",
      "48                             电商大盘生命周期_流失用户            1.665000e-01   \n",
      "\n",
      "    Mean Control pre-match   SMD  Var Ratio  ks-p_val  ttest-p_val  \n",
      "0                   0.6474  0.11      19.16     0.000        0.000  \n",
      "1                  31.9779  0.08      28.04     0.000        0.001  \n",
      "2                   2.1984  0.17       0.94     0.000        0.000  \n",
      "3                  15.2996  0.06       0.64     0.000        0.051  \n",
      "4                  73.5678  0.22       6.23     0.000        0.000  \n",
      "5                   2.0953  0.15      24.52     0.000        0.000  \n",
      "6                   1.0914  0.18      15.41     0.000        0.000  \n",
      "7                   0.1333  0.27       3.41     0.000        0.000  \n",
      "8                   0.0005  -inf       0.00     1.000        0.577  \n",
      "9                   0.0523  0.42      16.99     0.000        0.000  \n",
      "10                  0.2426  0.61       6.23     0.000        0.000  \n",
      "11                  4.5604  0.46       4.20     0.000        0.000  \n",
      "12                  0.1091  0.32      21.72     0.000        0.000  \n",
      "13                  6.9482  0.46       3.57     0.000        0.000  \n",
      "14                  0.4828  0.46       6.71     0.000        0.000  \n",
      "15                  3.9642  0.19       8.42     0.000        0.000  \n",
      "16                  3.3096  0.14       6.98     0.000        0.000  \n",
      "17                  3.1386  0.12       8.26     0.000        0.000  \n",
      "18                  3.3204  0.12       3.86     0.000        0.000  \n",
      "19                  0.1039  0.19      22.10     0.000        0.000  \n",
      "20                  0.0920  0.19       4.61     0.000        0.000  \n",
      "21                  0.0947  0.17       4.52     0.000        0.000  \n",
      "22                  0.0887  0.15       4.27     0.000        0.000  \n",
      "23                  0.0395  0.14      38.51     0.000        0.000  \n",
      "24                  0.0850  0.14      21.89     0.000        0.000  \n",
      "25                  2.0160  0.09      31.80     0.000        0.001  \n",
      "26                  3.4882  0.10      34.39     0.000        0.000  \n",
      "27                  1.3636  0.09       0.93     0.174        0.002  \n",
      "28                  4.4424 -0.35       0.69     0.000        0.000  \n",
      "29                  3.8696  0.26       0.70     0.000        0.000  \n",
      "30                  1.8647  0.12       1.09     0.022        0.000  \n",
      "31                 12.4249  0.92       0.64     0.000        0.000  \n",
      "32                  7.3086  0.88       0.38     0.000        0.000  \n",
      "33                  0.1675  0.91       1.10     0.000        0.000  \n",
      "34                 87.1203  0.13       1.63     0.000        0.000  \n",
      "35                 10.8273  0.16       1.48     0.000        0.000  \n",
      "36                 75.8730  0.33       2.15     0.000        0.000  \n",
      "37                 13.1015  0.17       2.24     0.000        0.000  \n",
      "38             872805.7812  0.13       1.69     0.000        0.000  \n",
      "39                 26.3668  0.29       1.82     0.000        0.000  \n",
      "40                 26.3668  0.29       1.82     0.000        0.000  \n",
      "41             350151.5437  0.20       3.14     0.000        0.000  \n",
      "42                  0.6384 -0.74        NaN     0.000        0.000  \n",
      "43                  0.0529  0.31        NaN     0.000        0.000  \n",
      "44                  0.0232  0.16        NaN     0.024        0.000  \n",
      "45                  0.0203  0.20        NaN     0.002        0.000  \n",
      "46                  0.0168  0.17        NaN     0.023        0.000  \n",
      "47                  0.0155  0.40        NaN     0.000        0.000  \n",
      "48                  0.1174  0.13        NaN     0.003        0.000  \n",
      "Output dataframe columns Index(['user_id', 'is_treatment', 'pscore'], dtype='object')\n"
     ]
    },
    {
     "name": "stdout",
     "output_type": "stream",
     "text": [
      "const           175.040712\n",
      "is_treatment    430.432993\n",
      "dtype: float64\n"
     ]
    }
   ],
   "source": [
    "# STEP 1: initialize matching object\n",
    "match_obj = matching(data = df_test,\n",
    "                     T = T,\n",
    "                     X = X,\n",
    "                     y = y,\n",
    "                     id = id)\n",
    "\n",
    "# STEP 2: propensity score matching\n",
    "match_obj.psm(n_neighbors = 1,  # number of neighbors\n",
    "              model = GradientBoostingClassifier(), # p-score model\n",
    "              trim_percentage = 0.1, # trim X% of pscore, if equals 0.1 then trim min 5% and max 5%\n",
    "              caliper = 0.1,\n",
    "              verbose = True) # p-score diff must be smaller than or equal to the caliper value\n",
    "\n",
    "# STEP 3: balance check after propensity score matching\n",
    "res_post, res_pre = match_obj.balance_check(include_discrete = True)\n",
    "print('post-matching balance check reseult',res_post) # pre-match balance check\n",
    "print('pre-matching balance check reseult',res_pre)  # post-match balance check\n",
    "\n",
    "# STEP 4: get result - pandas df, and merge X and y back to original data\n",
    "print('Output dataframe columns', match_obj.df_out_final_post_trim.columns)\n",
    "df_out = match_obj.df_out_final_post_trim.merge(df[y + X + [id]], how='left', on = id)\n",
    "\n",
    "# STEP 5: calculate average treatment effect \n",
    "\n",
    "X_mat = df_out[T]\n",
    "y_mat = df_out[y]\n",
    "\n",
    "X_mat = sm.add_constant(X_mat)\n",
    "model = sm.OLS(y_mat,X_mat)\n",
    "results = model.fit()\n",
    "print(results.params)"
   ]
  },
  {
   "cell_type": "code",
   "execution_count": null,
   "id": "863d301e",
   "metadata": {},
   "outputs": [],
   "source": []
  },
  {
   "cell_type": "code",
   "execution_count": 5,
   "id": "ea19059d",
   "metadata": {
    "scrolled": false
   },
   "outputs": [
    {
     "data": {
      "text/html": [
       "<div>\n",
       "<style scoped>\n",
       "    .dataframe tbody tr th:only-of-type {\n",
       "        vertical-align: middle;\n",
       "    }\n",
       "\n",
       "    .dataframe tbody tr th {\n",
       "        vertical-align: top;\n",
       "    }\n",
       "\n",
       "    .dataframe thead th {\n",
       "        text-align: right;\n",
       "    }\n",
       "</style>\n",
       "<table border=\"1\" class=\"dataframe\">\n",
       "  <thead>\n",
       "    <tr style=\"text-align: right;\">\n",
       "      <th></th>\n",
       "      <th>Wilcoxon-statistic</th>\n",
       "      <th>gamma</th>\n",
       "      <th>stat upper bound</th>\n",
       "      <th>stat_lower_bound</th>\n",
       "      <th>z-score upper bound</th>\n",
       "      <th>z-score lower bound</th>\n",
       "      <th>p-val upper bound</th>\n",
       "      <th>p-val lower bound</th>\n",
       "      <th>y</th>\n",
       "    </tr>\n",
       "  </thead>\n",
       "  <tbody>\n",
       "    <tr>\n",
       "      <th>0</th>\n",
       "      <td>836077.5</td>\n",
       "      <td>1.0</td>\n",
       "      <td>600127.50</td>\n",
       "      <td>600127.50</td>\n",
       "      <td>12.623085</td>\n",
       "      <td>12.623085</td>\n",
       "      <td>0.0000</td>\n",
       "      <td>0.0</td>\n",
       "      <td>gmv_30d</td>\n",
       "    </tr>\n",
       "    <tr>\n",
       "      <th>1</th>\n",
       "      <td>836077.5</td>\n",
       "      <td>1.5</td>\n",
       "      <td>720153.00</td>\n",
       "      <td>480102.00</td>\n",
       "      <td>6.329729</td>\n",
       "      <td>19.437035</td>\n",
       "      <td>0.0000</td>\n",
       "      <td>0.0</td>\n",
       "      <td>gmv_30d</td>\n",
       "    </tr>\n",
       "    <tr>\n",
       "      <th>2</th>\n",
       "      <td>836077.5</td>\n",
       "      <td>2.0</td>\n",
       "      <td>800170.00</td>\n",
       "      <td>400085.00</td>\n",
       "      <td>2.037544</td>\n",
       "      <td>24.740064</td>\n",
       "      <td>0.0208</td>\n",
       "      <td>0.0</td>\n",
       "      <td>gmv_30d</td>\n",
       "    </tr>\n",
       "    <tr>\n",
       "      <th>3</th>\n",
       "      <td>836077.5</td>\n",
       "      <td>2.5</td>\n",
       "      <td>857325.00</td>\n",
       "      <td>342930.00</td>\n",
       "      <td>NaN</td>\n",
       "      <td>NaN</td>\n",
       "      <td>NaN</td>\n",
       "      <td>NaN</td>\n",
       "      <td>gmv_30d</td>\n",
       "    </tr>\n",
       "    <tr>\n",
       "      <th>4</th>\n",
       "      <td>836077.5</td>\n",
       "      <td>3.0</td>\n",
       "      <td>900191.25</td>\n",
       "      <td>300063.75</td>\n",
       "      <td>NaN</td>\n",
       "      <td>NaN</td>\n",
       "      <td>NaN</td>\n",
       "      <td>NaN</td>\n",
       "      <td>gmv_30d</td>\n",
       "    </tr>\n",
       "  </tbody>\n",
       "</table>\n",
       "</div>"
      ],
      "text/plain": [
       "   Wilcoxon-statistic  gamma  stat upper bound  stat_lower_bound  \\\n",
       "0            836077.5    1.0         600127.50         600127.50   \n",
       "1            836077.5    1.5         720153.00         480102.00   \n",
       "2            836077.5    2.0         800170.00         400085.00   \n",
       "3            836077.5    2.5         857325.00         342930.00   \n",
       "4            836077.5    3.0         900191.25         300063.75   \n",
       "\n",
       "   z-score upper bound  z-score lower bound  p-val upper bound  \\\n",
       "0            12.623085            12.623085             0.0000   \n",
       "1             6.329729            19.437035             0.0000   \n",
       "2             2.037544            24.740064             0.0208   \n",
       "3                  NaN                  NaN                NaN   \n",
       "4                  NaN                  NaN                NaN   \n",
       "\n",
       "   p-val lower bound        y  \n",
       "0                0.0  gmv_30d  \n",
       "1                0.0  gmv_30d  \n",
       "2                0.0  gmv_30d  \n",
       "3                NaN  gmv_30d  \n",
       "4                NaN  gmv_30d  "
      ]
     },
     "execution_count": 5,
     "metadata": {},
     "output_type": "execute_result"
    }
   ],
   "source": [
    "match_obj.sensitivity_test(gamma = [1,1.5,2,2.5,3])"
   ]
  },
  {
   "cell_type": "code",
   "execution_count": null,
   "id": "3f7b79ac",
   "metadata": {},
   "outputs": [],
   "source": []
  },
  {
   "cell_type": "code",
   "execution_count": null,
   "id": "97490e3c",
   "metadata": {},
   "outputs": [],
   "source": []
  },
  {
   "cell_type": "code",
   "execution_count": null,
   "id": "ec5341f8",
   "metadata": {},
   "outputs": [],
   "source": []
  },
  {
   "cell_type": "code",
   "execution_count": null,
   "id": "707dd56a",
   "metadata": {},
   "outputs": [],
   "source": []
  },
  {
   "cell_type": "code",
   "execution_count": 6,
   "id": "df8408b6",
   "metadata": {},
   "outputs": [],
   "source": [
    "y_i = 'gmv_30d'"
   ]
  },
  {
   "cell_type": "code",
   "execution_count": 7,
   "id": "dce78618",
   "metadata": {},
   "outputs": [],
   "source": [
    "id_list_t = match_obj.df_out_final['user_id_treat'].to_list()\n",
    "id_list_c = match_obj.df_out_final['user_id_control'].to_list()\n",
    "\n",
    "df_pair = pd.DataFrame()\n",
    "# ------------------------------------------------------------------------------\n",
    "# BUGFIX: 20241018\n",
    "# df_pair['y_t'], df_pair['y_c'] = match_obj.data.iloc[id_list_t][y_i].values, match_obj.data.iloc[id_list_c][y_i].values\n",
    "df_pair['y_t'] = match_obj.data[match_obj.data[match_obj.id].isin(id_list_t)][y_i].values\n",
    "df_pair['user_id_treat'] = id_list_t\n",
    "df_pair['user_id_control'] = id_list_c\n",
    "df_pair_ = df_pair.merge(match_obj.data[[match_obj.id, y_i]], how='left', left_on='user_id_control',\n",
    "                         right_on=match_obj.id)\n",
    "df_pair_.rename(columns={y_i : \"y_c\"}, inplace=True)\n",
    "df_pair_.drop(columns=match_obj.id, inplace=True)\n",
    "df_pair = df_pair_.copy()\n",
    "# ------------------------------------------------------------------------------\n",
    "\n",
    "df_pair['absolute_diff'] = np.abs(df_pair['y_t'] - df_pair['y_c'])\n",
    "df_pair['absolute_diff_rank'] = df_pair['absolute_diff'].rank()\n",
    "df_pair['cs1'] = (df_pair['y_t'] > df_pair['y_c']) * 1\n",
    "df_pair['cs2'] = (df_pair['y_c'] > df_pair['y_t']) * 1\n",
    "df_pair['cz'] = df_pair['cs1'] * 1 + df_pair['cs2'] * 0\n",
    "df_pair['dcz'] = df_pair['cz'] * df_pair['absolute_diff_rank']\n",
    "test_stat = df_pair['dcz'].sum()\n",
    "\n",
    "cols = ['Wilcoxon-statistic', 'gamma'\n",
    "        , 'stat upper bound', 'stat_lower_bound'\n",
    "        , 'z-score upper bound', 'z-score lower bound'\n",
    "        , 'p-val upper bound', 'p-val lower bound']\n",
    "lst = []"
   ]
  },
  {
   "cell_type": "code",
   "execution_count": 9,
   "id": "0d58527c",
   "metadata": {},
   "outputs": [],
   "source": [
    "gamma_i = 2.5"
   ]
  },
  {
   "cell_type": "code",
   "execution_count": 10,
   "id": "b3e23fc1",
   "metadata": {},
   "outputs": [],
   "source": [
    "df_pair['ps_plus'] = gamma_i / (1 + gamma_i)\n",
    "df_pair['ps_plus'][(df_pair['cs1'] == 0) & (df_pair['cs2'] == 0)] = 0\n",
    "df_pair['ps_plus'][(df_pair['cs1'] == 1) & (df_pair['cs2'] == 1)] = 1\n",
    "\n",
    "df_pair['ps_minus'] = 1 / (1 + gamma_i)\n",
    "df_pair['ps_minus'][(df_pair['cs1'] == 0) & (df_pair['cs2'] == 0)] = 0\n",
    "df_pair['ps_minus'][(df_pair['cs1'] == 1) & (df_pair['cs2'] == 1)] = 1\n",
    "\n",
    "gamma_1_t_plus = np.sum(df_pair['absolute_diff_rank'] * df_pair['ps_plus'])\n",
    "\n",
    "gamma_1_t_minus = np.sum(df_pair['absolute_diff_rank'] * df_pair['ps_minus'])\n",
    "\n",
    "var_t_plus = np.sum(\n",
    "    df_pair['absolute_diff_rank'] ** 2 * (df_pair['ps_plus'] * (1 - df_pair['ps_plus'])))\n",
    "\n",
    "deviate_ub = (df_pair['dcz'].sum() - gamma_1_t_plus) / np.sqrt(var_t_plus)\n",
    "deviate_lb = (df_pair['dcz'].sum() - gamma_1_t_minus) / np.sqrt(var_t_plus)"
   ]
  },
  {
   "cell_type": "code",
   "execution_count": 11,
   "id": "e1e90e6b",
   "metadata": {},
   "outputs": [
    {
     "data": {
      "text/plain": [
       "-1.2581181067666987"
      ]
     },
     "execution_count": 11,
     "metadata": {},
     "output_type": "execute_result"
    }
   ],
   "source": [
    "deviate_ub"
   ]
  },
  {
   "cell_type": "code",
   "execution_count": 12,
   "id": "99f3b80f",
   "metadata": {},
   "outputs": [
    {
     "data": {
      "text/plain": [
       "29.200508250699166"
      ]
     },
     "execution_count": 12,
     "metadata": {},
     "output_type": "execute_result"
    }
   ],
   "source": [
    "deviate_lb"
   ]
  },
  {
   "cell_type": "code",
   "execution_count": 13,
   "id": "8c27113c",
   "metadata": {},
   "outputs": [
    {
     "data": {
      "text/plain": [
       "857325.0"
      ]
     },
     "execution_count": 13,
     "metadata": {},
     "output_type": "execute_result"
    }
   ],
   "source": [
    "round(gamma_1_t_plus, 2)"
   ]
  },
  {
   "cell_type": "code",
   "execution_count": null,
   "id": "a0da53df",
   "metadata": {},
   "outputs": [],
   "source": []
  },
  {
   "cell_type": "code",
   "execution_count": null,
   "id": "05b42f9c",
   "metadata": {},
   "outputs": [],
   "source": []
  },
  {
   "cell_type": "code",
   "execution_count": null,
   "id": "657e8e29",
   "metadata": {},
   "outputs": [],
   "source": []
  },
  {
   "cell_type": "code",
   "execution_count": null,
   "id": "83ab2ebd",
   "metadata": {},
   "outputs": [],
   "source": []
  },
  {
   "cell_type": "code",
   "execution_count": null,
   "id": "1547435a",
   "metadata": {},
   "outputs": [],
   "source": []
  },
  {
   "cell_type": "code",
   "execution_count": null,
   "id": "7d4fc1ec",
   "metadata": {},
   "outputs": [],
   "source": []
  },
  {
   "cell_type": "code",
   "execution_count": null,
   "id": "55a45dbf",
   "metadata": {},
   "outputs": [],
   "source": []
  },
  {
   "cell_type": "code",
   "execution_count": null,
   "id": "269461d5",
   "metadata": {},
   "outputs": [],
   "source": []
  },
  {
   "cell_type": "code",
   "execution_count": 58,
   "id": "412f8cfd",
   "metadata": {
    "scrolled": true
   },
   "outputs": [],
   "source": [
    "df_pair = pd.DataFrame()\n",
    "# df_pair['y_t'] = match_obj.data.iloc[id_list_t][y_i].values\n",
    "# df_pair['y_c'] = match_obj.data.iloc[id_list_c][y_i].values\n",
    "\n",
    "df_pair['y_t'] = match_obj.data[match_obj.data[match_obj.id].isin(id_list_t)][y_i].values\n",
    "# df_pair['y_c'] = match_obj.data[match_obj.data[match_obj.id].isin(id_list_c)][y_i].values\n",
    "df_pair['user_id_treat'] = id_list_t\n",
    "df_pair['user_id_control'] = id_list_c\n",
    "\n",
    "df_pair_ = df_pair.merge(match_obj.data[[match_obj.id,y_i]], how='left', left_on='user_id_control', right_on=match_obj.id)\n",
    "df_pair_.rename(columns={y_i: \"y_c\"}, inplace=True)\n",
    "df_pair_.drop(columns=match_obj.id, inplace=True)\n",
    "df_pair = df_pair_.copy()\n"
   ]
  },
  {
   "cell_type": "code",
   "execution_count": null,
   "id": "39885d72",
   "metadata": {
    "scrolled": true
   },
   "outputs": [],
   "source": []
  },
  {
   "cell_type": "code",
   "execution_count": null,
   "id": "363c09d8",
   "metadata": {},
   "outputs": [],
   "source": []
  },
  {
   "cell_type": "code",
   "execution_count": null,
   "id": "71777798",
   "metadata": {},
   "outputs": [],
   "source": []
  },
  {
   "cell_type": "code",
   "execution_count": 4,
   "id": "28680884",
   "metadata": {},
   "outputs": [],
   "source": [
    "# df_out = match_obj.df_out_final_post_trim.merge(df[y + X + [id]], how='left', on = id)"
   ]
  },
  {
   "cell_type": "code",
   "execution_count": 5,
   "id": "88cd9679",
   "metadata": {},
   "outputs": [],
   "source": [
    "df_out_final = match_obj.df_out_final.copy()\n",
    "\n",
    "y_i = y[0] # Feature 1: change to loop later\n",
    "\n",
    "# for y_i in y:\n",
    "\n",
    "id_list_t = list(df_out_final['user_id_treat'].values)\n",
    "id_list_c = list(df_out_final['user_id_control'].values)\n",
    "\n",
    "y_t = df.iloc[id_list_t][y_i].values\n",
    "y_c = df.iloc[id_list_c][y_i].values\n",
    "\n",
    "df_out_final['y_t'] = y_t\n",
    "df_out_final['y_c'] = y_c\n"
   ]
  },
  {
   "cell_type": "code",
   "execution_count": 16,
   "id": "20b20745",
   "metadata": {},
   "outputs": [
    {
     "name": "stdout",
     "output_type": "stream",
     "text": [
      "7814466.0\n",
      "WilcoxonResult(statistic=7814466.0, pvalue=2.032795203519004e-36)\n"
     ]
    }
   ],
   "source": [
    "# df_out_final['absolute_diff'] = np.round(np.abs(df_out_final['y_t'] - df_out_final['y_c']),2)\n",
    "df_out_final['absolute_diff'] = np.abs(df_out_final['y_t'] - df_out_final['y_c'])\n",
    "df_out_final['absolute_diff_rank'] = df_out_final['absolute_diff'].rank()\n",
    "df_out_final['cs1'] = (df_out_final['y_t']>df_out_final['y_c']) * 1\n",
    "df_out_final['cs2'] = (df_out_final['y_c']>df_out_final['y_t']) * 1\n",
    "df_out_final['cz']  = df_out_final['cs1'] * 1 + df_out_final['cs2'] * 0\n",
    "\n",
    "df_out_final['dcz'] = df_out_final['cz'] * df_out_final['absolute_diff_rank']\n",
    "print(df_out_final['dcz'].sum())\n",
    "print(wilcoxon(y_t, y_c, alternative='greater'))\n",
    "\n"
   ]
  },
  {
   "cell_type": "code",
   "execution_count": 10,
   "id": "808442ac",
   "metadata": {},
   "outputs": [
    {
     "data": {
      "text/plain": [
       "array([1. , 1.5, 2. , 2.5, 3. , 3.5, 4. , 4.5])"
      ]
     },
     "execution_count": 10,
     "metadata": {},
     "output_type": "execute_result"
    }
   ],
   "source": [
    "gamma_list_array =  np.array(list(range(0,100,10)))/20\n",
    "gamma_list = gamma_list_array[gamma_list_array>=1]\n",
    "gamma_list"
   ]
  },
  {
   "cell_type": "code",
   "execution_count": 14,
   "id": "1cecbe5a",
   "metadata": {},
   "outputs": [
    {
     "data": {
      "text/html": [
       "<div>\n",
       "<style scoped>\n",
       "    .dataframe tbody tr th:only-of-type {\n",
       "        vertical-align: middle;\n",
       "    }\n",
       "\n",
       "    .dataframe tbody tr th {\n",
       "        vertical-align: top;\n",
       "    }\n",
       "\n",
       "    .dataframe thead th {\n",
       "        text-align: right;\n",
       "    }\n",
       "</style>\n",
       "<table border=\"1\" class=\"dataframe\">\n",
       "  <thead>\n",
       "    <tr style=\"text-align: right;\">\n",
       "      <th></th>\n",
       "      <th>gamma</th>\n",
       "      <th>e_t_plus</th>\n",
       "      <th>e_t_minus</th>\n",
       "      <th>z_plus</th>\n",
       "      <th>z_minus</th>\n",
       "      <th>p_plus</th>\n",
       "      <th>p_minus</th>\n",
       "    </tr>\n",
       "  </thead>\n",
       "  <tbody>\n",
       "    <tr>\n",
       "      <th>0</th>\n",
       "      <td>1.0</td>\n",
       "      <td>6496126.50</td>\n",
       "      <td>6496126.50</td>\n",
       "      <td>12.548218</td>\n",
       "      <td>12.548218</td>\n",
       "      <td>0.00</td>\n",
       "      <td>0.0</td>\n",
       "    </tr>\n",
       "    <tr>\n",
       "      <th>1</th>\n",
       "      <td>1.5</td>\n",
       "      <td>7795351.80</td>\n",
       "      <td>5196901.20</td>\n",
       "      <td>0.185684</td>\n",
       "      <td>25.428257</td>\n",
       "      <td>0.43</td>\n",
       "      <td>0.0</td>\n",
       "    </tr>\n",
       "    <tr>\n",
       "      <th>2</th>\n",
       "      <td>2.0</td>\n",
       "      <td>8661502.00</td>\n",
       "      <td>4330751.00</td>\n",
       "      <td>-8.551315</td>\n",
       "      <td>35.170104</td>\n",
       "      <td>0.00</td>\n",
       "      <td>0.0</td>\n",
       "    </tr>\n",
       "    <tr>\n",
       "      <th>3</th>\n",
       "      <td>2.5</td>\n",
       "      <td>9280180.71</td>\n",
       "      <td>3712072.29</td>\n",
       "      <td>-15.440888</td>\n",
       "      <td>43.217551</td>\n",
       "      <td>0.00</td>\n",
       "      <td>0.0</td>\n",
       "    </tr>\n",
       "    <tr>\n",
       "      <th>4</th>\n",
       "      <td>3.0</td>\n",
       "      <td>9744189.75</td>\n",
       "      <td>3248063.25</td>\n",
       "      <td>-21.208956</td>\n",
       "      <td>50.187823</td>\n",
       "      <td>0.00</td>\n",
       "      <td>0.0</td>\n",
       "    </tr>\n",
       "    <tr>\n",
       "      <th>5</th>\n",
       "      <td>3.5</td>\n",
       "      <td>10105085.67</td>\n",
       "      <td>2887167.33</td>\n",
       "      <td>-26.221423</td>\n",
       "      <td>56.404293</td>\n",
       "      <td>0.00</td>\n",
       "      <td>0.0</td>\n",
       "    </tr>\n",
       "    <tr>\n",
       "      <th>6</th>\n",
       "      <td>4.0</td>\n",
       "      <td>10393802.40</td>\n",
       "      <td>2598450.60</td>\n",
       "      <td>-30.688296</td>\n",
       "      <td>62.058840</td>\n",
       "      <td>0.00</td>\n",
       "      <td>0.0</td>\n",
       "    </tr>\n",
       "    <tr>\n",
       "      <th>7</th>\n",
       "      <td>4.5</td>\n",
       "      <td>10630025.18</td>\n",
       "      <td>2362227.82</td>\n",
       "      <td>-34.741284</td>\n",
       "      <td>67.275360</td>\n",
       "      <td>0.00</td>\n",
       "      <td>0.0</td>\n",
       "    </tr>\n",
       "  </tbody>\n",
       "</table>\n",
       "</div>"
      ],
      "text/plain": [
       "   gamma     e_t_plus   e_t_minus     z_plus    z_minus  p_plus  p_minus\n",
       "0    1.0   6496126.50  6496126.50  12.548218  12.548218    0.00      0.0\n",
       "1    1.5   7795351.80  5196901.20   0.185684  25.428257    0.43      0.0\n",
       "2    2.0   8661502.00  4330751.00  -8.551315  35.170104    0.00      0.0\n",
       "3    2.5   9280180.71  3712072.29 -15.440888  43.217551    0.00      0.0\n",
       "4    3.0   9744189.75  3248063.25 -21.208956  50.187823    0.00      0.0\n",
       "5    3.5  10105085.67  2887167.33 -26.221423  56.404293    0.00      0.0\n",
       "6    4.0  10393802.40  2598450.60 -30.688296  62.058840    0.00      0.0\n",
       "7    4.5  10630025.18  2362227.82 -34.741284  67.275360    0.00      0.0"
      ]
     },
     "execution_count": 14,
     "metadata": {},
     "output_type": "execute_result"
    }
   ],
   "source": [
    "cols = ['gamma','e_t_plus','e_t_minus','z_plus','z_minus','p_plus','p_minus']\n",
    "\n",
    "lst = []\n",
    "for gamma_i in gamma_list:\n",
    "\n",
    "    df_out_final['ps_plus'] = gamma_i/(1 + gamma_i)\n",
    "    df_out_final['ps_plus'][(df_out_final['cs1']==0) & (df_out_final['cs2']==0)] = 0\n",
    "    df_out_final['ps_plus'][(df_out_final['cs1']==1) & (df_out_final['cs2']==1)] = 1\n",
    "\n",
    "    df_out_final['ps_minus'] = 1/(1 + gamma_i)\n",
    "    df_out_final['ps_minus'][(df_out_final['cs1']==0) & (df_out_final['cs2']==0)] = 0\n",
    "    df_out_final['ps_minus'][(df_out_final['cs1']==1) & (df_out_final['cs2']==1)] = 1\n",
    "\n",
    "    gamma_1_t_plus = np.sum(df_out_final['absolute_diff_rank'] * df_out_final['ps_plus'])\n",
    "\n",
    "    gamma_1_t_minus = np.sum(df_out_final['absolute_diff_rank'] * df_out_final['ps_minus'])\n",
    "\n",
    "\n",
    "    var_t_plus = np.sum(df_out_final['absolute_diff_rank'] ** 2 * (df_out_final['ps_plus'] * (1-df_out_final['ps_plus'])))\n",
    "\n",
    "    deviate_ub = (df_out_final['dcz'].sum() - gamma_1_t_plus) / np.sqrt(var_t_plus)\n",
    "    deviate_lb = (df_out_final['dcz'].sum() - gamma_1_t_minus) / np.sqrt(var_t_plus)\n",
    "    \n",
    "    lst.append([gamma_i\n",
    "          , round(gamma_1_t_plus,2)\n",
    "          , round(gamma_1_t_minus,2)\n",
    "          , deviate_ub\n",
    "          , deviate_lb\n",
    "          , np.round(norm.sf(abs(deviate_ub)),2)\n",
    "          , np.round(norm.sf(abs(deviate_lb)),2)])\n",
    "\n",
    "df_sensitivity_test = pd.DataFrame(lst, columns=cols)\n",
    "df_sensitivity_test"
   ]
  },
  {
   "cell_type": "code",
   "execution_count": 11,
   "id": "fb8f3b24",
   "metadata": {},
   "outputs": [],
   "source": []
  },
  {
   "cell_type": "code",
   "execution_count": null,
   "id": "580487fd",
   "metadata": {},
   "outputs": [],
   "source": []
  },
  {
   "cell_type": "code",
   "execution_count": null,
   "id": "09ca4d96",
   "metadata": {},
   "outputs": [],
   "source": []
  },
  {
   "cell_type": "code",
   "execution_count": null,
   "id": "3f543b65",
   "metadata": {},
   "outputs": [],
   "source": []
  },
  {
   "cell_type": "code",
   "execution_count": 27,
   "id": "c930ac64",
   "metadata": {},
   "outputs": [
    {
     "name": "stdout",
     "output_type": "stream",
     "text": [
      "527.0\n",
      "WilcoxonResult(statistic=499.0, pvalue=5.5308015357736255e-06)\n"
     ]
    },
    {
     "name": "stderr",
     "output_type": "stream",
     "text": [
      "/Library/Frameworks/Python.framework/Versions/3.12/lib/python3.12/site-packages/scipy/stats/_axis_nan_policy.py:531: UserWarning: Exact p-value calculation does not work if there are zeros. Switching to normal approximation.\n",
      "  res = hypotest_fun_out(*samples, **kwds)\n"
     ]
    },
    {
     "data": {
      "text/html": [
       "<div>\n",
       "<style scoped>\n",
       "    .dataframe tbody tr th:only-of-type {\n",
       "        vertical-align: middle;\n",
       "    }\n",
       "\n",
       "    .dataframe tbody tr th {\n",
       "        vertical-align: top;\n",
       "    }\n",
       "\n",
       "    .dataframe thead th {\n",
       "        text-align: right;\n",
       "    }\n",
       "</style>\n",
       "<table border=\"1\" class=\"dataframe\">\n",
       "  <thead>\n",
       "    <tr style=\"text-align: right;\">\n",
       "      <th></th>\n",
       "      <th>gamma</th>\n",
       "      <th>e_t_plus</th>\n",
       "      <th>e_t_minus</th>\n",
       "      <th>z_plus</th>\n",
       "      <th>z_minus</th>\n",
       "      <th>p_plus</th>\n",
       "      <th>p_minus</th>\n",
       "    </tr>\n",
       "  </thead>\n",
       "  <tbody>\n",
       "    <tr>\n",
       "      <th>0</th>\n",
       "      <td>1.0</td>\n",
       "      <td>280.00</td>\n",
       "      <td>280.00</td>\n",
       "      <td>4.414499</td>\n",
       "      <td>4.414499</td>\n",
       "      <td>0.00001</td>\n",
       "      <td>0.00001</td>\n",
       "    </tr>\n",
       "    <tr>\n",
       "      <th>1</th>\n",
       "      <td>1.5</td>\n",
       "      <td>336.00</td>\n",
       "      <td>224.00</td>\n",
       "      <td>3.484033</td>\n",
       "      <td>5.527026</td>\n",
       "      <td>0.00025</td>\n",
       "      <td>0.00000</td>\n",
       "    </tr>\n",
       "    <tr>\n",
       "      <th>2</th>\n",
       "      <td>2.0</td>\n",
       "      <td>373.33</td>\n",
       "      <td>186.67</td>\n",
       "      <td>2.912999</td>\n",
       "      <td>6.451567</td>\n",
       "      <td>0.00179</td>\n",
       "      <td>0.00000</td>\n",
       "    </tr>\n",
       "    <tr>\n",
       "      <th>3</th>\n",
       "      <td>2.5</td>\n",
       "      <td>400.00</td>\n",
       "      <td>160.00</td>\n",
       "      <td>2.512212</td>\n",
       "      <td>7.259698</td>\n",
       "      <td>0.00600</td>\n",
       "      <td>0.00000</td>\n",
       "    </tr>\n",
       "    <tr>\n",
       "      <th>4</th>\n",
       "      <td>3.0</td>\n",
       "      <td>420.00</td>\n",
       "      <td>140.00</td>\n",
       "      <td>2.208196</td>\n",
       "      <td>7.986653</td>\n",
       "      <td>0.01362</td>\n",
       "      <td>0.00000</td>\n",
       "    </tr>\n",
       "    <tr>\n",
       "      <th>5</th>\n",
       "      <td>3.5</td>\n",
       "      <td>435.56</td>\n",
       "      <td>124.44</td>\n",
       "      <td>1.965578</td>\n",
       "      <td>8.652842</td>\n",
       "      <td>0.02467</td>\n",
       "      <td>0.00000</td>\n",
       "    </tr>\n",
       "    <tr>\n",
       "      <th>6</th>\n",
       "      <td>4.0</td>\n",
       "      <td>448.00</td>\n",
       "      <td>112.00</td>\n",
       "      <td>1.764906</td>\n",
       "      <td>9.271342</td>\n",
       "      <td>0.03879</td>\n",
       "      <td>0.00000</td>\n",
       "    </tr>\n",
       "    <tr>\n",
       "      <th>7</th>\n",
       "      <td>4.5</td>\n",
       "      <td>458.18</td>\n",
       "      <td>101.82</td>\n",
       "      <td>1.594462</td>\n",
       "      <td>9.851120</td>\n",
       "      <td>0.05542</td>\n",
       "      <td>0.00000</td>\n",
       "    </tr>\n",
       "  </tbody>\n",
       "</table>\n",
       "</div>"
      ],
      "text/plain": [
       "   gamma  e_t_plus  e_t_minus    z_plus   z_minus   p_plus  p_minus\n",
       "0    1.0    280.00     280.00  4.414499  4.414499  0.00001  0.00001\n",
       "1    1.5    336.00     224.00  3.484033  5.527026  0.00025  0.00000\n",
       "2    2.0    373.33     186.67  2.912999  6.451567  0.00179  0.00000\n",
       "3    2.5    400.00     160.00  2.512212  7.259698  0.00600  0.00000\n",
       "4    3.0    420.00     140.00  2.208196  7.986653  0.01362  0.00000\n",
       "5    3.5    435.56     124.44  1.965578  8.652842  0.02467  0.00000\n",
       "6    4.0    448.00     112.00  1.764906  9.271342  0.03879  0.00000\n",
       "7    4.5    458.18     101.82  1.594462  9.851120  0.05542  0.00000"
      ]
     },
     "execution_count": 27,
     "metadata": {},
     "output_type": "execute_result"
    }
   ],
   "source": [
    "df_out_final = pd.DataFrame()\n",
    "df_out_final['y_t'] = [16,14,22,21,10,13,20,23,18,24,17,15,34,23,25,27,31,34,35,39,37,38,41,35,36,39,44,48,43,45,49,62,73]\n",
    "df_out_final['y_c'] = [16,13,21,19,13,16,16,18,24,18,10,24,25,10,11,13,16,18,19,22,19,16,18,12,11,14,19,18,11,9,7,15,13]\n",
    "\n",
    "# df_out_final['absolute_diff'] = np.round(np.abs(df_out_final['y_t'] - df_out_final['y_c']),2)\n",
    "df_out_final['absolute_diff'] = np.abs(df_out_final['y_t'] - df_out_final['y_c'])\n",
    "df_out_final['absolute_diff_rank'] = df_out_final['absolute_diff'].rank()\n",
    "df_out_final['cs1'] = (df_out_final['y_t']>df_out_final['y_c']) * 1\n",
    "df_out_final['cs2'] = (df_out_final['y_c']>df_out_final['y_t']) * 1\n",
    "df_out_final['cz']  = df_out_final['cs1'] * 1 + df_out_final['cs2'] * 0\n",
    "\n",
    "df_out_final['dcz'] = df_out_final['cz'] * df_out_final['absolute_diff_rank']\n",
    "print(df_out_final['dcz'].sum())\n",
    "# print(wilcoxon(df_out_final['y_t'].values, df_out_final['y_c'].values))\n",
    "print(wilcoxon(df_out_final['y_t'].values, df_out_final['y_c'].values, alternative='greater'))\n",
    "\n",
    "\n",
    "gamma_list_array =  np.array(list(range(0,100,10)))/20\n",
    "gamma_list = gamma_list_array[gamma_list_array>=1]\n",
    "\n",
    "cols = ['gamma','e_t_plus','e_t_minus','z_plus','z_minus','p_plus','p_minus']\n",
    "\n",
    "lst = []\n",
    "for gamma_i in gamma_list:\n",
    "\n",
    "    df_out_final['ps_plus'] = gamma_i/(1 + gamma_i)\n",
    "    df_out_final['ps_plus'][(df_out_final['cs1']==0) & (df_out_final['cs2']==0)] = 0\n",
    "    df_out_final['ps_plus'][(df_out_final['cs1']==1) & (df_out_final['cs2']==1)] = 1\n",
    "\n",
    "    df_out_final['ps_minus'] = 1/(1 + gamma_i)\n",
    "    df_out_final['ps_minus'][(df_out_final['cs1']==0) & (df_out_final['cs2']==0)] = 0\n",
    "    df_out_final['ps_minus'][(df_out_final['cs1']==1) & (df_out_final['cs2']==1)] = 1\n",
    "\n",
    "    gamma_1_t_plus = np.sum(df_out_final['absolute_diff_rank'] * df_out_final['ps_plus'])\n",
    "\n",
    "    gamma_1_t_minus = np.sum(df_out_final['absolute_diff_rank'] * df_out_final['ps_minus'])\n",
    "\n",
    "\n",
    "    var_t_plus = np.sum(df_out_final['absolute_diff_rank'] ** 2 * (df_out_final['ps_plus'] * (1-df_out_final['ps_plus'])))\n",
    "\n",
    "    deviate_ub = (df_out_final['dcz'].sum() - gamma_1_t_plus) / np.sqrt(var_t_plus)\n",
    "    deviate_lb = (df_out_final['dcz'].sum() - gamma_1_t_minus) / np.sqrt(var_t_plus)\n",
    "    \n",
    "    lst.append([gamma_i\n",
    "          , round(gamma_1_t_plus,2)\n",
    "          , round(gamma_1_t_minus,2)\n",
    "          , deviate_ub\n",
    "          , deviate_lb\n",
    "          , np.round(norm.sf(abs(deviate_ub)),5)\n",
    "          , np.round(norm.sf(abs(deviate_lb)),5)])\n",
    "\n",
    "df_sensitivity_test = pd.DataFrame(lst, columns=cols)\n",
    "df_sensitivity_test"
   ]
  },
  {
   "cell_type": "code",
   "execution_count": null,
   "id": "36aff531",
   "metadata": {},
   "outputs": [],
   "source": []
  },
  {
   "cell_type": "markdown",
   "id": "7f9f7978",
   "metadata": {},
   "source": [
    "# 20240929: add refute test\n",
    "refute test types refers to https://causalwizard.app/inference/article/bootstrap-refuters-dowhy"
   ]
  },
  {
   "cell_type": "code",
   "execution_count": 1,
   "id": "cb5d138b",
   "metadata": {
    "scrolled": true
   },
   "outputs": [
    {
     "name": "stdout",
     "output_type": "stream",
     "text": [
      "['/Library/Frameworks/Python.framework/Versions/3.12/lib/python312.zip', '/Library/Frameworks/Python.framework/Versions/3.12/lib/python3.12', '/Library/Frameworks/Python.framework/Versions/3.12/lib/python3.12/lib-dynload', '', '/Users/bytedance/Library/Python/3.12/lib/python/site-packages', '/Library/Frameworks/Python.framework/Versions/3.12/lib/python3.12/site-packages']\n",
      "current version is:  0.0.2\n",
      "/usr/local/bin/python3.12\n",
      "3.12.2 (v3.12.2:6abddd9f6a, Feb  6 2024, 17:02:06) [Clang 13.0.0 (clang-1300.0.29.30)]\n",
      "sys.version_info(major=3, minor=12, micro=2, releaselevel='final', serial=0)\n"
     ]
    },
    {
     "name": "stderr",
     "output_type": "stream",
     "text": [
      "Processed Samples: 100%|████████████| 5097/5097 [00:00<00:00, 827688.55sample/s]"
     ]
    },
    {
     "name": "stdout",
     "output_type": "stream",
     "text": [
      "******************************\n"
     ]
    },
    {
     "name": "stderr",
     "output_type": "stream",
     "text": [
      "\n"
     ]
    }
   ],
   "source": [
    "import sys\n",
    "print(sys.path)\n",
    "sys.path.append('/Users/bytedance/PycharmProjects/github/CausalMatch')\n",
    "\n",
    "import causalmatch as causalmatch\n",
    "from causalmatch import matching,gen_test_data\n",
    "\n",
    "print('current version is: ',causalmatch.__version__)\n",
    "\n",
    "import sys\n",
    "print(sys.executable)\n",
    "print(sys.version)\n",
    "print(sys.version_info)\n",
    "\n",
    "\n",
    "import pandas as pd\n",
    "import numpy as np\n",
    "import statsmodels.api as sm\n",
    "from sklearn.linear_model import LogisticRegression\n",
    "\n",
    "from sklearn.model_selection import train_test_split\n",
    "from sklearn.metrics import recall_score,roc_auc_score,f1_score\n",
    "import statsmodels.api as sm\n",
    "from scipy.stats import wilcoxon,norm\n",
    "import copy\n",
    "\n",
    "df, rand_continuous, rand_true_param, param_te , rand_treatment, rand_error = gen_test_data(n = 10000, c_ratio=0.5)\n",
    "X = ['c_1', 'c_2', 'c_3', 'd_1', 'gender']\n",
    "# y = ['y', 'y2']\n",
    "y = ['y']\n",
    "id = 'user_id'\n",
    "T = 'treatment'\n",
    "\n",
    "\n",
    "match_obj = matching(data = df, T = T, X = X, y = y, id = id)\n",
    "\n",
    "match_obj.psm(n_neighbors = 1, \n",
    "              model = LogisticRegression(), \n",
    "              trim_percentage = 0.1, \n",
    "              caliper = 0.1,\n",
    "              verbose = False) \n",
    "\n",
    "true_ate = match_obj.ate().iloc[0]['ate']\n"
   ]
  },
  {
   "cell_type": "code",
   "execution_count": 2,
   "id": "88e37e80",
   "metadata": {},
   "outputs": [
    {
     "name": "stdout",
     "output_type": "stream",
     "text": [
      "             Robustness Check Output Table for Dep. Variable y              \n",
      "============================================================================\n",
      "                                                            coef    P>|t|   \n",
      "  Average Treatment Effect:                                 0.51     0.00%  \n",
      "                                                                            \n",
      "  1. Total % of obs remained:                             91.76%      Pass  \n",
      "   -- Treated % obs remained:                             90.05%      Pass  \n",
      "   -- Control % obs remained:                             93.53%      Pass  \n",
      "      -- The most repeated times of a control obs:             9         -  \n",
      "  2. Sensitivity test result, Gamma statistics               1.0      Fail  \n",
      "  3. Placebo Test Result conf. interval              -0.33,0.33,      Pass  \n"
     ]
    }
   ],
   "source": [
    "gamma = [1,1.5,2,2.5,3]\n",
    "match_obj.robust_check(gamma)"
   ]
  },
  {
   "cell_type": "code",
   "execution_count": null,
   "id": "9dbcebb9",
   "metadata": {},
   "outputs": [],
   "source": []
  },
  {
   "cell_type": "code",
   "execution_count": 3,
   "id": "cf14ce5d",
   "metadata": {},
   "outputs": [],
   "source": [
    "# summary_stat = {\"y\" : self.y[0],\n",
    "#                 \"ATE\": '{:.2f}'.format(self.ate().iloc[0]['ate']),\n",
    "#                 \"remain_sample_fraction\": '{:.2f}%'.format(remain_sample_fraction*100),\n",
    "#                 \"remain_sample_fraction_t\": '{:.2f}%'.format(remain_sample_fraction_t*100),\n",
    "#                 \"remain_sample_fraction_c\": '{:.2f}%'.format(remain_sample_fraction_c*100),\n",
    "#                 \"max_repeat_time\": max_repeat_time,\n",
    "#                 \"max_repeat_control_id_list_str\": max_repeat_control_id_list_str,\n",
    "#                 \"gamma_test_stat\": gamma_test_stat,\n",
    "#                 \"conf. interval\": critical_val_str}"
   ]
  },
  {
   "cell_type": "code",
   "execution_count": 4,
   "id": "73960c42",
   "metadata": {},
   "outputs": [],
   "source": [
    "from statsmodels.compat.python import lrange, lmap, lzip\n",
    "from statsmodels.iolib.table import SimpleTable\n",
    "from itertools import zip_longest"
   ]
  },
  {
   "cell_type": "code",
   "execution_count": 11,
   "id": "9914f38f",
   "metadata": {},
   "outputs": [
    {
     "data": {
      "text/html": [
       "<div>\n",
       "<style scoped>\n",
       "    .dataframe tbody tr th:only-of-type {\n",
       "        vertical-align: middle;\n",
       "    }\n",
       "\n",
       "    .dataframe tbody tr th {\n",
       "        vertical-align: top;\n",
       "    }\n",
       "\n",
       "    .dataframe thead th {\n",
       "        text-align: right;\n",
       "    }\n",
       "</style>\n",
       "<table border=\"1\" class=\"dataframe\">\n",
       "  <thead>\n",
       "    <tr style=\"text-align: right;\">\n",
       "      <th></th>\n",
       "      <th>y</th>\n",
       "      <th>ate</th>\n",
       "      <th>p_val</th>\n",
       "    </tr>\n",
       "  </thead>\n",
       "  <tbody>\n",
       "    <tr>\n",
       "      <th>0</th>\n",
       "      <td>y</td>\n",
       "      <td>0.509743</td>\n",
       "      <td>3.503957e-26</td>\n",
       "    </tr>\n",
       "  </tbody>\n",
       "</table>\n",
       "</div>"
      ],
      "text/plain": [
       "   y       ate         p_val\n",
       "0  y  0.509743  3.503957e-26"
      ]
     },
     "execution_count": 11,
     "metadata": {},
     "output_type": "execute_result"
    }
   ],
   "source": [
    "match_obj.ate()"
   ]
  },
  {
   "cell_type": "code",
   "execution_count": 10,
   "id": "59596b28",
   "metadata": {},
   "outputs": [
    {
     "data": {
      "text/plain": [
       "'0.00%'"
      ]
     },
     "execution_count": 10,
     "metadata": {},
     "output_type": "execute_result"
    }
   ],
   "source": []
  },
  {
   "cell_type": "code",
   "execution_count": 28,
   "id": "fa13f9bd",
   "metadata": {},
   "outputs": [],
   "source": [
    "\n",
    "\n",
    "# Simpletable should be able to handle the formating\n",
    "params_data_ = (['{:.2f}'.format(match_obj.ate().iloc[0]['ate']), '{:.2f}%'.format(match_obj.ate().p_val[0])],\n",
    "                ['{:.2f}%'.format(remain_sample_fraction*100),5],\n",
    "                ['{:.2f}%'.format(0.99*100),5],\n",
    "                ['{:.2f}%'.format(0.99*100),5],\n",
    "                [9,5],\n",
    "                ['asasda',5],\n",
    "                [1,5],                    \n",
    "                ['0,0',8])\n",
    "\n",
    "params_stubs_ = ['Average Treatment Effect: '\n",
    "                 ,'Total obs remain fraction'\n",
    "                 ,'Treated obs remain fraction'\n",
    "                 ,'Control obs remain fraction'\n",
    "                 ,'The maximun repeated times of a control group observation'\n",
    "                 ,'The list of control group id that repeat the most'\n",
    "                 ,'Sensitivity test result, Gamma statistics'\n",
    "                 ,'Sensitivity test result, Gamma statistics'\n",
    "                 ,'Placebo Test Result conf. interval']\n",
    "\n",
    "\n",
    "\n",
    "gen_fmt = {\n",
    "    \"data_fmts\": [\"%s\", \"%s\", \"%s\", \"%s\", \"%s\"],\n",
    "    \"empty_cell\": '',\n",
    "    \"colwidths\": 7,\n",
    "    \"colsep\": '   ',\n",
    "    \"row_pre\": '  ',\n",
    "    \"row_post\": '  ',\n",
    "    \"table_dec_above\": '=',\n",
    "    \"table_dec_below\": None,\n",
    "    \"header_dec_below\": None,\n",
    "    \"header_fmt\": '%s',\n",
    "    \"stub_fmt\": '%s',\n",
    "    \"title_align\": 'c',\n",
    "    \"header_align\": 'r',\n",
    "    \"data_aligns\": \"r\",\n",
    "    \"stubs_align\": \"l\",\n",
    "    \"fmt\": 'txt'\n",
    "}\n",
    "\n",
    "gen_title = 'Robustness Check Output Table for Dep. Variable {}'.format(match_obj.y[0])\n",
    "gen_header = ['coef','P>|t| ']\n",
    "\n",
    "\n",
    "gen_table_parm = SimpleTable(params_data_,\n",
    "                             gen_header,\n",
    "                             params_stubs_,\n",
    "                             title=gen_title,\n",
    "                             txt_fmt=gen_fmt\n",
    "                             )\n"
   ]
  },
  {
   "cell_type": "code",
   "execution_count": 29,
   "id": "22a3cf63",
   "metadata": {},
   "outputs": [
    {
     "name": "stdout",
     "output_type": "stream",
     "text": [
      "                Robustness Check Output Table for Dep. Variable y                \n",
      "=================================================================================\n",
      "                                                                 coef    P>|t|   \n",
      "  Average Treatment Effect:                                      0.51     0.00%  \n",
      "  Total obs remain fraction                                    99.00%         5  \n",
      "  Treated obs remain fraction                                  99.00%         5  \n",
      "  Control obs remain fraction                                  99.00%         5  \n",
      "  The maximun repeated times of a control group observation         9         5  \n",
      "  The list of control group id that repeat the most            asasda         5  \n",
      "  Sensitivity test result, Gamma statistics                         1         5  \n",
      "  Sensitivity test result, Gamma statistics                       0,0         8  \n"
     ]
    }
   ],
   "source": [
    "print(gen_table_parm)\n",
    "# print(gen_table_left)\n",
    "# print(gen_table_right)"
   ]
  },
  {
   "cell_type": "code",
   "execution_count": 23,
   "id": "9b703d3f",
   "metadata": {},
   "outputs": [],
   "source": [
    "# print(gen_table_left)\n",
    "# print(gen_table_right)\n",
    "\n",
    "coef nonrobust std err          t      P>|t|     "
   ]
  },
  {
   "cell_type": "code",
   "execution_count": 28,
   "id": "65c41323",
   "metadata": {},
   "outputs": [
    {
     "data": {
      "text/plain": [
       "('pass', 'fail', 'pass', ' ', ' ', ' ', ' ', ' ', ' ', ' ', ' ', ' ')"
      ]
     },
     "execution_count": 28,
     "metadata": {},
     "output_type": "execute_result"
    }
   ],
   "source": [
    "gen_stubs_right"
   ]
  },
  {
   "cell_type": "code",
   "execution_count": 29,
   "id": "63d7b348",
   "metadata": {},
   "outputs": [
    {
     "data": {
      "text/plain": [
       "('a', 'b', 'c', ' ', ' ', ' ', ' ', ' ', ' ', ' ', ' ', ' ')"
      ]
     },
     "execution_count": 29,
     "metadata": {},
     "output_type": "execute_result"
    }
   ],
   "source": [
    "gen_data_middle"
   ]
  },
  {
   "cell_type": "code",
   "execution_count": 30,
   "id": "d396a6ff",
   "metadata": {},
   "outputs": [
    {
     "data": {
      "text/plain": [
       "('1', '2', '3', ' ', ' ', ' ', ' ', ' ', ' ', ' ', ' ', ' ')"
      ]
     },
     "execution_count": 30,
     "metadata": {},
     "output_type": "execute_result"
    }
   ],
   "source": [
    "gen_data_right"
   ]
  },
  {
   "cell_type": "code",
   "execution_count": null,
   "id": "d9ce170f",
   "metadata": {},
   "outputs": [],
   "source": []
  },
  {
   "cell_type": "code",
   "execution_count": null,
   "id": "6e7d802e",
   "metadata": {},
   "outputs": [],
   "source": []
  },
  {
   "cell_type": "code",
   "execution_count": null,
   "id": "b287b461",
   "metadata": {},
   "outputs": [],
   "source": []
  },
  {
   "cell_type": "code",
   "execution_count": null,
   "id": "3a639585",
   "metadata": {},
   "outputs": [],
   "source": []
  },
  {
   "cell_type": "code",
   "execution_count": null,
   "id": "241dff45",
   "metadata": {},
   "outputs": [],
   "source": []
  },
  {
   "cell_type": "code",
   "execution_count": null,
   "id": "926e90c3",
   "metadata": {},
   "outputs": [],
   "source": []
  },
  {
   "cell_type": "code",
   "execution_count": null,
   "id": "8820861a",
   "metadata": {},
   "outputs": [],
   "source": []
  },
  {
   "cell_type": "code",
   "execution_count": null,
   "id": "e0c661c2",
   "metadata": {},
   "outputs": [],
   "source": []
  },
  {
   "cell_type": "code",
   "execution_count": null,
   "id": "61e033fe",
   "metadata": {},
   "outputs": [],
   "source": []
  },
  {
   "cell_type": "code",
   "execution_count": 2,
   "id": "12323fcc",
   "metadata": {},
   "outputs": [],
   "source": [
    "from causalmatch.matching.match_core.utils import data_process_bc\n",
    "df_out_ = match_obj.df_out_final\n",
    "\n",
    "# 多少observation的数量被drop了\n",
    "match_obj.df_out_final_post_trim\n",
    "\n",
    "# control样本最大使用次数：哪一个control的obs被用的最多；\n",
    "X_balance_check, df_post_validate, df_pre_validate = data_process_bc(match_obj, True)\n"
   ]
  },
  {
   "cell_type": "code",
   "execution_count": 3,
   "id": "f358d001",
   "metadata": {},
   "outputs": [
    {
     "name": "stdout",
     "output_type": "stream",
     "text": [
      "0.9176 0.9005297233666862 0.9353457067101775\n"
     ]
    }
   ],
   "source": [
    "# 总体remain了多少样本\n",
    "remain_sample_fraction = df_post_validate.shape[0]/df_pre_validate.shape[0]\n",
    "\n",
    "# 实验组remain了多少样本\n",
    "remain_sample_fraction_t = df_post_validate[df_post_validate[match_obj.T]==1].shape[0]/df_pre_validate[df_pre_validate[match_obj.T]==1].shape[0]\n",
    "\n",
    "# 对照组remain了多少样本\n",
    "remain_sample_fraction_c = df_post_validate[df_post_validate[match_obj.T]!=1].shape[0]/df_pre_validate[df_pre_validate[match_obj.T]!=1].shape[0]\n",
    "\n",
    "print(remain_sample_fraction, remain_sample_fraction_t, remain_sample_fraction_c)\n"
   ]
  },
  {
   "cell_type": "code",
   "execution_count": 4,
   "id": "f53560df",
   "metadata": {},
   "outputs": [],
   "source": [
    "# match_obj.T\n",
    "# match_obj.id\n"
   ]
  },
  {
   "cell_type": "code",
   "execution_count": null,
   "id": "f48d6354",
   "metadata": {},
   "outputs": [],
   "source": []
  },
  {
   "cell_type": "code",
   "execution_count": 5,
   "id": "041e6f59",
   "metadata": {},
   "outputs": [
    {
     "data": {
      "text/plain": [
       "'5785,3981,3793,7516,'"
      ]
     },
     "execution_count": 5,
     "metadata": {},
     "output_type": "execute_result"
    }
   ],
   "source": [
    "df_repeat_ = pd.DataFrame(df_post_validate[df_post_validate[match_obj.T]!=1][match_obj.id].value_counts())\n",
    "df_repeat_.reset_index(inplace=True)\n",
    "max_repeat_time = df_repeat_[match_obj.id].max()\n",
    "\n",
    "\n",
    "max_repeat_control_id_list = list(df_repeat_[df_repeat_[match_obj.id]==max_repeat_time]['index'].values)\n",
    "\n",
    "max_repeat_control_id_list_str = ''.join(str(e)+',' for e in max_repeat_control_id_list)\n",
    "max_repeat_control_id_list_str"
   ]
  },
  {
   "cell_type": "code",
   "execution_count": 11,
   "id": "8f3bd433",
   "metadata": {
    "scrolled": true
   },
   "outputs": [
    {
     "data": {
      "text/plain": [
       "1.0"
      ]
     },
     "execution_count": 11,
     "metadata": {},
     "output_type": "execute_result"
    }
   ],
   "source": [
    "from causalmatch.matching.match_core.robust_check import sensitivity_test\n",
    "\n",
    "gamma = [1,1.5,2,2.5,3]\n",
    "\n",
    "df_res_full = pd.DataFrame()\n",
    "for y_i in match_obj.y:\n",
    "    df_res = sensitivity_test(match_obj, gamma, y_i)\n",
    "    df_res['y'] = y_i\n",
    "    df_res_full = pd.concat([df_res_full, df_res], ignore_index=True)\n",
    "\n",
    "df_gamma_ = df_res_full[~df_res_full['z-score upper bound'].isna()].groupby(['y']).max()['gamma']\n",
    "df_gamma_.values[0]"
   ]
  },
  {
   "cell_type": "code",
   "execution_count": 12,
   "id": "d5a1e0c2",
   "metadata": {},
   "outputs": [
    {
     "data": {
      "text/plain": [
       "'psm'"
      ]
     },
     "execution_count": 12,
     "metadata": {},
     "output_type": "execute_result"
    }
   ],
   "source": []
  },
  {
   "cell_type": "code",
   "execution_count": 7,
   "id": "792e09ce",
   "metadata": {
    "scrolled": true
   },
   "outputs": [
    {
     "data": {
      "text/plain": [
       "{'y': 'y',\n",
       " 'remain_sample_fraction': 0.9176,\n",
       " 'remain_sample_fraction_t': 0.9005297233666862,\n",
       " 'remain_sample_fraction_c': 0.9353457067101775}"
      ]
     },
     "execution_count": 7,
     "metadata": {},
     "output_type": "execute_result"
    }
   ],
   "source": [
    "col_list = ['y',\n",
    "            'remain_sample_fraction',\n",
    "            'remain_sample_fraction_t',\n",
    "            'remain_sample_fraction_c',\n",
    "            'max_repeat_time',\n",
    "            'max_repeat_time',]\n",
    "\n",
    "summary_stat = {\"y\" : match_obj.y[0],\n",
    "               \"remain_sample_fraction\": remain_sample_fraction,\n",
    "               \"remain_sample_fraction_t\": remain_sample_fraction_t, \n",
    "               \"remain_sample_fraction_c\": remain_sample_fraction_c,}\n",
    "\n",
    "summary_stat"
   ]
  },
  {
   "cell_type": "code",
   "execution_count": 8,
   "id": "3bb6b491",
   "metadata": {},
   "outputs": [
    {
     "ename": "NameError",
     "evalue": "name 'df_gamma_' is not defined",
     "output_type": "error",
     "traceback": [
      "\u001b[0;31m---------------------------------------------------------------------------\u001b[0m",
      "\u001b[0;31mNameError\u001b[0m                                 Traceback (most recent call last)",
      "Cell \u001b[0;32mIn[8], line 2\u001b[0m\n\u001b[1;32m      1\u001b[0m \u001b[38;5;66;03m# Simpletable should be able to handle the formating\u001b[39;00m\n\u001b[0;32m----> 2\u001b[0m \u001b[43mdf_gamma_\u001b[49m\n",
      "\u001b[0;31mNameError\u001b[0m: name 'df_gamma_' is not defined"
     ]
    }
   ],
   "source": [
    "# Simpletable should be able to handle the formating\n",
    "df_gamma_"
   ]
  },
  {
   "cell_type": "code",
   "execution_count": 24,
   "id": "d8ce96ed",
   "metadata": {},
   "outputs": [],
   "source": [
    "?pd.DataFrame"
   ]
  },
  {
   "cell_type": "code",
   "execution_count": null,
   "id": "b7c25bcc",
   "metadata": {},
   "outputs": [],
   "source": []
  },
  {
   "cell_type": "code",
   "execution_count": 3,
   "id": "0f6b84be",
   "metadata": {},
   "outputs": [],
   "source": [
    "# 1. 多少observation的数量被drop了\n",
    "# 2. control样本最大使用次数：哪一个control的obs被用的最多；\n",
    "# 3. 敏感性分析，gamma检验结果\n",
    "# 4. 反驳式：\n",
    "#    4.1 placebo\n",
    "#    4.2 添加随机混淆检验\n",
    "#    4.3 子集检验"
   ]
  },
  {
   "cell_type": "code",
   "execution_count": 2,
   "id": "4909bd9d",
   "metadata": {
    "scrolled": true
   },
   "outputs": [
    {
     "name": "stdout",
     "output_type": "stream",
     "text": [
      "0\n",
      "1\n",
      "2\n",
      "3\n",
      "4\n",
      "5\n",
      "6\n",
      "7\n",
      "8\n",
      "9\n",
      "10\n",
      "11\n",
      "12\n",
      "13\n",
      "14\n",
      "15\n",
      "16\n",
      "17\n",
      "18\n",
      "19\n",
      "20\n",
      "21\n",
      "22\n",
      "23\n",
      "24\n",
      "25\n",
      "26\n",
      "27\n",
      "28\n",
      "29\n",
      "30\n",
      "31\n",
      "32\n",
      "33\n",
      "34\n",
      "35\n",
      "36\n",
      "37\n",
      "38\n",
      "39\n",
      "40\n",
      "41\n",
      "42\n",
      "43\n",
      "44\n",
      "45\n",
      "46\n",
      "47\n",
      "48\n",
      "49\n",
      "50\n",
      "51\n",
      "52\n",
      "53\n",
      "54\n",
      "55\n",
      "56\n",
      "57\n",
      "58\n",
      "59\n",
      "60\n",
      "61\n",
      "62\n",
      "63\n",
      "64\n",
      "65\n",
      "66\n",
      "67\n",
      "68\n",
      "69\n",
      "70\n",
      "71\n",
      "72\n",
      "73\n",
      "74\n",
      "75\n",
      "76\n",
      "77\n",
      "78\n",
      "79\n",
      "80\n",
      "81\n",
      "82\n",
      "83\n",
      "84\n",
      "85\n",
      "86\n",
      "87\n",
      "88\n",
      "89\n",
      "90\n",
      "91\n",
      "92\n",
      "93\n",
      "94\n",
      "95\n",
      "96\n",
      "97\n",
      "98\n",
      "99\n"
     ]
    },
    {
     "name": "stderr",
     "output_type": "stream",
     "text": [
      "/var/folders/6y/pv_cpv891fb7v3w2vj8fsz8m0000gn/T/ipykernel_88507/1245409651.py:26: PerformanceWarning: DataFrame is highly fragmented.  This is usually the result of calling `frame.insert` many times, which has poor performance.  Consider joining all columns at once using pd.concat(axis=1) instead. To get a de-fragmented frame, use `newframe = frame.copy()`\n",
      "  data_b[t_i_name] = rand_discrete[:, i]\n",
      "/var/folders/6y/pv_cpv891fb7v3w2vj8fsz8m0000gn/T/ipykernel_88507/1245409651.py:26: PerformanceWarning: DataFrame is highly fragmented.  This is usually the result of calling `frame.insert` many times, which has poor performance.  Consider joining all columns at once using pd.concat(axis=1) instead. To get a de-fragmented frame, use `newframe = frame.copy()`\n",
      "  data_b[t_i_name] = rand_discrete[:, i]\n",
      "/var/folders/6y/pv_cpv891fb7v3w2vj8fsz8m0000gn/T/ipykernel_88507/1245409651.py:26: PerformanceWarning: DataFrame is highly fragmented.  This is usually the result of calling `frame.insert` many times, which has poor performance.  Consider joining all columns at once using pd.concat(axis=1) instead. To get a de-fragmented frame, use `newframe = frame.copy()`\n",
      "  data_b[t_i_name] = rand_discrete[:, i]\n"
     ]
    }
   ],
   "source": [
    "n = 1000\n",
    "b = 100\n",
    "np.random.seed(123456)\n",
    "\n",
    "# Sample sub data from original dataset\n",
    "data_b = match_obj.data.sample(n=n).copy()\n",
    "data_b.reset_index(inplace=True, drop=True)\n",
    "\n",
    "lb_index = np.round(b * 0.025)\n",
    "ub_index = np.round(b * (1 - 0.025))\n",
    "\n",
    "# Create random treatment variable based on binomial(0.5) distribution\n",
    "rand_discrete = np.random.binomial(1, 0.5, [n, b])\n",
    "ate_list = []\n",
    "\n",
    "pseudo_t_list = []\n",
    "\n",
    "\n",
    "# match_obj = matching(data = df, T = t_i_name, X = X, y = ['y'], id = id)\n",
    "    \n",
    "    \n",
    "for i in range(b):\n",
    "    print(i)\n",
    "    t_i_name = 't_{}'.format(i)\n",
    "    pseudo_t_list.append(t_i_name)\n",
    "    data_b[t_i_name] = rand_discrete[:, i]\n",
    "\n",
    "#     match_obj_i = matching(data = data_b   # This parm change with loop\n",
    "#                            , T = t_i_name  # This parm change with loop\n",
    "#                            , X = match_obj.X\n",
    "#                            , y = match_obj.y\n",
    "#                            , id = match_obj.id\n",
    "#                            , method = match_obj.method)\n",
    "\n",
    "    match_obj_i = copy.deepcopy(match_obj)\n",
    "    match_obj_i.data = data_b\n",
    "    match_obj_i.T = t_i_name\n",
    "    match_obj_i.preprocess()\n",
    "    \n",
    "    match_obj_i.psm(n_neighbors     = 1,\n",
    "                    model           = match_obj.model,\n",
    "                    caliper         = match_obj.caliper,\n",
    "                    trim_percentage = match_obj.trim_percentage,\n",
    "                    drop_duplicates = match_obj.drop_duplicates,\n",
    "                    model_list      = match_obj.model_list,\n",
    "                    test_size       = match_obj.test_size,\n",
    "                    verbose         = None)\n",
    "    \n",
    "    ate_i = match_obj_i.ate().iloc[0]['ate']\n",
    "    ate_list.append(ate_i)\n",
    "    "
   ]
  },
  {
   "cell_type": "code",
   "execution_count": 1,
   "id": "c10e279e",
   "metadata": {
    "scrolled": true
   },
   "outputs": [
    {
     "ename": "NameError",
     "evalue": "name 'ate_list' is not defined",
     "output_type": "error",
     "traceback": [
      "\u001b[0;31m---------------------------------------------------------------------------\u001b[0m",
      "\u001b[0;31mNameError\u001b[0m                                 Traceback (most recent call last)",
      "Cell \u001b[0;32mIn[1], line 1\u001b[0m\n\u001b[0;32m----> 1\u001b[0m \u001b[43mate_list\u001b[49m\n",
      "\u001b[0;31mNameError\u001b[0m: name 'ate_list' is not defined"
     ]
    }
   ],
   "source": [
    "ate_list"
   ]
  },
  {
   "cell_type": "code",
   "execution_count": null,
   "id": "ffdf10a4",
   "metadata": {},
   "outputs": [],
   "source": []
  },
  {
   "cell_type": "code",
   "execution_count": null,
   "id": "4a28c1b8",
   "metadata": {},
   "outputs": [],
   "source": []
  },
  {
   "cell_type": "code",
   "execution_count": null,
   "id": "bef31cb9",
   "metadata": {},
   "outputs": [],
   "source": []
  },
  {
   "cell_type": "code",
   "execution_count": null,
   "id": "2d23df6d",
   "metadata": {},
   "outputs": [],
   "source": []
  },
  {
   "cell_type": "code",
   "execution_count": null,
   "id": "b9647c81",
   "metadata": {},
   "outputs": [],
   "source": []
  },
  {
   "cell_type": "code",
   "execution_count": null,
   "id": "4507f87a",
   "metadata": {},
   "outputs": [],
   "source": []
  },
  {
   "cell_type": "code",
   "execution_count": null,
   "id": "277e1d09",
   "metadata": {},
   "outputs": [],
   "source": []
  },
  {
   "cell_type": "code",
   "execution_count": null,
   "id": "18b40785",
   "metadata": {},
   "outputs": [],
   "source": []
  },
  {
   "cell_type": "code",
   "execution_count": 1,
   "id": "828051ee",
   "metadata": {},
   "outputs": [
    {
     "name": "stdout",
     "output_type": "stream",
     "text": [
      "['/Library/Frameworks/Python.framework/Versions/3.12/lib/python312.zip', '/Library/Frameworks/Python.framework/Versions/3.12/lib/python3.12', '/Library/Frameworks/Python.framework/Versions/3.12/lib/python3.12/lib-dynload', '', '/Users/bytedance/Library/Python/3.12/lib/python/site-packages', '/Library/Frameworks/Python.framework/Versions/3.12/lib/python3.12/site-packages']\n",
      "current version is:  0.0.2\n",
      "/usr/local/bin/python3.12\n",
      "3.12.2 (v3.12.2:6abddd9f6a, Feb  6 2024, 17:02:06) [Clang 13.0.0 (clang-1300.0.29.30)]\n",
      "sys.version_info(major=3, minor=12, micro=2, releaselevel='final', serial=0)\n"
     ]
    },
    {
     "data": {
      "text/html": [
       "<div>\n",
       "<style scoped>\n",
       "    .dataframe tbody tr th:only-of-type {\n",
       "        vertical-align: middle;\n",
       "    }\n",
       "\n",
       "    .dataframe tbody tr th {\n",
       "        vertical-align: top;\n",
       "    }\n",
       "\n",
       "    .dataframe thead th {\n",
       "        text-align: right;\n",
       "    }\n",
       "</style>\n",
       "<table border=\"1\" class=\"dataframe\">\n",
       "  <thead>\n",
       "    <tr style=\"text-align: right;\">\n",
       "      <th></th>\n",
       "      <th>device_id</th>\n",
       "      <th>version_id</th>\n",
       "      <th>if_stable_show</th>\n",
       "      <th>user_id</th>\n",
       "      <th>min_date</th>\n",
       "      <th>recommend_age_range</th>\n",
       "      <th>recommend_gender</th>\n",
       "      <th>manual_search_activeness</th>\n",
       "      <th>if_xhs_user</th>\n",
       "      <th>is_shuangchi_xhs</th>\n",
       "      <th>...</th>\n",
       "      <th>after_search_dcol_enter_cnt</th>\n",
       "      <th>after_search_dcol_show_cnt</th>\n",
       "      <th>after_search_dcol_click_cnt</th>\n",
       "      <th>after_search_dcol_vv_1d</th>\n",
       "      <th>after_search_dcol_play_duration</th>\n",
       "      <th>after_enter_homepage_mediumvideo_cnt</th>\n",
       "      <th>after_mediumvideo_client_show_cnt</th>\n",
       "      <th>after_mediumvideo_client_click_cnt</th>\n",
       "      <th>after_mediumvideo_vv</th>\n",
       "      <th>after_mediumvideo_play_duration</th>\n",
       "    </tr>\n",
       "  </thead>\n",
       "  <tbody>\n",
       "    <tr>\n",
       "      <th>0</th>\n",
       "      <td>68203691699</td>\n",
       "      <td>9965363</td>\n",
       "      <td>0</td>\n",
       "      <td>1.003663e+11</td>\n",
       "      <td>20240826.0</td>\n",
       "      <td>41-50</td>\n",
       "      <td>男</td>\n",
       "      <td>5手搜新用户</td>\n",
       "      <td>1.0</td>\n",
       "      <td>0.0</td>\n",
       "      <td>...</td>\n",
       "      <td>5.0</td>\n",
       "      <td>61.0</td>\n",
       "      <td>5.0</td>\n",
       "      <td>5.0</td>\n",
       "      <td>31.171</td>\n",
       "      <td>0.0</td>\n",
       "      <td>0.0</td>\n",
       "      <td>0.0</td>\n",
       "      <td>0.0</td>\n",
       "      <td>0.0</td>\n",
       "    </tr>\n",
       "    <tr>\n",
       "      <th>1</th>\n",
       "      <td>70948228012</td>\n",
       "      <td>9965363</td>\n",
       "      <td>0</td>\n",
       "      <td>3.861097e+15</td>\n",
       "      <td>20241006.0</td>\n",
       "      <td>41-50</td>\n",
       "      <td>男</td>\n",
       "      <td>5手搜新用户</td>\n",
       "      <td>0.0</td>\n",
       "      <td>0.0</td>\n",
       "      <td>...</td>\n",
       "      <td>0.0</td>\n",
       "      <td>0.0</td>\n",
       "      <td>0.0</td>\n",
       "      <td>0.0</td>\n",
       "      <td>0.000</td>\n",
       "      <td>0.0</td>\n",
       "      <td>0.0</td>\n",
       "      <td>0.0</td>\n",
       "      <td>0.0</td>\n",
       "      <td>0.0</td>\n",
       "    </tr>\n",
       "    <tr>\n",
       "      <th>2</th>\n",
       "      <td>4191768220541288</td>\n",
       "      <td>9965363</td>\n",
       "      <td>0</td>\n",
       "      <td>5.273608e+14</td>\n",
       "      <td>20240928.0</td>\n",
       "      <td>50+</td>\n",
       "      <td>男</td>\n",
       "      <td>5手搜新用户</td>\n",
       "      <td>1.0</td>\n",
       "      <td>0.0</td>\n",
       "      <td>...</td>\n",
       "      <td>0.0</td>\n",
       "      <td>0.0</td>\n",
       "      <td>0.0</td>\n",
       "      <td>0.0</td>\n",
       "      <td>0.000</td>\n",
       "      <td>0.0</td>\n",
       "      <td>0.0</td>\n",
       "      <td>0.0</td>\n",
       "      <td>0.0</td>\n",
       "      <td>0.0</td>\n",
       "    </tr>\n",
       "    <tr>\n",
       "      <th>3</th>\n",
       "      <td>257699537496412</td>\n",
       "      <td>9965363</td>\n",
       "      <td>0</td>\n",
       "      <td>3.760758e+15</td>\n",
       "      <td>20240920.0</td>\n",
       "      <td>41-50</td>\n",
       "      <td>男</td>\n",
       "      <td>5手搜新用户</td>\n",
       "      <td>0.0</td>\n",
       "      <td>0.0</td>\n",
       "      <td>...</td>\n",
       "      <td>0.0</td>\n",
       "      <td>0.0</td>\n",
       "      <td>0.0</td>\n",
       "      <td>0.0</td>\n",
       "      <td>0.000</td>\n",
       "      <td>0.0</td>\n",
       "      <td>0.0</td>\n",
       "      <td>0.0</td>\n",
       "      <td>0.0</td>\n",
       "      <td>0.0</td>\n",
       "    </tr>\n",
       "    <tr>\n",
       "      <th>4</th>\n",
       "      <td>541377775799469</td>\n",
       "      <td>9965363</td>\n",
       "      <td>0</td>\n",
       "      <td>7.300281e+10</td>\n",
       "      <td>20240827.0</td>\n",
       "      <td>18-23</td>\n",
       "      <td>男</td>\n",
       "      <td>2手搜中高活</td>\n",
       "      <td>0.0</td>\n",
       "      <td>0.0</td>\n",
       "      <td>...</td>\n",
       "      <td>1.0</td>\n",
       "      <td>5.0</td>\n",
       "      <td>0.0</td>\n",
       "      <td>0.0</td>\n",
       "      <td>0.000</td>\n",
       "      <td>0.0</td>\n",
       "      <td>0.0</td>\n",
       "      <td>0.0</td>\n",
       "      <td>0.0</td>\n",
       "      <td>0.0</td>\n",
       "    </tr>\n",
       "  </tbody>\n",
       "</table>\n",
       "<p>5 rows × 128 columns</p>\n",
       "</div>"
      ],
      "text/plain": [
       "          device_id  version_id  if_stable_show       user_id    min_date  \\\n",
       "0       68203691699     9965363               0  1.003663e+11  20240826.0   \n",
       "1       70948228012     9965363               0  3.861097e+15  20241006.0   \n",
       "2  4191768220541288     9965363               0  5.273608e+14  20240928.0   \n",
       "3   257699537496412     9965363               0  3.760758e+15  20240920.0   \n",
       "4   541377775799469     9965363               0  7.300281e+10  20240827.0   \n",
       "\n",
       "  recommend_age_range recommend_gender manual_search_activeness  if_xhs_user  \\\n",
       "0               41-50                男                   5手搜新用户          1.0   \n",
       "1               41-50                男                   5手搜新用户          0.0   \n",
       "2                 50+                男                   5手搜新用户          1.0   \n",
       "3               41-50                男                   5手搜新用户          0.0   \n",
       "4               18-23                男                   2手搜中高活          0.0   \n",
       "\n",
       "   is_shuangchi_xhs  ...  after_search_dcol_enter_cnt  \\\n",
       "0               0.0  ...                          5.0   \n",
       "1               0.0  ...                          0.0   \n",
       "2               0.0  ...                          0.0   \n",
       "3               0.0  ...                          0.0   \n",
       "4               0.0  ...                          1.0   \n",
       "\n",
       "  after_search_dcol_show_cnt  after_search_dcol_click_cnt  \\\n",
       "0                       61.0                          5.0   \n",
       "1                        0.0                          0.0   \n",
       "2                        0.0                          0.0   \n",
       "3                        0.0                          0.0   \n",
       "4                        5.0                          0.0   \n",
       "\n",
       "   after_search_dcol_vv_1d  after_search_dcol_play_duration  \\\n",
       "0                      5.0                           31.171   \n",
       "1                      0.0                            0.000   \n",
       "2                      0.0                            0.000   \n",
       "3                      0.0                            0.000   \n",
       "4                      0.0                            0.000   \n",
       "\n",
       "   after_enter_homepage_mediumvideo_cnt  after_mediumvideo_client_show_cnt  \\\n",
       "0                                   0.0                                0.0   \n",
       "1                                   0.0                                0.0   \n",
       "2                                   0.0                                0.0   \n",
       "3                                   0.0                                0.0   \n",
       "4                                   0.0                                0.0   \n",
       "\n",
       "   after_mediumvideo_client_click_cnt  after_mediumvideo_vv  \\\n",
       "0                                 0.0                   0.0   \n",
       "1                                 0.0                   0.0   \n",
       "2                                 0.0                   0.0   \n",
       "3                                 0.0                   0.0   \n",
       "4                                 0.0                   0.0   \n",
       "\n",
       "   after_mediumvideo_play_duration  \n",
       "0                              0.0  \n",
       "1                              0.0  \n",
       "2                              0.0  \n",
       "3                              0.0  \n",
       "4                              0.0  \n",
       "\n",
       "[5 rows x 128 columns]"
      ]
     },
     "execution_count": 1,
     "metadata": {},
     "output_type": "execute_result"
    }
   ],
   "source": [
    "import sys\n",
    "print(sys.path)\n",
    "sys.path.append('/Users/bytedance/PycharmProjects/github/CausalMatch')\n",
    "\n",
    "import causalmatch as causalmatch\n",
    "from causalmatch import matching,gen_test_data\n",
    "\n",
    "print('current version is: ',causalmatch.__version__)\n",
    "\n",
    "import sys\n",
    "print(sys.executable)\n",
    "print(sys.version)\n",
    "print(sys.version_info)\n",
    "\n",
    "\n",
    "import pandas as pd\n",
    "import numpy as np\n",
    "import statsmodels.api as sm\n",
    "from sklearn.linear_model import LogisticRegression\n",
    "from sklearn.svm import SVC\n",
    "from sklearn.naive_bayes import GaussianNB\n",
    "from sklearn.naive_bayes import MultinomialNB\n",
    "from sklearn.neighbors import KNeighborsClassifier\n",
    "from sklearn.tree import DecisionTreeClassifier\n",
    "from sklearn.ensemble import RandomForestClassifier\n",
    "from sklearn.ensemble import GradientBoostingClassifier\n",
    "from lightgbm import LGBMClassifier\n",
    "from xgboost import XGBClassifier\n",
    "from sklearn.model_selection import train_test_split\n",
    "from sklearn.metrics import recall_score,roc_auc_score,f1_score\n",
    "import statsmodels.api as sm\n",
    "from scipy.stats import wilcoxon,norm\n",
    "\n",
    "df = pd.read_csv('/Users/bytedance/Downloads/dual_stable_matching_sample_data_df_v2.csv')\n",
    "\n",
    "df.head()"
   ]
  },
  {
   "cell_type": "markdown",
   "id": "31458ac6",
   "metadata": {},
   "source": [
    "## 1. placebo treatment "
   ]
  },
  {
   "cell_type": "code",
   "execution_count": 2,
   "id": "4a2d2a58",
   "metadata": {
    "scrolled": true
   },
   "outputs": [
    {
     "name": "stderr",
     "output_type": "stream",
     "text": [
      "Processed Samples: 100%|████████████| 4919/4919 [00:00<00:00, 295647.80sample/s]"
     ]
    },
    {
     "name": "stdout",
     "output_type": "stream",
     "text": [
      "******************************\n"
     ]
    },
    {
     "name": "stderr",
     "output_type": "stream",
     "text": [
      "\n",
      "Processed Samples: 100%|████████████| 4972/4972 [00:00<00:00, 475198.35sample/s]\n"
     ]
    },
    {
     "name": "stdout",
     "output_type": "stream",
     "text": [
      "******************************\n"
     ]
    },
    {
     "name": "stderr",
     "output_type": "stream",
     "text": [
      "Processed Samples: 100%|████████████| 5044/5044 [00:00<00:00, 362044.48sample/s]\n"
     ]
    },
    {
     "name": "stdout",
     "output_type": "stream",
     "text": [
      "******************************\n"
     ]
    },
    {
     "name": "stderr",
     "output_type": "stream",
     "text": [
      "Processed Samples: 100%|████████████| 4988/4988 [00:00<00:00, 419859.69sample/s]\n"
     ]
    },
    {
     "name": "stdout",
     "output_type": "stream",
     "text": [
      "******************************\n"
     ]
    },
    {
     "name": "stderr",
     "output_type": "stream",
     "text": [
      "Processed Samples: 100%|████████████| 4991/4991 [00:00<00:00, 630649.25sample/s]\n"
     ]
    },
    {
     "name": "stdout",
     "output_type": "stream",
     "text": [
      "******************************\n"
     ]
    },
    {
     "name": "stderr",
     "output_type": "stream",
     "text": [
      "Processed Samples: 100%|████████████| 5081/5081 [00:00<00:00, 683666.71sample/s]\n"
     ]
    },
    {
     "name": "stdout",
     "output_type": "stream",
     "text": [
      "******************************\n"
     ]
    },
    {
     "name": "stderr",
     "output_type": "stream",
     "text": [
      "Processed Samples: 100%|████████████| 5024/5024 [00:00<00:00, 471076.26sample/s]\n"
     ]
    },
    {
     "name": "stdout",
     "output_type": "stream",
     "text": [
      "******************************\n"
     ]
    },
    {
     "name": "stderr",
     "output_type": "stream",
     "text": [
      "Processed Samples: 100%|████████████| 5017/5017 [00:00<00:00, 516794.12sample/s]\n"
     ]
    },
    {
     "name": "stdout",
     "output_type": "stream",
     "text": [
      "******************************\n"
     ]
    },
    {
     "name": "stderr",
     "output_type": "stream",
     "text": [
      "Processed Samples: 100%|████████████| 5026/5026 [00:00<00:00, 255441.58sample/s]\n"
     ]
    },
    {
     "name": "stdout",
     "output_type": "stream",
     "text": [
      "******************************\n"
     ]
    },
    {
     "name": "stderr",
     "output_type": "stream",
     "text": [
      "Processed Samples: 100%|████████████| 5043/5043 [00:00<00:00, 488383.17sample/s]\n"
     ]
    },
    {
     "name": "stdout",
     "output_type": "stream",
     "text": [
      "******************************\n"
     ]
    },
    {
     "name": "stderr",
     "output_type": "stream",
     "text": [
      "Processed Samples: 100%|████████████| 5025/5025 [00:00<00:00, 358624.77sample/s]\n"
     ]
    },
    {
     "name": "stdout",
     "output_type": "stream",
     "text": [
      "******************************\n"
     ]
    },
    {
     "name": "stderr",
     "output_type": "stream",
     "text": [
      "Processed Samples: 100%|████████████| 5032/5032 [00:00<00:00, 581345.21sample/s]\n"
     ]
    },
    {
     "name": "stdout",
     "output_type": "stream",
     "text": [
      "******************************\n"
     ]
    },
    {
     "name": "stderr",
     "output_type": "stream",
     "text": [
      "Processed Samples: 100%|████████████| 5028/5028 [00:00<00:00, 944380.48sample/s]\n"
     ]
    },
    {
     "name": "stdout",
     "output_type": "stream",
     "text": [
      "******************************\n"
     ]
    },
    {
     "name": "stderr",
     "output_type": "stream",
     "text": [
      "Processed Samples: 100%|████████████| 4963/4963 [00:00<00:00, 388763.30sample/s]\n"
     ]
    },
    {
     "name": "stdout",
     "output_type": "stream",
     "text": [
      "******************************\n"
     ]
    },
    {
     "name": "stderr",
     "output_type": "stream",
     "text": [
      "Processed Samples: 100%|████████████| 4982/4982 [00:00<00:00, 740941.16sample/s]\n"
     ]
    },
    {
     "name": "stdout",
     "output_type": "stream",
     "text": [
      "******************************\n"
     ]
    },
    {
     "name": "stderr",
     "output_type": "stream",
     "text": [
      "Processed Samples: 100%|████████████| 5020/5020 [00:00<00:00, 401859.07sample/s]\n"
     ]
    },
    {
     "name": "stdout",
     "output_type": "stream",
     "text": [
      "******************************\n"
     ]
    },
    {
     "name": "stderr",
     "output_type": "stream",
     "text": [
      "Processed Samples: 100%|████████████| 4927/4927 [00:00<00:00, 393632.94sample/s]\n"
     ]
    },
    {
     "name": "stdout",
     "output_type": "stream",
     "text": [
      "******************************\n"
     ]
    },
    {
     "name": "stderr",
     "output_type": "stream",
     "text": [
      "Processed Samples: 100%|████████████| 4930/4930 [00:00<00:00, 503835.65sample/s]\n"
     ]
    },
    {
     "name": "stdout",
     "output_type": "stream",
     "text": [
      "******************************\n"
     ]
    },
    {
     "name": "stderr",
     "output_type": "stream",
     "text": [
      "Processed Samples: 100%|████████████| 4951/4951 [00:00<00:00, 414863.63sample/s]\n"
     ]
    },
    {
     "name": "stdout",
     "output_type": "stream",
     "text": [
      "******************************\n"
     ]
    },
    {
     "name": "stderr",
     "output_type": "stream",
     "text": [
      "Processed Samples: 100%|████████████| 4934/4934 [00:00<00:00, 707390.05sample/s]\n"
     ]
    },
    {
     "name": "stdout",
     "output_type": "stream",
     "text": [
      "******************************\n"
     ]
    },
    {
     "name": "stderr",
     "output_type": "stream",
     "text": [
      "Processed Samples: 100%|████████████| 4903/4903 [00:00<00:00, 634281.43sample/s]\n"
     ]
    },
    {
     "name": "stdout",
     "output_type": "stream",
     "text": [
      "******************************\n"
     ]
    },
    {
     "name": "stderr",
     "output_type": "stream",
     "text": [
      "Processed Samples: 100%|████████████| 5017/5017 [00:00<00:00, 570312.58sample/s]\n"
     ]
    },
    {
     "name": "stdout",
     "output_type": "stream",
     "text": [
      "******************************\n"
     ]
    },
    {
     "name": "stderr",
     "output_type": "stream",
     "text": [
      "Processed Samples: 100%|████████████| 5027/5027 [00:00<00:00, 347120.05sample/s]\n"
     ]
    },
    {
     "name": "stdout",
     "output_type": "stream",
     "text": [
      "******************************\n"
     ]
    },
    {
     "name": "stderr",
     "output_type": "stream",
     "text": [
      "Processed Samples: 100%|████████████| 4969/4969 [00:00<00:00, 261417.33sample/s]\n"
     ]
    },
    {
     "name": "stdout",
     "output_type": "stream",
     "text": [
      "******************************\n"
     ]
    },
    {
     "name": "stderr",
     "output_type": "stream",
     "text": [
      "Processed Samples: 100%|████████████| 5155/5155 [00:00<00:00, 294015.93sample/s]\n"
     ]
    },
    {
     "name": "stdout",
     "output_type": "stream",
     "text": [
      "******************************\n"
     ]
    },
    {
     "name": "stderr",
     "output_type": "stream",
     "text": [
      "Processed Samples: 100%|████████████| 5025/5025 [00:00<00:00, 561647.33sample/s]\n"
     ]
    },
    {
     "name": "stdout",
     "output_type": "stream",
     "text": [
      "******************************\n"
     ]
    },
    {
     "name": "stderr",
     "output_type": "stream",
     "text": [
      "Processed Samples: 100%|████████████| 5112/5112 [00:00<00:00, 513871.35sample/s]\n"
     ]
    },
    {
     "name": "stdout",
     "output_type": "stream",
     "text": [
      "******************************\n"
     ]
    },
    {
     "name": "stderr",
     "output_type": "stream",
     "text": [
      "Processed Samples: 100%|████████████| 4994/4994 [00:00<00:00, 464041.17sample/s]\n"
     ]
    },
    {
     "name": "stdout",
     "output_type": "stream",
     "text": [
      "******************************\n"
     ]
    },
    {
     "name": "stderr",
     "output_type": "stream",
     "text": [
      "Processed Samples: 100%|████████████| 5083/5083 [00:00<00:00, 404079.67sample/s]\n"
     ]
    },
    {
     "name": "stdout",
     "output_type": "stream",
     "text": [
      "******************************\n"
     ]
    },
    {
     "name": "stderr",
     "output_type": "stream",
     "text": [
      "Processed Samples: 100%|████████████| 4986/4986 [00:00<00:00, 400743.50sample/s]\n"
     ]
    },
    {
     "name": "stdout",
     "output_type": "stream",
     "text": [
      "******************************\n"
     ]
    },
    {
     "name": "stderr",
     "output_type": "stream",
     "text": [
      "Processed Samples: 100%|████████████| 4948/4948 [00:00<00:00, 309849.60sample/s]\n"
     ]
    },
    {
     "name": "stdout",
     "output_type": "stream",
     "text": [
      "******************************\n"
     ]
    },
    {
     "name": "stderr",
     "output_type": "stream",
     "text": [
      "Processed Samples: 100%|████████████| 4955/4955 [00:00<00:00, 319425.42sample/s]\n"
     ]
    },
    {
     "name": "stdout",
     "output_type": "stream",
     "text": [
      "******************************\n"
     ]
    },
    {
     "name": "stderr",
     "output_type": "stream",
     "text": [
      "Processed Samples: 100%|████████████| 4952/4952 [00:00<00:00, 442333.11sample/s]\n"
     ]
    },
    {
     "name": "stdout",
     "output_type": "stream",
     "text": [
      "******************************\n"
     ]
    },
    {
     "name": "stderr",
     "output_type": "stream",
     "text": [
      "Processed Samples: 100%|████████████| 5047/5047 [00:00<00:00, 451068.66sample/s]\n"
     ]
    },
    {
     "name": "stdout",
     "output_type": "stream",
     "text": [
      "******************************\n"
     ]
    },
    {
     "name": "stderr",
     "output_type": "stream",
     "text": [
      "Processed Samples: 100%|████████████| 4985/4985 [00:00<00:00, 460755.09sample/s]\n"
     ]
    },
    {
     "name": "stdout",
     "output_type": "stream",
     "text": [
      "******************************\n"
     ]
    },
    {
     "name": "stderr",
     "output_type": "stream",
     "text": [
      "Processed Samples: 100%|████████████| 4947/4947 [00:00<00:00, 275400.47sample/s]\n"
     ]
    },
    {
     "name": "stdout",
     "output_type": "stream",
     "text": [
      "******************************\n"
     ]
    },
    {
     "name": "stderr",
     "output_type": "stream",
     "text": [
      "Processed Samples: 100%|████████████| 4955/4955 [00:00<00:00, 302633.88sample/s]\n"
     ]
    },
    {
     "name": "stdout",
     "output_type": "stream",
     "text": [
      "******************************\n"
     ]
    },
    {
     "name": "stderr",
     "output_type": "stream",
     "text": [
      "Processed Samples: 100%|████████████| 5017/5017 [00:00<00:00, 405418.14sample/s]\n"
     ]
    },
    {
     "name": "stdout",
     "output_type": "stream",
     "text": [
      "******************************\n"
     ]
    },
    {
     "name": "stderr",
     "output_type": "stream",
     "text": [
      "Processed Samples: 100%|████████████| 5024/5024 [00:00<00:00, 327956.41sample/s]\n"
     ]
    },
    {
     "name": "stdout",
     "output_type": "stream",
     "text": [
      "******************************\n"
     ]
    },
    {
     "name": "stderr",
     "output_type": "stream",
     "text": [
      "Processed Samples: 100%|████████████| 5040/5040 [00:00<00:00, 397826.23sample/s]\n"
     ]
    },
    {
     "name": "stdout",
     "output_type": "stream",
     "text": [
      "******************************\n"
     ]
    },
    {
     "name": "stderr",
     "output_type": "stream",
     "text": [
      "Processed Samples: 100%|████████████| 5044/5044 [00:00<00:00, 510892.76sample/s]\n"
     ]
    },
    {
     "name": "stdout",
     "output_type": "stream",
     "text": [
      "******************************\n"
     ]
    },
    {
     "name": "stderr",
     "output_type": "stream",
     "text": [
      "Processed Samples: 100%|████████████| 5016/5016 [00:00<00:00, 382583.13sample/s]\n"
     ]
    },
    {
     "name": "stdout",
     "output_type": "stream",
     "text": [
      "******************************\n"
     ]
    },
    {
     "name": "stderr",
     "output_type": "stream",
     "text": [
      "Processed Samples: 100%|███████████| 5025/5025 [00:00<00:00, 1194196.70sample/s]\n"
     ]
    },
    {
     "name": "stdout",
     "output_type": "stream",
     "text": [
      "******************************\n"
     ]
    },
    {
     "name": "stderr",
     "output_type": "stream",
     "text": [
      "Processed Samples: 100%|████████████| 5036/5036 [00:00<00:00, 196594.58sample/s]\n"
     ]
    },
    {
     "name": "stdout",
     "output_type": "stream",
     "text": [
      "******************************\n"
     ]
    },
    {
     "name": "stderr",
     "output_type": "stream",
     "text": [
      "Processed Samples: 100%|████████████| 4999/4999 [00:00<00:00, 203089.11sample/s]\n"
     ]
    },
    {
     "name": "stdout",
     "output_type": "stream",
     "text": [
      "******************************\n"
     ]
    },
    {
     "name": "stderr",
     "output_type": "stream",
     "text": [
      "Processed Samples: 100%|████████████| 4980/4980 [00:00<00:00, 357377.35sample/s]\n"
     ]
    },
    {
     "name": "stdout",
     "output_type": "stream",
     "text": [
      "******************************\n"
     ]
    },
    {
     "name": "stderr",
     "output_type": "stream",
     "text": [
      "Processed Samples: 100%|████████████| 5159/5159 [00:00<00:00, 640246.60sample/s]\n"
     ]
    },
    {
     "name": "stdout",
     "output_type": "stream",
     "text": [
      "******************************\n"
     ]
    },
    {
     "name": "stderr",
     "output_type": "stream",
     "text": [
      "Processed Samples: 100%|████████████| 5082/5082 [00:00<00:00, 381218.53sample/s]\n"
     ]
    },
    {
     "name": "stdout",
     "output_type": "stream",
     "text": [
      "******************************\n"
     ]
    },
    {
     "name": "stderr",
     "output_type": "stream",
     "text": [
      "Processed Samples: 100%|████████████| 4976/4976 [00:00<00:00, 284193.10sample/s]\n"
     ]
    },
    {
     "name": "stdout",
     "output_type": "stream",
     "text": [
      "******************************\n"
     ]
    },
    {
     "name": "stderr",
     "output_type": "stream",
     "text": [
      "Processed Samples: 100%|████████████| 5033/5033 [00:00<00:00, 449942.07sample/s]\n"
     ]
    },
    {
     "name": "stdout",
     "output_type": "stream",
     "text": [
      "******************************\n"
     ]
    },
    {
     "name": "stderr",
     "output_type": "stream",
     "text": [
      "Processed Samples: 100%|████████████| 5019/5019 [00:00<00:00, 441380.71sample/s]\n"
     ]
    },
    {
     "name": "stdout",
     "output_type": "stream",
     "text": [
      "******************************\n"
     ]
    },
    {
     "name": "stderr",
     "output_type": "stream",
     "text": [
      "Processed Samples: 100%|████████████| 5002/5002 [00:00<00:00, 429687.23sample/s]\n"
     ]
    },
    {
     "name": "stdout",
     "output_type": "stream",
     "text": [
      "******************************\n"
     ]
    },
    {
     "name": "stderr",
     "output_type": "stream",
     "text": [
      "Processed Samples: 100%|████████████| 5018/5018 [00:00<00:00, 419748.26sample/s]\n"
     ]
    },
    {
     "name": "stdout",
     "output_type": "stream",
     "text": [
      "******************************\n"
     ]
    },
    {
     "name": "stderr",
     "output_type": "stream",
     "text": [
      "Processed Samples: 100%|████████████| 5070/5070 [00:00<00:00, 348528.56sample/s]\n"
     ]
    },
    {
     "name": "stdout",
     "output_type": "stream",
     "text": [
      "******************************\n"
     ]
    },
    {
     "name": "stderr",
     "output_type": "stream",
     "text": [
      "Processed Samples: 100%|████████████| 5058/5058 [00:00<00:00, 674320.26sample/s]\n"
     ]
    },
    {
     "name": "stdout",
     "output_type": "stream",
     "text": [
      "******************************\n"
     ]
    },
    {
     "name": "stderr",
     "output_type": "stream",
     "text": [
      "Processed Samples: 100%|████████████| 4969/4969 [00:00<00:00, 710683.24sample/s]\n"
     ]
    },
    {
     "name": "stdout",
     "output_type": "stream",
     "text": [
      "******************************\n"
     ]
    },
    {
     "name": "stderr",
     "output_type": "stream",
     "text": [
      "Processed Samples: 100%|████████████| 4985/4985 [00:00<00:00, 514926.87sample/s]\n"
     ]
    },
    {
     "name": "stdout",
     "output_type": "stream",
     "text": [
      "******************************\n"
     ]
    },
    {
     "name": "stderr",
     "output_type": "stream",
     "text": [
      "Processed Samples: 100%|████████████| 5065/5065 [00:00<00:00, 514274.12sample/s]\n"
     ]
    },
    {
     "name": "stdout",
     "output_type": "stream",
     "text": [
      "******************************\n"
     ]
    },
    {
     "name": "stderr",
     "output_type": "stream",
     "text": [
      "Processed Samples: 100%|████████████| 4983/4983 [00:00<00:00, 426152.37sample/s]\n"
     ]
    },
    {
     "name": "stdout",
     "output_type": "stream",
     "text": [
      "******************************\n"
     ]
    },
    {
     "name": "stderr",
     "output_type": "stream",
     "text": [
      "Processed Samples: 100%|████████████| 4917/4917 [00:00<00:00, 488567.06sample/s]\n"
     ]
    },
    {
     "name": "stdout",
     "output_type": "stream",
     "text": [
      "******************************\n"
     ]
    },
    {
     "name": "stderr",
     "output_type": "stream",
     "text": [
      "Processed Samples: 100%|████████████| 4979/4979 [00:00<00:00, 770521.33sample/s]\n"
     ]
    },
    {
     "name": "stdout",
     "output_type": "stream",
     "text": [
      "******************************\n"
     ]
    },
    {
     "name": "stderr",
     "output_type": "stream",
     "text": [
      "Processed Samples: 100%|████████████| 5046/5046 [00:00<00:00, 457857.39sample/s]\n"
     ]
    },
    {
     "name": "stdout",
     "output_type": "stream",
     "text": [
      "******************************\n"
     ]
    },
    {
     "name": "stderr",
     "output_type": "stream",
     "text": [
      "Processed Samples: 100%|████████████| 4933/4933 [00:00<00:00, 327863.81sample/s]\n"
     ]
    },
    {
     "name": "stdout",
     "output_type": "stream",
     "text": [
      "******************************\n"
     ]
    },
    {
     "name": "stderr",
     "output_type": "stream",
     "text": [
      "Processed Samples: 100%|████████████| 4915/4915 [00:00<00:00, 316686.19sample/s]\n"
     ]
    },
    {
     "name": "stdout",
     "output_type": "stream",
     "text": [
      "******************************\n"
     ]
    },
    {
     "name": "stderr",
     "output_type": "stream",
     "text": [
      "Processed Samples: 100%|████████████| 5064/5064 [00:00<00:00, 331087.97sample/s]\n"
     ]
    },
    {
     "name": "stdout",
     "output_type": "stream",
     "text": [
      "******************************\n"
     ]
    },
    {
     "name": "stderr",
     "output_type": "stream",
     "text": [
      "Processed Samples: 100%|████████████| 5006/5006 [00:00<00:00, 340705.95sample/s]\n"
     ]
    },
    {
     "name": "stdout",
     "output_type": "stream",
     "text": [
      "******************************\n"
     ]
    },
    {
     "name": "stderr",
     "output_type": "stream",
     "text": [
      "Processed Samples: 100%|████████████| 5047/5047 [00:00<00:00, 415772.72sample/s]\n"
     ]
    },
    {
     "name": "stdout",
     "output_type": "stream",
     "text": [
      "******************************\n"
     ]
    },
    {
     "name": "stderr",
     "output_type": "stream",
     "text": [
      "Processed Samples: 100%|████████████| 4931/4931 [00:00<00:00, 329259.61sample/s]\n"
     ]
    },
    {
     "name": "stdout",
     "output_type": "stream",
     "text": [
      "******************************\n"
     ]
    },
    {
     "name": "stderr",
     "output_type": "stream",
     "text": [
      "Processed Samples: 100%|████████████| 5018/5018 [00:00<00:00, 436605.76sample/s]\n"
     ]
    },
    {
     "name": "stdout",
     "output_type": "stream",
     "text": [
      "******************************\n"
     ]
    },
    {
     "name": "stderr",
     "output_type": "stream",
     "text": [
      "Processed Samples: 100%|████████████| 4995/4995 [00:00<00:00, 467959.54sample/s]\n"
     ]
    },
    {
     "name": "stdout",
     "output_type": "stream",
     "text": [
      "******************************\n"
     ]
    },
    {
     "name": "stderr",
     "output_type": "stream",
     "text": [
      "Processed Samples: 100%|████████████| 4993/4993 [00:00<00:00, 401275.36sample/s]\n"
     ]
    },
    {
     "name": "stdout",
     "output_type": "stream",
     "text": [
      "******************************\n"
     ]
    },
    {
     "name": "stderr",
     "output_type": "stream",
     "text": [
      "Processed Samples: 100%|████████████| 5058/5058 [00:00<00:00, 454696.82sample/s]\n"
     ]
    },
    {
     "name": "stdout",
     "output_type": "stream",
     "text": [
      "******************************\n"
     ]
    },
    {
     "name": "stderr",
     "output_type": "stream",
     "text": [
      "Processed Samples: 100%|████████████| 5080/5080 [00:00<00:00, 550427.91sample/s]\n"
     ]
    },
    {
     "name": "stdout",
     "output_type": "stream",
     "text": [
      "******************************\n"
     ]
    },
    {
     "name": "stderr",
     "output_type": "stream",
     "text": [
      "Processed Samples: 100%|████████████| 5040/5040 [00:00<00:00, 402071.14sample/s]\n"
     ]
    },
    {
     "name": "stdout",
     "output_type": "stream",
     "text": [
      "******************************\n"
     ]
    },
    {
     "name": "stderr",
     "output_type": "stream",
     "text": [
      "Processed Samples: 100%|████████████| 4967/4967 [00:00<00:00, 499044.41sample/s]\n"
     ]
    },
    {
     "name": "stdout",
     "output_type": "stream",
     "text": [
      "******************************\n"
     ]
    },
    {
     "name": "stderr",
     "output_type": "stream",
     "text": [
      "Processed Samples: 100%|████████████| 4939/4939 [00:00<00:00, 405903.04sample/s]\n"
     ]
    },
    {
     "name": "stdout",
     "output_type": "stream",
     "text": [
      "******************************\n"
     ]
    },
    {
     "name": "stderr",
     "output_type": "stream",
     "text": [
      "Processed Samples: 100%|████████████| 4897/4897 [00:00<00:00, 674909.04sample/s]\n"
     ]
    },
    {
     "name": "stdout",
     "output_type": "stream",
     "text": [
      "******************************\n"
     ]
    },
    {
     "name": "stderr",
     "output_type": "stream",
     "text": [
      "Processed Samples: 100%|████████████| 4976/4976 [00:00<00:00, 455705.51sample/s]\n"
     ]
    },
    {
     "name": "stdout",
     "output_type": "stream",
     "text": [
      "******************************\n"
     ]
    },
    {
     "name": "stderr",
     "output_type": "stream",
     "text": [
      "Processed Samples: 100%|████████████| 5051/5051 [00:00<00:00, 347866.69sample/s]\n"
     ]
    },
    {
     "name": "stdout",
     "output_type": "stream",
     "text": [
      "******************************\n"
     ]
    },
    {
     "name": "stderr",
     "output_type": "stream",
     "text": [
      "Processed Samples: 100%|████████████| 4916/4916 [00:00<00:00, 545265.07sample/s]\n"
     ]
    },
    {
     "name": "stdout",
     "output_type": "stream",
     "text": [
      "******************************\n"
     ]
    },
    {
     "name": "stderr",
     "output_type": "stream",
     "text": [
      "Processed Samples: 100%|████████████| 5054/5054 [00:00<00:00, 353400.34sample/s]\n"
     ]
    },
    {
     "name": "stdout",
     "output_type": "stream",
     "text": [
      "******************************\n"
     ]
    },
    {
     "name": "stderr",
     "output_type": "stream",
     "text": [
      "Processed Samples: 100%|████████████| 5054/5054 [00:00<00:00, 447895.80sample/s]\n"
     ]
    },
    {
     "name": "stdout",
     "output_type": "stream",
     "text": [
      "******************************\n"
     ]
    },
    {
     "name": "stderr",
     "output_type": "stream",
     "text": [
      "Processed Samples: 100%|████████████| 4902/4902 [00:00<00:00, 285732.84sample/s]"
     ]
    },
    {
     "name": "stdout",
     "output_type": "stream",
     "text": [
      "******************************\n"
     ]
    },
    {
     "name": "stderr",
     "output_type": "stream",
     "text": [
      "\n",
      "Processed Samples: 100%|████████████| 5004/5004 [00:00<00:00, 320133.88sample/s]\n"
     ]
    },
    {
     "name": "stdout",
     "output_type": "stream",
     "text": [
      "******************************\n"
     ]
    },
    {
     "name": "stderr",
     "output_type": "stream",
     "text": [
      "Processed Samples: 100%|████████████| 5067/5067 [00:00<00:00, 434701.13sample/s]\n"
     ]
    },
    {
     "name": "stdout",
     "output_type": "stream",
     "text": [
      "******************************\n"
     ]
    },
    {
     "name": "stderr",
     "output_type": "stream",
     "text": [
      "Processed Samples: 100%|████████████| 5098/5098 [00:00<00:00, 308893.89sample/s]\n"
     ]
    },
    {
     "name": "stdout",
     "output_type": "stream",
     "text": [
      "******************************\n"
     ]
    },
    {
     "name": "stderr",
     "output_type": "stream",
     "text": [
      "Processed Samples: 100%|████████████| 5049/5049 [00:00<00:00, 287302.14sample/s]\n"
     ]
    },
    {
     "name": "stdout",
     "output_type": "stream",
     "text": [
      "******************************\n"
     ]
    },
    {
     "name": "stderr",
     "output_type": "stream",
     "text": [
      "Processed Samples: 100%|████████████| 4939/4939 [00:00<00:00, 424457.89sample/s]\n"
     ]
    },
    {
     "name": "stdout",
     "output_type": "stream",
     "text": [
      "******************************\n"
     ]
    },
    {
     "name": "stderr",
     "output_type": "stream",
     "text": [
      "Processed Samples: 100%|████████████| 4844/4844 [00:00<00:00, 388727.06sample/s]\n"
     ]
    },
    {
     "name": "stdout",
     "output_type": "stream",
     "text": [
      "******************************\n"
     ]
    },
    {
     "name": "stderr",
     "output_type": "stream",
     "text": [
      "Processed Samples: 100%|████████████| 4994/4994 [00:00<00:00, 411705.76sample/s]\n"
     ]
    },
    {
     "name": "stdout",
     "output_type": "stream",
     "text": [
      "******************************\n"
     ]
    },
    {
     "name": "stderr",
     "output_type": "stream",
     "text": [
      "Processed Samples: 100%|████████████| 5016/5016 [00:00<00:00, 496194.08sample/s]\n"
     ]
    },
    {
     "name": "stdout",
     "output_type": "stream",
     "text": [
      "******************************\n"
     ]
    },
    {
     "name": "stderr",
     "output_type": "stream",
     "text": [
      "Processed Samples: 100%|████████████| 5014/5014 [00:00<00:00, 342233.36sample/s]\n"
     ]
    },
    {
     "name": "stdout",
     "output_type": "stream",
     "text": [
      "******************************\n"
     ]
    },
    {
     "name": "stderr",
     "output_type": "stream",
     "text": [
      "/var/folders/6y/pv_cpv891fb7v3w2vj8fsz8m0000gn/T/ipykernel_77091/89093489.py:20: PerformanceWarning: DataFrame is highly fragmented.  This is usually the result of calling `frame.insert` many times, which has poor performance.  Consider joining all columns at once using pd.concat(axis=1) instead. To get a de-fragmented frame, use `newframe = frame.copy()`\n",
      "  df[t_i_name] = rand_discrete[:,i]\n",
      "Processed Samples: 100%|████████████| 4996/4996 [00:00<00:00, 361089.45sample/s]\n"
     ]
    },
    {
     "name": "stdout",
     "output_type": "stream",
     "text": [
      "******************************\n"
     ]
    },
    {
     "name": "stderr",
     "output_type": "stream",
     "text": [
      "/var/folders/6y/pv_cpv891fb7v3w2vj8fsz8m0000gn/T/ipykernel_77091/89093489.py:20: PerformanceWarning: DataFrame is highly fragmented.  This is usually the result of calling `frame.insert` many times, which has poor performance.  Consider joining all columns at once using pd.concat(axis=1) instead. To get a de-fragmented frame, use `newframe = frame.copy()`\n",
      "  df[t_i_name] = rand_discrete[:,i]\n",
      "Processed Samples: 100%|████████████| 5009/5009 [00:00<00:00, 382278.63sample/s]\n",
      "/var/folders/6y/pv_cpv891fb7v3w2vj8fsz8m0000gn/T/ipykernel_77091/89093489.py:20: PerformanceWarning: DataFrame is highly fragmented.  This is usually the result of calling `frame.insert` many times, which has poor performance.  Consider joining all columns at once using pd.concat(axis=1) instead. To get a de-fragmented frame, use `newframe = frame.copy()`\n",
      "  df[t_i_name] = rand_discrete[:,i]\n"
     ]
    },
    {
     "name": "stdout",
     "output_type": "stream",
     "text": [
      "******************************\n"
     ]
    },
    {
     "name": "stderr",
     "output_type": "stream",
     "text": [
      "Processed Samples: 100%|████████████| 5001/5001 [00:00<00:00, 270061.98sample/s]\n",
      "/var/folders/6y/pv_cpv891fb7v3w2vj8fsz8m0000gn/T/ipykernel_77091/89093489.py:20: PerformanceWarning: DataFrame is highly fragmented.  This is usually the result of calling `frame.insert` many times, which has poor performance.  Consider joining all columns at once using pd.concat(axis=1) instead. To get a de-fragmented frame, use `newframe = frame.copy()`\n",
      "  df[t_i_name] = rand_discrete[:,i]\n"
     ]
    },
    {
     "name": "stdout",
     "output_type": "stream",
     "text": [
      "******************************\n"
     ]
    },
    {
     "name": "stderr",
     "output_type": "stream",
     "text": [
      "Processed Samples: 100%|████████████| 4942/4942 [00:00<00:00, 420417.21sample/s]\n"
     ]
    },
    {
     "name": "stdout",
     "output_type": "stream",
     "text": [
      "******************************\n"
     ]
    },
    {
     "name": "stderr",
     "output_type": "stream",
     "text": [
      "/var/folders/6y/pv_cpv891fb7v3w2vj8fsz8m0000gn/T/ipykernel_77091/89093489.py:20: PerformanceWarning: DataFrame is highly fragmented.  This is usually the result of calling `frame.insert` many times, which has poor performance.  Consider joining all columns at once using pd.concat(axis=1) instead. To get a de-fragmented frame, use `newframe = frame.copy()`\n",
      "  df[t_i_name] = rand_discrete[:,i]\n",
      "Processed Samples: 100%|████████████| 4960/4960 [00:00<00:00, 746965.92sample/s]\n"
     ]
    },
    {
     "name": "stdout",
     "output_type": "stream",
     "text": [
      "******************************\n"
     ]
    },
    {
     "name": "stderr",
     "output_type": "stream",
     "text": [
      "/var/folders/6y/pv_cpv891fb7v3w2vj8fsz8m0000gn/T/ipykernel_77091/89093489.py:20: PerformanceWarning: DataFrame is highly fragmented.  This is usually the result of calling `frame.insert` many times, which has poor performance.  Consider joining all columns at once using pd.concat(axis=1) instead. To get a de-fragmented frame, use `newframe = frame.copy()`\n",
      "  df[t_i_name] = rand_discrete[:,i]\n",
      "Processed Samples: 100%|████████████| 5075/5075 [00:00<00:00, 289835.42sample/s]\n"
     ]
    },
    {
     "name": "stdout",
     "output_type": "stream",
     "text": [
      "******************************\n"
     ]
    },
    {
     "name": "stderr",
     "output_type": "stream",
     "text": [
      "/var/folders/6y/pv_cpv891fb7v3w2vj8fsz8m0000gn/T/ipykernel_77091/89093489.py:20: PerformanceWarning: DataFrame is highly fragmented.  This is usually the result of calling `frame.insert` many times, which has poor performance.  Consider joining all columns at once using pd.concat(axis=1) instead. To get a de-fragmented frame, use `newframe = frame.copy()`\n",
      "  df[t_i_name] = rand_discrete[:,i]\n",
      "Processed Samples: 100%|████████████| 5001/5001 [00:00<00:00, 464526.95sample/s]\n",
      "/var/folders/6y/pv_cpv891fb7v3w2vj8fsz8m0000gn/T/ipykernel_77091/89093489.py:20: PerformanceWarning: DataFrame is highly fragmented.  This is usually the result of calling `frame.insert` many times, which has poor performance.  Consider joining all columns at once using pd.concat(axis=1) instead. To get a de-fragmented frame, use `newframe = frame.copy()`\n",
      "  df[t_i_name] = rand_discrete[:,i]\n"
     ]
    },
    {
     "name": "stdout",
     "output_type": "stream",
     "text": [
      "******************************\n"
     ]
    },
    {
     "name": "stderr",
     "output_type": "stream",
     "text": [
      "Processed Samples: 100%|████████████| 4930/4930 [00:00<00:00, 403408.61sample/s]"
     ]
    },
    {
     "name": "stdout",
     "output_type": "stream",
     "text": [
      "******************************\n"
     ]
    },
    {
     "name": "stderr",
     "output_type": "stream",
     "text": [
      "\n"
     ]
    }
   ],
   "source": [
    "\n",
    "# -- Verifies the effect disappears when the Treatment is replaced with a placebo.\n",
    "# -- generate 100 random treatment variables\n",
    "\n",
    "np.random.seed(123456)\n",
    "\n",
    "b = 100 \n",
    "lb_index = np.round(b* 0.025)\n",
    "ub_index = np.round(b* (1-0.025))\n",
    "\n",
    "n_obs = df.shape[0]\n",
    "rand_discrete = np.random.binomial(1,0.5,[n_obs, b])\n",
    "rand_discrete\n",
    "ate_list = []\n",
    "\n",
    "pseudo_t_list = []\n",
    "\n",
    "for i in range(b):    \n",
    "    t_i_name = 't_{}'.format(i)\n",
    "    pseudo_t_list.append(t_i_name)    \n",
    "    df[t_i_name] = rand_discrete[:,i]\n",
    "    \n",
    "    match_obj = matching(data = df, T = t_i_name, X = X, y = ['y'], id = id)\n",
    "    match_obj.psm(n_neighbors = 1, \n",
    "                  model = LogisticRegression(), \n",
    "                  trim_percentage = 0.1, \n",
    "                  caliper = 0.1,\n",
    "                  verbose = False) \n",
    "\n",
    "    df_ate = match_obj.ate()\n",
    "    ate_i = df_ate.iloc[0]['ate']\n",
    "    ate_list.append(ate_i)\n",
    "    \n"
   ]
  },
  {
   "cell_type": "code",
   "execution_count": 3,
   "id": "d351620d",
   "metadata": {},
   "outputs": [
    {
     "name": "stdout",
     "output_type": "stream",
     "text": [
      "pass placebo test\n"
     ]
    }
   ],
   "source": [
    "critical_value_lb = np.sort(np.array(ate_list))[int(lb_index)]\n",
    "critical_value_ub = np.sort(np.array(ate_list))[int(ub_index)]\n",
    "\n",
    "if (true_ate<=critical_value_ub) and (true_ate>=critical_value_lb):\n",
    "    print('fail placebo test')\n",
    "else:\n",
    "    print('pass placebo test')"
   ]
  },
  {
   "cell_type": "code",
   "execution_count": 10,
   "id": "22e00b45",
   "metadata": {
    "scrolled": true
   },
   "outputs": [],
   "source": [
    "import copy\n",
    "\n",
    "match_obj.data"
   ]
  },
  {
   "cell_type": "code",
   "execution_count": null,
   "id": "c30a9f50",
   "metadata": {},
   "outputs": [],
   "source": []
  },
  {
   "cell_type": "code",
   "execution_count": null,
   "id": "2c8eaf9f",
   "metadata": {},
   "outputs": [],
   "source": []
  },
  {
   "cell_type": "code",
   "execution_count": null,
   "id": "30b7f628",
   "metadata": {},
   "outputs": [],
   "source": []
  },
  {
   "cell_type": "code",
   "execution_count": null,
   "id": "c2807f90",
   "metadata": {},
   "outputs": [],
   "source": []
  },
  {
   "cell_type": "markdown",
   "id": "0e1cfa4d",
   "metadata": {},
   "source": [
    "## 2. add unobserved common cause\n",
    "\n",
    "add an additional common cause to the dataset that is correlated with the treatment and the outcome."
   ]
  },
  {
   "cell_type": "code",
   "execution_count": null,
   "id": "9bec87a7",
   "metadata": {},
   "outputs": [],
   "source": []
  },
  {
   "cell_type": "code",
   "execution_count": null,
   "id": "b92e0302",
   "metadata": {},
   "outputs": [],
   "source": []
  },
  {
   "cell_type": "markdown",
   "id": "0e5cdb26",
   "metadata": {},
   "source": [
    "## 3. data subsets validation"
   ]
  },
  {
   "cell_type": "code",
   "execution_count": null,
   "id": "40c6bebc",
   "metadata": {},
   "outputs": [],
   "source": []
  }
 ],
 "metadata": {
  "kernelspec": {
   "display_name": "Python 3 (ipykernel)",
   "language": "python",
   "name": "python3"
  },
  "language_info": {
   "codemirror_mode": {
    "name": "ipython",
    "version": 3
   },
   "file_extension": ".py",
   "mimetype": "text/x-python",
   "name": "python",
   "nbconvert_exporter": "python",
   "pygments_lexer": "ipython3",
   "version": "3.12.2"
  }
 },
 "nbformat": 4,
 "nbformat_minor": 5
}
